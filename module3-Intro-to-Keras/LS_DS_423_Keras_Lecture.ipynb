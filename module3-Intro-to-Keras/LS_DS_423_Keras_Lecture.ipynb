{
 "cells": [
  {
   "cell_type": "markdown",
   "metadata": {
    "colab_type": "text",
    "id": "HJzTIkYAsLxw"
   },
   "source": [
    "Lambda School Data Science\n",
    "\n",
    "*Unit 4, Sprint 2, Module 3*\n",
    "\n",
    "---"
   ]
  },
  {
   "cell_type": "markdown",
   "metadata": {
    "colab_type": "text",
    "id": "HJzTIkYAsLxw"
   },
   "source": [
    "# Neural Network Frameworks (Prepare)"
   ]
  },
  {
   "cell_type": "markdown",
   "metadata": {
    "colab_type": "text",
    "id": "HJzTIkYAsLxw"
   },
   "source": [
    "## Learning Objectives\n",
    "* <a href=\"#p1\">Part 1</a>: Introduce the Keras Sequential Model API\n",
    "* <a href=\"#p2\">Part 2</a>: Learn How to Select Model Architecture \n",
    "* <a href=\"#p3\">Part 3</a>: Discuss the trade-off between various activation functions\n",
    "\n",
    "## Lets Use Libraries!\n",
    "\n",
    "The objective of the last two days has been to familiarize you with the fundamentals of neural networks: terminology, structure of networks, forward propagation, error/cost functions, backpropagation, epochs, and gradient descent. We have tried to reinforce these topics by requiring to you code some of the simplest neural networks by hand including Perceptrons (single node neural networks) and Multi-Layer Perceptrons also known as Feed-Forward Neural Networks. Continuing to do things by hand would not be the best use of our limited time. You're ready to graduate from doing things by hand and start using some powerful libraries to build cutting-edge predictive models. "
   ]
  },
  {
   "cell_type": "markdown",
   "metadata": {},
   "source": [
    "# Keras Sequential API (Learn)"
   ]
  },
  {
   "cell_type": "markdown",
   "metadata": {
    "toc-hr-collapsed": true
   },
   "source": [
    "## Overview\n",
    "\n",
    "> \"Keras is a high-level neural networks API, written in Python and capable of running on top of TensorFlow, CNTK, or Theano. It was developed with a focus on enabling fast experimentation. Being able to go from idea to result with the least possible delay is key to doing good research. Use Keras if you need a deep learning library that:\n",
    "\n",
    "> Allows for easy and fast prototyping (through user friendliness, modularity, and extensibility).\n",
    "Supports both convolutional networks and recurrent networks, as well as combinations of the two.\n",
    "Runs seamlessly on CPU and GPU.\" "
   ]
  },
  {
   "cell_type": "markdown",
   "metadata": {
    "colab_type": "text",
    "id": "AIJoRBxHy27n"
   },
   "source": [
    "### Keras Perceptron Sample"
   ]
  },
  {
   "cell_type": "code",
   "execution_count": 1,
   "metadata": {},
   "outputs": [],
   "source": [
    "import pandas as pd\n",
    "\n",
    "data = { 'x1': [0,1,0,1],\n",
    "         'x2': [0,0,1,1],\n",
    "         'y':  [1,1,1,0]\n",
    "       }\n",
    "\n",
    "df = pd.DataFrame.from_dict(data).astype('int')\n",
    "X = df[['x1', 'x2']].values\n",
    "y = df['y'].values"
   ]
  },
  {
   "cell_type": "code",
   "execution_count": 2,
   "metadata": {
    "colab": {
     "base_uri": "https://localhost:8080/",
     "height": 5216
    },
    "colab_type": "code",
    "id": "TQxyONqKvFxB",
    "outputId": "12966e66-2297-4f82-85b3-c275a9c38563"
   },
   "outputs": [
    {
     "name": "stdout",
     "output_type": "stream",
     "text": [
      "Train on 4 samples\n",
      "Epoch 1/5\n",
      "4/4 [==============================] - 1s 169ms/sample - loss: 0.7674 - accuracy: 0.5000\n",
      "Epoch 2/5\n",
      "4/4 [==============================] - 0s 948us/sample - loss: 0.7668 - accuracy: 0.7500\n",
      "Epoch 3/5\n",
      "4/4 [==============================] - 0s 788us/sample - loss: 0.7663 - accuracy: 0.7500\n",
      "Epoch 4/5\n",
      "4/4 [==============================] - 0s 631us/sample - loss: 0.7657 - accuracy: 0.7500\n",
      "Epoch 5/5\n",
      "4/4 [==============================] - 0s 578us/sample - loss: 0.7652 - accuracy: 0.7500\n"
     ]
    },
    {
     "data": {
      "text/plain": [
       "<tensorflow.python.keras.callbacks.History at 0x7f83d868cd30>"
      ]
     },
     "execution_count": 2,
     "metadata": {},
     "output_type": "execute_result"
    }
   ],
   "source": [
    "from tensorflow.keras.models import Sequential\n",
    "from tensorflow.keras.layers import Dense\n",
    "\n",
    "# This is our perceptron from Monday's by-hand: \n",
    "model = Sequential()\n",
    "model.add(Dense(1,input_dim=2, activation='sigmoid'))\n",
    "model.compile(loss='binary_crossentropy', optimizer='adam', metrics=['accuracy'])\n",
    "model.fit(X,y, epochs=5)"
   ]
  },
  {
   "cell_type": "code",
   "execution_count": 3,
   "metadata": {
    "colab": {
     "base_uri": "https://localhost:8080/",
     "height": 69
    },
    "colab_type": "code",
    "id": "Z1wfKUxszPKa",
    "outputId": "0cdacd1d-6e5a-4bbe-fabb-568cd94724be"
   },
   "outputs": [
    {
     "name": "stdout",
     "output_type": "stream",
     "text": [
      "4/1 [========================================================================================================================] - 0s 18ms/sample - loss: 0.7647 - accuracy: 0.7500\n",
      "accuracy: 75.0\n"
     ]
    }
   ],
   "source": [
    "# evaluate the model\n",
    "scores = model.evaluate(X, y)\n",
    "print(f\"{model.metrics_names[1]}: {scores[1]*100}\")"
   ]
  },
  {
   "cell_type": "markdown",
   "metadata": {
    "toc-hr-collapsed": true
   },
   "source": [
    "## Follow Along\n",
    "\n",
    "In the `Sequential` api model, you specify a model architecture by 'sequentially specifying layers. This type of specification works well for feed forward neural networks in which the data flows in one direction (forward propagation) and the error flows in the opposite direction (backwards propagation). The Keras `Sequential` API follows a standardarized worklow to estimate a 'net: \n",
    "\n",
    "1. Load Data\n",
    "2. Define Model\n",
    "3. Compile Model\n",
    "4. Fit Model\n",
    "5. Evaluate Model\n",
    "\n",
    "You saw these steps in our Keras Perceptron Sample, but let's walk thru each step in detail."
   ]
  },
  {
   "cell_type": "markdown",
   "metadata": {
    "colab_type": "text",
    "id": "Md5D67XwqVAf",
    "toc-hr-collapsed": false
   },
   "source": [
    "### Load Data\n",
    "\n",
    "Our life is going to be easier if our data is already cleaned up and numeric, so lets use this dataset from Jason Brownlee that is already numeric and has no column headers so we'll need to slice off the last column of data to act as our y values."
   ]
  },
  {
   "cell_type": "code",
   "execution_count": 4,
   "metadata": {
    "colab": {
     "base_uri": "https://localhost:8080/",
     "height": 109,
     "resources": {
      "http://localhost:8080/nbextensions/google.colab/files.js": {
       "data": "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",
       "headers": [
        [
         "content-type",
         "application/javascript"
        ]
       ],
       "ok": true,
       "status": 200,
       "status_text": ""
      }
     }
    },
    "colab_type": "code",
    "id": "bn09phMBpY1J",
    "outputId": "1c45fb6a-e3cb-4ec1-fb85-de52b3c60bae"
   },
   "outputs": [],
   "source": [
    "import pandas as pd\n",
    "\n",
    "url =\"https://raw.githubusercontent.com/jbrownlee/Datasets/master/pima-indians-diabetes.data.csv\"\n",
    "\n",
    "dataset = pd.read_csv(url, header=None)"
   ]
  },
  {
   "cell_type": "code",
   "execution_count": 5,
   "metadata": {},
   "outputs": [
    {
     "data": {
      "text/html": [
       "<div>\n",
       "<style scoped>\n",
       "    .dataframe tbody tr th:only-of-type {\n",
       "        vertical-align: middle;\n",
       "    }\n",
       "\n",
       "    .dataframe tbody tr th {\n",
       "        vertical-align: top;\n",
       "    }\n",
       "\n",
       "    .dataframe thead th {\n",
       "        text-align: right;\n",
       "    }\n",
       "</style>\n",
       "<table border=\"1\" class=\"dataframe\">\n",
       "  <thead>\n",
       "    <tr style=\"text-align: right;\">\n",
       "      <th></th>\n",
       "      <th>0</th>\n",
       "      <th>1</th>\n",
       "      <th>2</th>\n",
       "      <th>3</th>\n",
       "      <th>4</th>\n",
       "      <th>5</th>\n",
       "      <th>6</th>\n",
       "      <th>7</th>\n",
       "      <th>8</th>\n",
       "    </tr>\n",
       "  </thead>\n",
       "  <tbody>\n",
       "    <tr>\n",
       "      <th>0</th>\n",
       "      <td>6</td>\n",
       "      <td>148</td>\n",
       "      <td>72</td>\n",
       "      <td>35</td>\n",
       "      <td>0</td>\n",
       "      <td>33.6</td>\n",
       "      <td>0.627</td>\n",
       "      <td>50</td>\n",
       "      <td>1</td>\n",
       "    </tr>\n",
       "    <tr>\n",
       "      <th>1</th>\n",
       "      <td>1</td>\n",
       "      <td>85</td>\n",
       "      <td>66</td>\n",
       "      <td>29</td>\n",
       "      <td>0</td>\n",
       "      <td>26.6</td>\n",
       "      <td>0.351</td>\n",
       "      <td>31</td>\n",
       "      <td>0</td>\n",
       "    </tr>\n",
       "    <tr>\n",
       "      <th>2</th>\n",
       "      <td>8</td>\n",
       "      <td>183</td>\n",
       "      <td>64</td>\n",
       "      <td>0</td>\n",
       "      <td>0</td>\n",
       "      <td>23.3</td>\n",
       "      <td>0.672</td>\n",
       "      <td>32</td>\n",
       "      <td>1</td>\n",
       "    </tr>\n",
       "    <tr>\n",
       "      <th>3</th>\n",
       "      <td>1</td>\n",
       "      <td>89</td>\n",
       "      <td>66</td>\n",
       "      <td>23</td>\n",
       "      <td>94</td>\n",
       "      <td>28.1</td>\n",
       "      <td>0.167</td>\n",
       "      <td>21</td>\n",
       "      <td>0</td>\n",
       "    </tr>\n",
       "    <tr>\n",
       "      <th>4</th>\n",
       "      <td>0</td>\n",
       "      <td>137</td>\n",
       "      <td>40</td>\n",
       "      <td>35</td>\n",
       "      <td>168</td>\n",
       "      <td>43.1</td>\n",
       "      <td>2.288</td>\n",
       "      <td>33</td>\n",
       "      <td>1</td>\n",
       "    </tr>\n",
       "  </tbody>\n",
       "</table>\n",
       "</div>"
      ],
      "text/plain": [
       "   0    1   2   3    4     5      6   7  8\n",
       "0  6  148  72  35    0  33.6  0.627  50  1\n",
       "1  1   85  66  29    0  26.6  0.351  31  0\n",
       "2  8  183  64   0    0  23.3  0.672  32  1\n",
       "3  1   89  66  23   94  28.1  0.167  21  0\n",
       "4  0  137  40  35  168  43.1  2.288  33  1"
      ]
     },
     "execution_count": 5,
     "metadata": {},
     "output_type": "execute_result"
    }
   ],
   "source": [
    "dataset.head()"
   ]
  },
  {
   "cell_type": "code",
   "execution_count": 6,
   "metadata": {
    "colab": {
     "base_uri": "https://localhost:8080/",
     "height": 725
    },
    "colab_type": "code",
    "id": "FKuofD3Pogil",
    "outputId": "16c2f4fa-93c8-491d-b339-9f35f7918621"
   },
   "outputs": [
    {
     "name": "stdout",
     "output_type": "stream",
     "text": [
      "(768, 8)\n",
      "[[  6.    148.     72.    ...  33.6     0.627  50.   ]\n",
      " [  1.     85.     66.    ...  26.6     0.351  31.   ]\n",
      " [  8.    183.     64.    ...  23.3     0.672  32.   ]\n",
      " ...\n",
      " [  5.    121.     72.    ...  26.2     0.245  30.   ]\n",
      " [  1.    126.     60.    ...  30.1     0.349  47.   ]\n",
      " [  1.     93.     70.    ...  30.4     0.315  23.   ]]\n"
     ]
    }
   ],
   "source": [
    "X = dataset.values[:,0:8]\n",
    "print(X.shape)\n",
    "print(X)"
   ]
  },
  {
   "cell_type": "code",
   "execution_count": 7,
   "metadata": {},
   "outputs": [
    {
     "name": "stdout",
     "output_type": "stream",
     "text": [
      "(768,)\n",
      "[1. 0. 1. 0. 1. 0. 1. 0. 1. 1. 0. 1. 0. 1. 1. 1. 1. 1. 0. 1. 0. 0. 1. 1.\n",
      " 1. 1. 1. 0. 0. 0. 0. 1. 0. 0. 0. 0. 0. 1. 1. 1. 0. 0. 0. 1. 0. 1. 0. 0.\n",
      " 1. 0. 0. 0. 0. 1. 0. 0. 1. 0. 0. 0. 0. 1. 0. 0. 1. 0. 1. 0. 0. 0. 1. 0.\n",
      " 1. 0. 0. 0. 0. 0. 1. 0. 0. 0. 0. 0. 1. 0. 0. 0. 1. 0. 0. 0. 0. 1. 0. 0.\n",
      " 0. 0. 0. 1. 1. 0. 0. 0. 0. 0. 0. 0. 0. 1. 1. 1. 0. 0. 1. 1. 1. 0. 0. 0.\n",
      " 1. 0. 0. 0. 1. 1. 0. 0. 1. 1. 1. 1. 1. 0. 0. 0. 0. 0. 0. 0. 0. 0. 0. 1.\n",
      " 0. 0. 0. 0. 0. 0. 0. 0. 1. 0. 1. 1. 0. 0. 0. 1. 0. 0. 0. 0. 1. 1. 0. 0.\n",
      " 0. 0. 1. 1. 0. 0. 0. 1. 0. 1. 0. 1. 0. 0. 0. 0. 0. 1. 1. 1. 1. 1. 0. 0.\n",
      " 1. 1. 0. 1. 0. 1. 1. 1. 0. 0. 0. 0. 0. 0. 1. 1. 0. 1. 0. 0. 0. 1. 1. 1.\n",
      " 1. 0. 1. 1. 1. 1. 0. 0. 0. 0. 0. 1. 0. 0. 1. 1. 0. 0. 0. 1. 1. 1. 1. 0.\n",
      " 0. 0. 1. 1. 0. 1. 0. 0. 0. 0. 0. 0. 0. 0. 1. 1. 0. 0. 0. 1. 0. 1. 0. 0.\n",
      " 1. 0. 1. 0. 0. 1. 1. 0. 0. 0. 0. 0. 1. 0. 0. 0. 1. 0. 0. 1. 1. 0. 0. 1.\n",
      " 0. 0. 0. 1. 1. 1. 0. 0. 1. 0. 1. 0. 1. 1. 0. 1. 0. 0. 1. 0. 1. 1. 0. 0.\n",
      " 1. 0. 1. 0. 0. 1. 0. 1. 0. 1. 1. 1. 0. 0. 1. 0. 1. 0. 0. 0. 1. 0. 0. 0.\n",
      " 0. 1. 1. 1. 0. 0. 0. 0. 0. 0. 0. 0. 0. 1. 0. 0. 0. 0. 0. 1. 1. 1. 0. 1.\n",
      " 1. 0. 0. 1. 0. 0. 1. 0. 0. 1. 1. 0. 0. 0. 0. 1. 0. 0. 1. 0. 0. 0. 0. 0.\n",
      " 0. 0. 1. 1. 1. 0. 0. 1. 0. 0. 1. 0. 0. 1. 0. 1. 1. 0. 1. 0. 1. 0. 1. 0.\n",
      " 1. 1. 0. 0. 0. 0. 1. 1. 0. 1. 0. 1. 0. 0. 0. 0. 1. 1. 0. 1. 0. 1. 0. 0.\n",
      " 0. 0. 0. 1. 0. 0. 0. 0. 1. 0. 0. 1. 1. 1. 0. 0. 1. 0. 0. 1. 0. 0. 0. 1.\n",
      " 0. 0. 1. 0. 0. 0. 0. 0. 0. 0. 0. 0. 1. 0. 0. 0. 0. 0. 0. 0. 1. 0. 0. 0.\n",
      " 1. 0. 0. 0. 1. 1. 0. 0. 0. 0. 0. 0. 0. 1. 0. 0. 0. 0. 1. 0. 0. 0. 1. 0.\n",
      " 0. 0. 1. 0. 0. 0. 1. 0. 0. 0. 0. 1. 1. 0. 0. 0. 0. 0. 0. 1. 0. 0. 0. 0.\n",
      " 0. 0. 0. 0. 0. 0. 0. 1. 0. 0. 0. 1. 1. 1. 1. 0. 0. 1. 1. 0. 0. 0. 0. 0.\n",
      " 0. 0. 0. 0. 0. 0. 0. 0. 1. 1. 0. 0. 0. 0. 0. 0. 0. 1. 0. 0. 0. 0. 0. 0.\n",
      " 0. 1. 0. 1. 1. 0. 0. 0. 1. 0. 1. 0. 1. 0. 1. 0. 1. 0. 0. 1. 0. 0. 1. 0.\n",
      " 0. 0. 0. 1. 1. 0. 1. 0. 0. 0. 0. 1. 1. 0. 1. 0. 0. 0. 1. 1. 0. 0. 0. 0.\n",
      " 0. 0. 0. 0. 0. 0. 1. 0. 0. 0. 0. 1. 0. 0. 1. 0. 0. 0. 1. 0. 0. 0. 1. 1.\n",
      " 1. 0. 0. 0. 0. 0. 0. 1. 0. 0. 0. 1. 0. 1. 1. 1. 1. 0. 1. 1. 0. 0. 0. 0.\n",
      " 0. 0. 0. 1. 1. 0. 1. 0. 0. 1. 0. 1. 0. 0. 0. 0. 0. 1. 0. 1. 0. 1. 0. 1.\n",
      " 1. 0. 0. 0. 0. 1. 1. 0. 0. 0. 1. 0. 1. 1. 0. 0. 1. 0. 0. 1. 1. 0. 0. 1.\n",
      " 0. 0. 1. 0. 0. 0. 0. 0. 0. 0. 1. 1. 1. 0. 0. 0. 0. 0. 0. 1. 1. 0. 0. 1.\n",
      " 0. 0. 1. 0. 1. 1. 1. 0. 0. 1. 1. 1. 0. 1. 0. 1. 0. 1. 0. 0. 0. 0. 1. 0.]\n"
     ]
    }
   ],
   "source": [
    "y = dataset.values[:,-1]\n",
    "print(y.shape)\n",
    "print(y)"
   ]
  },
  {
   "cell_type": "markdown",
   "metadata": {
    "colab_type": "text",
    "id": "o0xMqOyTs5xt"
   },
   "source": [
    "### Define Model"
   ]
  },
  {
   "cell_type": "code",
   "execution_count": 8,
   "metadata": {
    "colab": {},
    "colab_type": "code",
    "id": "Bp9USczrfu6M"
   },
   "outputs": [],
   "source": [
    "from tensorflow.keras.models import Sequential\n",
    "from tensorflow.keras.layers import Dense\n",
    "\n",
    "import numpy as np\n",
    "\n",
    "np.random.seed(812)"
   ]
  },
  {
   "cell_type": "markdown",
   "metadata": {
    "colab_type": "text",
    "id": "wAzHLg27thoN"
   },
   "source": [
    "I'll instantiate my model as a \"sequential\" model. This just means that I'm going to tell Keras what my model's architecture should be one layer at a time."
   ]
  },
  {
   "cell_type": "code",
   "execution_count": 9,
   "metadata": {
    "colab": {},
    "colab_type": "code",
    "id": "DSNsL49Xp6KI"
   },
   "outputs": [],
   "source": [
    "# https://keras.io/getting-started/sequential-model-guide/\n",
    "model = Sequential()"
   ]
  },
  {
   "cell_type": "markdown",
   "metadata": {
    "colab_type": "text",
    "id": "ZCYX6QzJtvpG"
   },
   "source": [
    "Adding a \"Dense\" layer to our model is how we add \"vanilla\" perceptron-based layers to our neural network. These are also called \"fully-connected\" or \"densely-connected\" layers. They're used as a layer type in lots of other Neural Net Architectures but they're not referred to as perceptrons or multi-layer perceptrons very often in those situations even though that's what they are.\n",
    "\n",
    " > [\"Just your regular densely-connected NN layer.\"](https://keras.io/layers/core/)\n",
    " \n",
    " The first argument is how many neurons we want to have in that layer. To create a perceptron model we will just set it to 1. We will tell it that there will be 8 inputs coming into this layer from our dataset and set it to use the sigmoid activation function."
   ]
  },
  {
   "cell_type": "code",
   "execution_count": 11,
   "metadata": {
    "colab": {
     "base_uri": "https://localhost:8080/",
     "height": 89
    },
    "colab_type": "code",
    "id": "GNzOLidxtvFa",
    "outputId": "35b1457d-0189-49f1-aa6d-3ef15b29bd6e"
   },
   "outputs": [],
   "source": [
    "model.add(Dense(1, input_dim=8, activation=\"sigmoid\")) #Relu is valid option. "
   ]
  },
  {
   "cell_type": "markdown",
   "metadata": {
    "colab_type": "text",
    "id": "EnI3jwKMtBL2",
    "toc-hr-collapsed": false
   },
   "source": [
    "### Compile Model\n",
    "Using binary_crossentropy as the loss function here is just telling keras that I'm doing binary classification so that it can use the appropriate loss function accordingly. If we were predicting non-binary categories we might assign something like `categorical_crossentropy`. We're also telling keras that we want it to report model accuracy as our main error metric for each epoch. We will also be able to see the overall accuracy once the model has finished training.\n",
    "\n",
    "#### Adam Optimizer\n",
    "Check out this links for more background on the Adam optimizer and Stohastic Gradient Descent\n",
    "* [Adam Optimization Algorithm](https://machinelearningmastery.com/adam-optimization-algorithm-for-deep-learning/)\n",
    "* [Adam Optimizer - original paper](https://arxiv.org/abs/1412.6980)"
   ]
  },
  {
   "cell_type": "code",
   "execution_count": 12,
   "metadata": {
    "colab": {},
    "colab_type": "code",
    "id": "qp6xwYaqurRO"
   },
   "outputs": [],
   "source": [
    "model.compile(loss='binary_crossentropy', optimizer='adam', metrics=['accuracy'])\n",
    "# loss calaculate the gradient\n",
    "# optimizer updates the weights we can use gradient or stochastic\n",
    "#metric print out during process of trianing \n"
   ]
  },
  {
   "cell_type": "markdown",
   "metadata": {
    "colab_type": "text",
    "id": "5dW8SZ2Ls9SX",
    "toc-hr-collapsed": false
   },
   "source": [
    "### Fit Model\n",
    "\n",
    "Lets train it up! `model.fit()` has a `batch_size` parameter that we can use if we want to do mini-batch epochs, but since this tabular dataset is pretty small we're just going to delete that parameter. Keras' default `batch_size` is `None` so omiting it will tell Keras to do batch epochs."
   ]
  },
  {
   "cell_type": "code",
   "execution_count": 13,
   "metadata": {},
   "outputs": [
    {
     "name": "stdout",
     "output_type": "stream",
     "text": [
      "Train on 768 samples\n",
      "Epoch 1/150\n",
      "768/768 [==============================] - 0s 644us/sample - loss: 0.6904 - accuracy: 0.6510\n",
      "Epoch 2/150\n",
      "768/768 [==============================] - 0s 40us/sample - loss: 0.6853 - accuracy: 0.6510\n",
      "Epoch 3/150\n",
      "768/768 [==============================] - 0s 41us/sample - loss: 0.6806 - accuracy: 0.6510\n",
      "Epoch 4/150\n",
      "768/768 [==============================] - 0s 41us/sample - loss: 0.6762 - accuracy: 0.6510\n",
      "Epoch 5/150\n",
      "768/768 [==============================] - 0s 43us/sample - loss: 0.6723 - accuracy: 0.6510\n",
      "Epoch 6/150\n",
      "768/768 [==============================] - 0s 39us/sample - loss: 0.6687 - accuracy: 0.6510\n",
      "Epoch 7/150\n",
      "768/768 [==============================] - 0s 42us/sample - loss: 0.6655 - accuracy: 0.6510\n",
      "Epoch 8/150\n",
      "768/768 [==============================] - 0s 43us/sample - loss: 0.6623 - accuracy: 0.6510\n",
      "Epoch 9/150\n",
      "768/768 [==============================] - 0s 38us/sample - loss: 0.6595 - accuracy: 0.6510\n",
      "Epoch 10/150\n",
      "768/768 [==============================] - 0s 42us/sample - loss: 0.6563 - accuracy: 0.6510\n",
      "Epoch 11/150\n",
      "768/768 [==============================] - 0s 40us/sample - loss: 0.6522 - accuracy: 0.6510\n",
      "Epoch 12/150\n",
      "768/768 [==============================] - 0s 38us/sample - loss: 0.6498 - accuracy: 0.6510\n",
      "Epoch 13/150\n",
      "768/768 [==============================] - 0s 40us/sample - loss: 0.6476 - accuracy: 0.6510\n",
      "Epoch 14/150\n",
      "768/768 [==============================] - 0s 39us/sample - loss: 0.6463 - accuracy: 0.6510\n",
      "Epoch 15/150\n",
      "768/768 [==============================] - 0s 42us/sample - loss: 0.6449 - accuracy: 0.6510\n",
      "Epoch 16/150\n",
      "768/768 [==============================] - 0s 40us/sample - loss: 0.6439 - accuracy: 0.6510\n",
      "Epoch 17/150\n",
      "768/768 [==============================] - 0s 43us/sample - loss: 0.6430 - accuracy: 0.6510\n",
      "Epoch 18/150\n",
      "768/768 [==============================] - 0s 43us/sample - loss: 0.6423 - accuracy: 0.6510\n",
      "Epoch 19/150\n",
      "768/768 [==============================] - 0s 43us/sample - loss: 0.6417 - accuracy: 0.6510\n",
      "Epoch 20/150\n",
      "768/768 [==============================] - 0s 44us/sample - loss: 0.6411 - accuracy: 0.6510\n",
      "Epoch 21/150\n",
      "768/768 [==============================] - 0s 43us/sample - loss: 0.6407 - accuracy: 0.6510\n",
      "Epoch 22/150\n",
      "768/768 [==============================] - 0s 40us/sample - loss: 0.6403 - accuracy: 0.6510\n",
      "Epoch 23/150\n",
      "768/768 [==============================] - 0s 43us/sample - loss: 0.6400 - accuracy: 0.6510\n",
      "Epoch 24/150\n",
      "768/768 [==============================] - 0s 38us/sample - loss: 0.6396 - accuracy: 0.6510\n",
      "Epoch 25/150\n",
      "768/768 [==============================] - 0s 42us/sample - loss: 0.6394 - accuracy: 0.6510\n",
      "Epoch 26/150\n",
      "768/768 [==============================] - 0s 55us/sample - loss: 0.6393 - accuracy: 0.6510\n",
      "Epoch 27/150\n",
      "768/768 [==============================] - 0s 41us/sample - loss: 0.6390 - accuracy: 0.6510\n",
      "Epoch 28/150\n",
      "768/768 [==============================] - 0s 40us/sample - loss: 0.6387 - accuracy: 0.6510\n",
      "Epoch 29/150\n",
      "768/768 [==============================] - 0s 41us/sample - loss: 0.6387 - accuracy: 0.6510\n",
      "Epoch 30/150\n",
      "768/768 [==============================] - 0s 41us/sample - loss: 0.6384 - accuracy: 0.6510\n",
      "Epoch 31/150\n",
      "768/768 [==============================] - 0s 41us/sample - loss: 0.6383 - accuracy: 0.6510\n",
      "Epoch 32/150\n",
      "768/768 [==============================] - 0s 41us/sample - loss: 0.6381 - accuracy: 0.6510\n",
      "Epoch 33/150\n",
      "768/768 [==============================] - 0s 42us/sample - loss: 0.6380 - accuracy: 0.6510\n",
      "Epoch 34/150\n",
      "768/768 [==============================] - 0s 42us/sample - loss: 0.6379 - accuracy: 0.6510\n",
      "Epoch 35/150\n",
      "768/768 [==============================] - 0s 41us/sample - loss: 0.6379 - accuracy: 0.6510\n",
      "Epoch 36/150\n",
      "768/768 [==============================] - 0s 41us/sample - loss: 0.6379 - accuracy: 0.6510\n",
      "Epoch 37/150\n",
      "768/768 [==============================] - 0s 48us/sample - loss: 0.6377 - accuracy: 0.6510\n",
      "Epoch 38/150\n",
      "768/768 [==============================] - 0s 49us/sample - loss: 0.6376 - accuracy: 0.6510\n",
      "Epoch 39/150\n",
      "768/768 [==============================] - 0s 46us/sample - loss: 0.6374 - accuracy: 0.6510\n",
      "Epoch 40/150\n",
      "768/768 [==============================] - 0s 42us/sample - loss: 0.6374 - accuracy: 0.6510\n",
      "Epoch 41/150\n",
      "768/768 [==============================] - 0s 44us/sample - loss: 0.6372 - accuracy: 0.6510\n",
      "Epoch 42/150\n",
      "768/768 [==============================] - 0s 41us/sample - loss: 0.6372 - accuracy: 0.6510\n",
      "Epoch 43/150\n",
      "768/768 [==============================] - 0s 48us/sample - loss: 0.6371 - accuracy: 0.6510\n",
      "Epoch 44/150\n",
      "768/768 [==============================] - 0s 47us/sample - loss: 0.6372 - accuracy: 0.6510\n",
      "Epoch 45/150\n",
      "768/768 [==============================] - 0s 42us/sample - loss: 0.6369 - accuracy: 0.6510\n",
      "Epoch 46/150\n",
      "768/768 [==============================] - 0s 49us/sample - loss: 0.6369 - accuracy: 0.6510\n",
      "Epoch 47/150\n",
      "768/768 [==============================] - 0s 44us/sample - loss: 0.6368 - accuracy: 0.6510\n",
      "Epoch 48/150\n",
      "768/768 [==============================] - 0s 42us/sample - loss: 0.6368 - accuracy: 0.6510\n",
      "Epoch 49/150\n",
      "768/768 [==============================] - 0s 40us/sample - loss: 0.6368 - accuracy: 0.6510\n",
      "Epoch 50/150\n",
      "768/768 [==============================] - 0s 39us/sample - loss: 0.6366 - accuracy: 0.6510\n",
      "Epoch 51/150\n",
      "768/768 [==============================] - 0s 45us/sample - loss: 0.6368 - accuracy: 0.6510\n",
      "Epoch 52/150\n",
      "768/768 [==============================] - 0s 43us/sample - loss: 0.6366 - accuracy: 0.6510\n",
      "Epoch 53/150\n",
      "768/768 [==============================] - 0s 41us/sample - loss: 0.6365 - accuracy: 0.6510\n",
      "Epoch 54/150\n",
      "768/768 [==============================] - 0s 43us/sample - loss: 0.6364 - accuracy: 0.6510\n",
      "Epoch 55/150\n",
      "768/768 [==============================] - 0s 44us/sample - loss: 0.6366 - accuracy: 0.6510\n",
      "Epoch 56/150\n",
      "768/768 [==============================] - 0s 42us/sample - loss: 0.6363 - accuracy: 0.6510\n",
      "Epoch 57/150\n",
      "768/768 [==============================] - 0s 42us/sample - loss: 0.6364 - accuracy: 0.6510\n",
      "Epoch 58/150\n",
      "768/768 [==============================] - 0s 43us/sample - loss: 0.6366 - accuracy: 0.6510\n",
      "Epoch 59/150\n",
      "768/768 [==============================] - 0s 48us/sample - loss: 0.6365 - accuracy: 0.6510\n",
      "Epoch 60/150\n",
      "768/768 [==============================] - 0s 43us/sample - loss: 0.6364 - accuracy: 0.6510\n",
      "Epoch 61/150\n",
      "768/768 [==============================] - 0s 41us/sample - loss: 0.6360 - accuracy: 0.6510\n",
      "Epoch 62/150\n",
      "768/768 [==============================] - 0s 40us/sample - loss: 0.6361 - accuracy: 0.6510\n",
      "Epoch 63/150\n",
      "768/768 [==============================] - 0s 41us/sample - loss: 0.6359 - accuracy: 0.6510\n",
      "Epoch 64/150\n",
      "768/768 [==============================] - 0s 45us/sample - loss: 0.6361 - accuracy: 0.6510\n",
      "Epoch 65/150\n",
      "768/768 [==============================] - 0s 40us/sample - loss: 0.6358 - accuracy: 0.6510\n",
      "Epoch 66/150\n",
      "768/768 [==============================] - 0s 48us/sample - loss: 0.6358 - accuracy: 0.6510\n",
      "Epoch 67/150\n",
      "768/768 [==============================] - 0s 49us/sample - loss: 0.6357 - accuracy: 0.6510\n",
      "Epoch 68/150\n",
      "768/768 [==============================] - 0s 43us/sample - loss: 0.6358 - accuracy: 0.6510\n",
      "Epoch 69/150\n",
      "768/768 [==============================] - 0s 40us/sample - loss: 0.6356 - accuracy: 0.6510\n",
      "Epoch 70/150\n",
      "768/768 [==============================] - 0s 40us/sample - loss: 0.6358 - accuracy: 0.6510\n",
      "Epoch 71/150\n",
      "768/768 [==============================] - 0s 40us/sample - loss: 0.6358 - accuracy: 0.6510\n",
      "Epoch 72/150\n",
      "768/768 [==============================] - 0s 41us/sample - loss: 0.6354 - accuracy: 0.6510\n",
      "Epoch 73/150\n",
      "768/768 [==============================] - 0s 42us/sample - loss: 0.6355 - accuracy: 0.6510\n",
      "Epoch 74/150\n",
      "768/768 [==============================] - 0s 40us/sample - loss: 0.6358 - accuracy: 0.6510\n",
      "Epoch 75/150\n",
      "768/768 [==============================] - 0s 41us/sample - loss: 0.6353 - accuracy: 0.6510\n",
      "Epoch 76/150\n",
      "768/768 [==============================] - 0s 43us/sample - loss: 0.6353 - accuracy: 0.6510\n",
      "Epoch 77/150\n",
      "768/768 [==============================] - 0s 40us/sample - loss: 0.6352 - accuracy: 0.6510\n",
      "Epoch 78/150\n",
      "768/768 [==============================] - 0s 40us/sample - loss: 0.6354 - accuracy: 0.6510\n",
      "Epoch 79/150\n",
      "768/768 [==============================] - 0s 43us/sample - loss: 0.6350 - accuracy: 0.6510\n",
      "Epoch 80/150\n",
      "768/768 [==============================] - 0s 43us/sample - loss: 0.6351 - accuracy: 0.6510\n",
      "Epoch 81/150\n",
      "768/768 [==============================] - 0s 45us/sample - loss: 0.6350 - accuracy: 0.6510\n",
      "Epoch 82/150\n",
      "768/768 [==============================] - 0s 46us/sample - loss: 0.6349 - accuracy: 0.6510\n",
      "Epoch 83/150\n",
      "768/768 [==============================] - 0s 41us/sample - loss: 0.6348 - accuracy: 0.6510\n",
      "Epoch 84/150\n",
      "768/768 [==============================] - 0s 47us/sample - loss: 0.6348 - accuracy: 0.6510\n",
      "Epoch 85/150\n",
      "768/768 [==============================] - 0s 47us/sample - loss: 0.6348 - accuracy: 0.6510\n",
      "Epoch 86/150\n",
      "768/768 [==============================] - 0s 39us/sample - loss: 0.6348 - accuracy: 0.6510\n",
      "Epoch 87/150\n",
      "768/768 [==============================] - 0s 41us/sample - loss: 0.6350 - accuracy: 0.6510\n",
      "Epoch 88/150\n",
      "768/768 [==============================] - 0s 42us/sample - loss: 0.6346 - accuracy: 0.6510\n",
      "Epoch 89/150\n",
      "768/768 [==============================] - 0s 43us/sample - loss: 0.6346 - accuracy: 0.6510\n",
      "Epoch 90/150\n",
      "768/768 [==============================] - 0s 44us/sample - loss: 0.6345 - accuracy: 0.6510\n",
      "Epoch 91/150\n",
      "768/768 [==============================] - 0s 42us/sample - loss: 0.6345 - accuracy: 0.6510\n",
      "Epoch 92/150\n",
      "768/768 [==============================] - 0s 40us/sample - loss: 0.6345 - accuracy: 0.6510\n",
      "Epoch 93/150\n",
      "768/768 [==============================] - 0s 45us/sample - loss: 0.6344 - accuracy: 0.6510\n",
      "Epoch 94/150\n",
      "768/768 [==============================] - 0s 45us/sample - loss: 0.6344 - accuracy: 0.6510\n",
      "Epoch 95/150\n",
      "768/768 [==============================] - 0s 41us/sample - loss: 0.6343 - accuracy: 0.6510\n",
      "Epoch 96/150\n",
      "768/768 [==============================] - 0s 39us/sample - loss: 0.6344 - accuracy: 0.6510\n",
      "Epoch 97/150\n",
      "768/768 [==============================] - 0s 45us/sample - loss: 0.6344 - accuracy: 0.6510\n",
      "Epoch 98/150\n",
      "768/768 [==============================] - ETA: 0s - loss: 0.7004 - accuracy: 0.53 - 0s 40us/sample - loss: 0.6342 - accuracy: 0.6510\n",
      "Epoch 99/150\n",
      "768/768 [==============================] - 0s 43us/sample - loss: 0.6343 - accuracy: 0.6510\n",
      "Epoch 100/150\n",
      "768/768 [==============================] - 0s 47us/sample - loss: 0.6342 - accuracy: 0.6510\n",
      "Epoch 101/150\n",
      "768/768 [==============================] - 0s 45us/sample - loss: 0.6341 - accuracy: 0.6510\n",
      "Epoch 102/150\n",
      "768/768 [==============================] - 0s 46us/sample - loss: 0.6342 - accuracy: 0.6510\n",
      "Epoch 103/150\n",
      "768/768 [==============================] - 0s 42us/sample - loss: 0.6341 - accuracy: 0.6510\n",
      "Epoch 104/150\n",
      "768/768 [==============================] - 0s 45us/sample - loss: 0.6340 - accuracy: 0.6510\n",
      "Epoch 105/150\n",
      "768/768 [==============================] - 0s 50us/sample - loss: 0.6341 - accuracy: 0.6510\n",
      "Epoch 106/150\n",
      "768/768 [==============================] - 0s 44us/sample - loss: 0.6339 - accuracy: 0.6510\n",
      "Epoch 107/150\n",
      "768/768 [==============================] - 0s 43us/sample - loss: 0.6339 - accuracy: 0.6510\n",
      "Epoch 108/150\n",
      "768/768 [==============================] - 0s 47us/sample - loss: 0.6339 - accuracy: 0.6510\n",
      "Epoch 109/150\n",
      "768/768 [==============================] - 0s 40us/sample - loss: 0.6339 - accuracy: 0.6510\n",
      "Epoch 110/150\n",
      "768/768 [==============================] - 0s 47us/sample - loss: 0.6338 - accuracy: 0.6510\n",
      "Epoch 111/150\n",
      "768/768 [==============================] - 0s 42us/sample - loss: 0.6337 - accuracy: 0.6510\n",
      "Epoch 112/150\n",
      "768/768 [==============================] - 0s 43us/sample - loss: 0.6337 - accuracy: 0.6510\n",
      "Epoch 113/150\n",
      "768/768 [==============================] - 0s 41us/sample - loss: 0.6336 - accuracy: 0.6510\n",
      "Epoch 114/150\n",
      "768/768 [==============================] - 0s 44us/sample - loss: 0.6338 - accuracy: 0.6510\n",
      "Epoch 115/150\n",
      "768/768 [==============================] - 0s 43us/sample - loss: 0.6336 - accuracy: 0.6510\n",
      "Epoch 116/150\n",
      "768/768 [==============================] - 0s 43us/sample - loss: 0.6335 - accuracy: 0.6510\n",
      "Epoch 117/150\n",
      "768/768 [==============================] - 0s 44us/sample - loss: 0.6336 - accuracy: 0.6510\n",
      "Epoch 118/150\n",
      "768/768 [==============================] - 0s 41us/sample - loss: 0.6334 - accuracy: 0.6510\n",
      "Epoch 119/150\n",
      "768/768 [==============================] - 0s 44us/sample - loss: 0.6334 - accuracy: 0.6510\n",
      "Epoch 120/150\n",
      "768/768 [==============================] - 0s 43us/sample - loss: 0.6338 - accuracy: 0.6510\n",
      "Epoch 121/150\n",
      "768/768 [==============================] - 0s 44us/sample - loss: 0.6334 - accuracy: 0.6510\n",
      "Epoch 122/150\n",
      "768/768 [==============================] - 0s 45us/sample - loss: 0.6334 - accuracy: 0.6510\n",
      "Epoch 123/150\n",
      "768/768 [==============================] - 0s 50us/sample - loss: 0.6333 - accuracy: 0.6510\n",
      "Epoch 124/150\n",
      "768/768 [==============================] - 0s 42us/sample - loss: 0.6332 - accuracy: 0.6510\n",
      "Epoch 125/150\n",
      "768/768 [==============================] - 0s 41us/sample - loss: 0.6331 - accuracy: 0.6510\n",
      "Epoch 126/150\n",
      "768/768 [==============================] - 0s 44us/sample - loss: 0.6332 - accuracy: 0.6510\n",
      "Epoch 127/150\n",
      "768/768 [==============================] - 0s 46us/sample - loss: 0.6330 - accuracy: 0.6510\n",
      "Epoch 128/150\n",
      "768/768 [==============================] - 0s 46us/sample - loss: 0.6330 - accuracy: 0.6510\n",
      "Epoch 129/150\n",
      "768/768 [==============================] - 0s 44us/sample - loss: 0.6331 - accuracy: 0.6510\n",
      "Epoch 130/150\n",
      "768/768 [==============================] - 0s 47us/sample - loss: 0.6330 - accuracy: 0.6510\n",
      "Epoch 131/150\n",
      "768/768 [==============================] - 0s 43us/sample - loss: 0.6330 - accuracy: 0.6510\n",
      "Epoch 132/150\n",
      "768/768 [==============================] - 0s 41us/sample - loss: 0.6330 - accuracy: 0.6510\n",
      "Epoch 133/150\n",
      "768/768 [==============================] - 0s 43us/sample - loss: 0.6329 - accuracy: 0.6510\n",
      "Epoch 134/150\n",
      "768/768 [==============================] - 0s 42us/sample - loss: 0.6332 - accuracy: 0.6510\n",
      "Epoch 135/150\n",
      "768/768 [==============================] - 0s 42us/sample - loss: 0.6329 - accuracy: 0.6510\n",
      "Epoch 136/150\n",
      "768/768 [==============================] - 0s 44us/sample - loss: 0.6328 - accuracy: 0.6510\n",
      "Epoch 137/150\n",
      "768/768 [==============================] - 0s 39us/sample - loss: 0.6329 - accuracy: 0.6510\n",
      "Epoch 138/150\n",
      "768/768 [==============================] - 0s 42us/sample - loss: 0.6328 - accuracy: 0.6510\n",
      "Epoch 139/150\n",
      "768/768 [==============================] - 0s 45us/sample - loss: 0.6328 - accuracy: 0.6510\n",
      "Epoch 140/150\n",
      "768/768 [==============================] - 0s 42us/sample - loss: 0.6327 - accuracy: 0.6510\n",
      "Epoch 141/150\n",
      "768/768 [==============================] - 0s 42us/sample - loss: 0.6326 - accuracy: 0.6510\n",
      "Epoch 142/150\n",
      "768/768 [==============================] - 0s 41us/sample - loss: 0.6325 - accuracy: 0.6510\n",
      "Epoch 143/150\n",
      "768/768 [==============================] - 0s 41us/sample - loss: 0.6324 - accuracy: 0.6510\n",
      "Epoch 144/150\n",
      "768/768 [==============================] - 0s 42us/sample - loss: 0.6325 - accuracy: 0.6510\n",
      "Epoch 145/150\n",
      "768/768 [==============================] - ETA: 0s - loss: 0.6409 - accuracy: 0.62 - 0s 42us/sample - loss: 0.6322 - accuracy: 0.6510\n",
      "Epoch 146/150\n",
      "768/768 [==============================] - 0s 41us/sample - loss: 0.6323 - accuracy: 0.6510\n",
      "Epoch 147/150\n",
      "768/768 [==============================] - 0s 41us/sample - loss: 0.6323 - accuracy: 0.6510\n",
      "Epoch 148/150\n",
      "768/768 [==============================] - 0s 49us/sample - loss: 0.6322 - accuracy: 0.6510\n",
      "Epoch 149/150\n",
      "768/768 [==============================] - 0s 43us/sample - loss: 0.6322 - accuracy: 0.6510\n",
      "Epoch 150/150\n",
      "768/768 [==============================] - 0s 45us/sample - loss: 0.6321 - accuracy: 0.6510\n"
     ]
    },
    {
     "data": {
      "text/plain": [
       "<tensorflow.python.keras.callbacks.History at 0x7f83b8ad3320>"
      ]
     },
     "execution_count": 13,
     "metadata": {},
     "output_type": "execute_result"
    }
   ],
   "source": [
    "#batch_size number of samples that will be propagated through the network\n",
    "model.fit(X, y, epochs=150)\n",
    "#ephocs number of times all of the training vectors are used once to update the weights.\n"
   ]
  },
  {
   "cell_type": "code",
   "execution_count": 14,
   "metadata": {},
   "outputs": [
    {
     "data": {
      "text/plain": [
       "(768,)"
      ]
     },
     "execution_count": 14,
     "metadata": {},
     "output_type": "execute_result"
    }
   ],
   "source": [
    "y.shape"
   ]
  },
  {
   "cell_type": "markdown",
   "metadata": {},
   "source": [
    "### Evaluate Model"
   ]
  },
  {
   "cell_type": "code",
   "execution_count": 14,
   "metadata": {},
   "outputs": [
    {
     "data": {
      "text/plain": [
       "array([1., 0., 1., 0., 1., 0., 1., 0., 1., 1., 0., 1., 0., 1., 1., 1., 1.,\n",
       "       1., 0., 1., 0., 0., 1., 1., 1., 1., 1., 0., 0., 0., 0., 1., 0., 0.,\n",
       "       0., 0., 0., 1., 1., 1., 0., 0., 0., 1., 0., 1., 0., 0., 1., 0.])"
      ]
     },
     "execution_count": 14,
     "metadata": {},
     "output_type": "execute_result"
    }
   ],
   "source": [
    "y[:50]"
   ]
  },
  {
   "cell_type": "code",
   "execution_count": 15,
   "metadata": {},
   "outputs": [
    {
     "data": {
      "text/plain": [
       "0.3489583333333333"
      ]
     },
     "execution_count": 15,
     "metadata": {},
     "output_type": "execute_result"
    }
   ],
   "source": [
    "# Predicting never diabetes\n",
    "sum(y) / len(y) "
   ]
  },
  {
   "cell_type": "code",
   "execution_count": 16,
   "metadata": {},
   "outputs": [
    {
     "name": "stdout",
     "output_type": "stream",
     "text": [
      "768/1 [================================================================================================================================================================================================================================================================================================================================================================================================================================================================================================================================================================================================================================================================================================================================================================================================================================================================================================================================================================================================================================================================================================================================================================================================================================================================================================================================================================================================================================================================================================================================================================================================================================================================================================================================================================================================================================================================================================================================================================================================================================================================================================================================================================================================================================================================================================================================================================================================================================================================================================================================================================================================================================================================================================================================================================================================================================================================================================================================================================================================================================================================================================================================================================================================================================================================================================================================================================================================================================================================================================================================================================================================================================================================================================================================================================================================================================================================================================================================================================================================================================================================================================================================================================================================================================================================================================================================================================================================================================================================================================================================================================================================================================================================================================================================================================================================================================================================================================================================================================================================================================================================================================================================================================================================================================================================================================================================================================================================================================================================================================================================================================================================================================================================================================================================================================================================================================================================================================================================================================================================================================================================================================================================================================================================================================================================================================================================================================================================================================================================================================================================================================================================================================================================================================================================================================================================================================================================================================================================================================================================================================================================================================================================================================================================================================================================================================================================================================================================================================================================================================================================================================================================================================================================================================================================================================================================================================================================================================================================================================================================================================================================================================================================================================================================================================================================================================================================================================================================================================================================================================================================================================================================================================================================================================================================================================================================================================================================================================================================================================================================================================================================================================================================================================================================================================================================================================================================================================================================================================================================================================================================================================================================================================================================================================================================================================================================================================================================================================================================================================================================================================================================================================================================================================================================================================================================================================================================================================================================================================================================================================================================================================================================================================================================================================================================================================================================================================================================================================================================================================================================================================================================================================================================================================================================================================================================================================================================================================================================================================================================================================================================================================================================================================================================================================================================================================================================================================================================================================================================================================================================================================================================================================================================================================================================================================================================================================================================================================================================================================================================================================================================================================================================================================================================================================================================================================================================================================================================================================================================================================================================================================================================================================================================================================================================================================================================================================================================================================================================================================================================================================================================================================================================================================================================================================================================================================================================================================================================================================================================================================================================================================================================================================================================================================================================================================================================================================================================================================================================================================================================================================================================================================================================================================================================================================================================================================================================================================================================================================================================================================================================================================================================================================================================================================================================================================================================================================================================================================================================================================================================================================================================================================================================================================================================================================================================================================================================================================================================================================================================================================================================================================================================================================================================================================================================================================================================================================================================================================================================================================================================================================================================================================================================================================================================================================================================================================================================================================================================================================================================================================================================================================================================================================================================================================================================================================================================================================================================================================================================================================================================================================================================================================================================================================================================================================================================================================================================================================================================================================================================================================================================================================================================================================================================================================================================================================================================================================================================================================================================================================================================================================================================================================================================================================================================================================================================================================================================================================================================================================================================================================================================================================================================================================================================================================================================================================================================================================================================================================================================================================================================================================================================================================================================================================================================================================================================================================================================================================================================================================================================================================================================================================================================================================================================================================================================================================================================================================================================================================================================================================================================================================================================================================================================================================================================================================================================================================================================================================================================================================================================================================================================================================================================================================================================================================================================================================================================================================================================================================================================================================================================================================================================================================================================================================================================================================================================================================================================================================================================================================================================================================================================================================================================================================================================================================================================================================================================================================================================================================================================================================================================================================================================================================================================================================================================================================================================================================================================================================================================================================================================================================================================================================================================================================================================================================================================================================================================================================================================================================================================================================================================================================================================================================================================================================================================================================================================================================================================================================================================================================================================================================================================] - 0s 29us/sample - loss: 0.6586 - accuracy: 0.6510\n",
      "accuracy: 65.10416865348816\n"
     ]
    }
   ],
   "source": [
    "scores = model.evaluate(X,y)\n",
    "print(f\"{model.metrics_names[1]}: {scores[1]*100}\")"
   ]
  },
  {
   "cell_type": "markdown",
   "metadata": {
    "colab_type": "text",
    "id": "zHYB7k9q3O8T"
   },
   "source": [
    "### Unstable Results\n",
    "\n",
    "You'll notice that if we rerun the results might differ from the origin run. This can be explain by a bunch of factors. Check out some of them in this article: \n",
    "\n",
    "<https://machinelearningmastery.com/randomness-in-machine-learning/>"
   ]
  },
  {
   "cell_type": "markdown",
   "metadata": {},
   "source": [
    "## Challenge\n",
    "\n",
    "You will be expected to leverage the Keras `Sequential`api to estimate a feed forward neural networks on a dataset."
   ]
  },
  {
   "cell_type": "markdown",
   "metadata": {
    "colab_type": "text",
    "id": "ueDVpctAzvy8"
   },
   "source": [
    "# Choosing Architecture (Learn)"
   ]
  },
  {
   "cell_type": "markdown",
   "metadata": {},
   "source": [
    "## Overview\n",
    "\n",
    "Choosing an architecture for a neural network is almost more an art than a science. Let's do a few experiments:"
   ]
  },
  {
   "cell_type": "markdown",
   "metadata": {},
   "source": [
    "## Follow Along"
   ]
  },
  {
   "cell_type": "code",
   "execution_count": 20,
   "metadata": {
    "colab": {},
    "colab_type": "code",
    "id": "6W2Sc7-LzQo_"
   },
   "outputs": [
    {
     "name": "stdout",
     "output_type": "stream",
     "text": [
      "Model: \"3LayerJunk\"\n",
      "_________________________________________________________________\n",
      "Layer (type)                 Output Shape              Param #   \n",
      "=================================================================\n",
      "Dense1 (Dense)               (None, 4)                 36        \n",
      "_________________________________________________________________\n",
      "dense_5 (Dense)              (None, 3)                 15        \n",
      "_________________________________________________________________\n",
      "dense_6 (Dense)              (None, 1)                 4         \n",
      "=================================================================\n",
      "Total params: 55\n",
      "Trainable params: 55\n",
      "Non-trainable params: 0\n",
      "_________________________________________________________________\n"
     ]
    }
   ],
   "source": [
    "# Tell me your ideas\n",
    "#call this model whatever you want en este caso fue llamado #LayerJunk\n",
    "\n",
    "model_improved = Sequential(name=\"3LayerJunk\")\n",
    "\n",
    "model_improved.add(Dense(4, input_dim=8, activation='relu', name=\"Dense1\"))#4 reuronas\n",
    "model_improved.add(Dense(3, activation='sigmoid'))#3 neurons\n",
    "\n",
    "model_improved.add(Dense(1, activation='sigmoid'))\n",
    "\n",
    "model_improved.compile(loss='binary_crossentropy', optimizer='adam',\n",
    "              metrics=['accuracy'])\n",
    "\n",
    "# Let's inspect our new architecture\n",
    "#print table of my model architecture\n",
    "model_improved.summary()"
   ]
  },
  {
   "cell_type": "code",
   "execution_count": 21,
   "metadata": {},
   "outputs": [
    {
     "data": {
      "text/plain": [
       "<tensorflow.python.keras.callbacks.History at 0x7f83b8664da0>"
      ]
     },
     "execution_count": 21,
     "metadata": {},
     "output_type": "execute_result"
    }
   ],
   "source": [
    "model_improved.fit(X, y, epochs=150, verbose=False) # What parameters can I specify here?"
   ]
  },
  {
   "cell_type": "code",
   "execution_count": 22,
   "metadata": {},
   "outputs": [
    {
     "name": "stdout",
     "output_type": "stream",
     "text": [
      "768/1 [================================================================================================================================================================================================================================================================================================================================================================================================================================================================================================================================================================================================================================================================================================================================================================================================================================================================================================================================================================================================================================================================================================================================================================================================================================================================================================================================================================================================================================================================================================================================================================================================================================================================================================================================================================================================================================================================================================================================================================================================================================================================================================================================================================================================================================================================================================================================================================================================================================================================================================================================================================================================================================================================================================================================================================================================================================================================================================================================================================================================================================================================================================================================================================================================================================================================================================================================================================================================================================================================================================================================================================================================================================================================================================================================================================================================================================================================================================================================================================================================================================================================================================================================================================================================================================================================================================================================================================================================================================================================================================================================================================================================================================================================================================================================================================================================================================================================================================================================================================================================================================================================================================================================================================================================================================================================================================================================================================================================================================================================================================================================================================================================================================================================================================================================================================================================================================================================================================================================================================================================================================================================================================================================================================================================================================================================================================================================================================================================================================================================================================================================================================================================================================================================================================================================================================================================================================================================================================================================================================================================================================================================================================================================================================================================================================================================================================================================================================================================================================================================================================================================================================================================================================================================================================================================================================================================================================================================================================================================================================================================================================================================================================================================================================================================================================================================================================================================================================================================================================================================================================================================================================================================================================================================================================================================================================================================================================================================================================================================================================================================================================================================================================================================================================================================================================================================================================================================================================================================================================================================================================================================================================================================================================================================================================================================================================================================================================================================================================================================================================================================================================================================================================================================================================================================================================================================================================================================================================================================================================================================================================================================================================================================================================================================================================================================================================================================================================================================================================================================================================================================================================================================================================================================================================================================================================================================================================================================================================================================================================================================================================================================================================================================================================================================================================================================================================================================================================================================================================================================================================================================================================================================================================================================================================================================================================================================================================================================================================================================================================================================================================================================================================================================================================================================================================================================================================================================================================================================================================================================================================================================================================================================================================================================================================================================================================================================================================================================================================================================================================================================================================================================================================================================================================================================================================================================================================================================================================================================================================================================================================================================================================================================================================================================================================================================================================================================================================================================================================================================================================================================================================================================================================================================================================================================================================================================================================================================================================================================================================================================================================================================================================================================================================================================================================================================================================================================================================================================================================================================================================================================================================================================================================================================================================================================================================================================================================================================================================================================================================================================================================================================================================================================================================================================================================================================================================================================================================================================================================================================================================================================================================================================================================================================================================================================================================================================================================================================================================================================================================================================================================================================================================================================================================================================================================================================================================================================================================================================================================================================================================================================================================================================================================================================================================================================================================================================================================================================================================================================================================================================================================================================================================================================================================================================================================================================================================================================================================================================================================================================================================================================================================================================================================================================================================================================================================================================================================================================================================================================================================================================================================================================================================================================================================================================================================================================================================================================================================================================================================================================================================================================================================================================================================================================================================================================================================================================================================================================================================================================================================================================================================================================================================================================================================================================================================================================================================================================================================================================================================================================================================================================================================================================================================================================================================================================================================================================================================================================================================================================================================================================================================================================================================================================================================================================================================================================================================================================================================================================================================================================================================================================================================================================================================================================================================================================================================================================================================================================================================================================================================================================================================================================================================================================================================================================================================================================================================================================================================================================================================================================================================================================================================================================================================================================================================================================================================================================================================================================================================================================================================================================================================================================================================================================================================================================================================================================================================================================================================================================================================================================================================================================================================================================================================================================================================================================================================================================================================================================================================================================================================================================================================================================] - 0s 153us/sample - loss: 0.6744 - accuracy: 0.6510\n",
      "accuracy: 65.10416865348816\n"
     ]
    }
   ],
   "source": [
    "scores = model_improved.evaluate(X,y)\n",
    "print(f\"{model_improved.metrics_names[1]}: {scores[1]*100}\")"
   ]
  },
  {
   "cell_type": "markdown",
   "metadata": {},
   "source": [
    "### Experiment with 1 Additional Layer & Change Activation F(x)s"
   ]
  },
  {
   "cell_type": "code",
   "execution_count": 35,
   "metadata": {},
   "outputs": [
    {
     "name": "stdout",
     "output_type": "stream",
     "text": [
      "Model: \"4LayerJunk\"\n",
      "_________________________________________________________________\n",
      "Layer (type)                 Output Shape              Param #   \n",
      "=================================================================\n",
      "dense_19 (Dense)             (None, 4)                 36        \n",
      "_________________________________________________________________\n",
      "dense_20 (Dense)             (None, 3)                 15        \n",
      "_________________________________________________________________\n",
      "dense_21 (Dense)             (None, 3)                 12        \n",
      "_________________________________________________________________\n",
      "dense_22 (Dense)             (None, 1)                 4         \n",
      "=================================================================\n",
      "Total params: 67\n",
      "Trainable params: 67\n",
      "Non-trainable params: 0\n",
      "_________________________________________________________________\n"
     ]
    }
   ],
   "source": [
    "# Tell me your ideas\n",
    "\n",
    "model_improved = Sequential(name=\"4LayerJunk\")\n",
    "\n",
    "model_improved.add(Dense(4, input_dim=8, activation='relu'))\n",
    "model_improved.add(Dense(3, activation='relu'))\n",
    "model_improved.add(Dense(3, activation='relu'))\n",
    "model_improved.add(Dense(1, activation='sigmoid'))\n",
    "\n",
    "model_improved.compile(loss='binary_crossentropy', optimizer='adam',\n",
    "              metrics=['accuracy'])\n",
    "\n",
    "# Let's inspect our new architecture\n",
    "model_improved.summary()"
   ]
  },
  {
   "cell_type": "code",
   "execution_count": 36,
   "metadata": {},
   "outputs": [
    {
     "data": {
      "text/plain": [
       "<tensorflow.python.keras.callbacks.History at 0x7f83ac1eac18>"
      ]
     },
     "execution_count": 36,
     "metadata": {},
     "output_type": "execute_result"
    }
   ],
   "source": [
    "model_improved.fit(X,y, epochs=250, verbose=False)"
   ]
  },
  {
   "cell_type": "code",
   "execution_count": 37,
   "metadata": {},
   "outputs": [
    {
     "name": "stdout",
     "output_type": "stream",
     "text": [
      "768/1 [================================================================================================================================================================================================================================================================================================================================================================================================================================================================================================================================================================================================================================================================================================================================================================================================================================================================================================================================================================================================================================================================================================================================================================================================================================================================================================================================================================================================================================================================================================================================================================================================================================================================================================================================================================================================================================================================================================================================================================================================================================================================================================================================================================================================================================================================================================================================================================================================================================================================================================================================================================================================================================================================================================================================================================================================================================================================================================================================================================================================================================================================================================================================================================================================================================================================================================================================================================================================================================================================================================================================================================================================================================================================================================================================================================================================================================================================================================================================================================================================================================================================================================================================================================================================================================================================================================================================================================================================================================================================================================================================================================================================================================================================================================================================================================================================================================================================================================================================================================================================================================================================================================================================================================================================================================================================================================================================================================================================================================================================================================================================================================================================================================================================================================================================================================================================================================================================================================================================================================================================================================================================================================================================================================================================================================================================================================================================================================================================================================================================================================================================================================================================================================================================================================================================================================================================================================================================================================================================================================================================================================================================================================================================================================================================================================================================================================================================================================================================================================================================================================================================================================================================================================================================================================================================================================================================================================================================================================================================================================================================================================================================================================================================================================================================================================================================================================================================================================================================================================================================================================================================================================================================================================================================================================================================================================================================================================================================================================================================================================================================================================================================================================================================================================================================================================================================================================================================================================================================================================================================================================================================================================================================================================================================================================================================================================================================================================================================================================================================================================================================================================================================================================================================================================================================================================================================================================================================================================================================================================================================================================================================================================================================================================================================================================================================================================================================================================================================================================================================================================================================================================================================================================================================================================================================================================================================================================================================================================================================================================================================================================================================================================================================================================================================================================================================================================================================================================================================================================================================================================================================================================================================================================================================================================================================================================================================================================================================================================================================================================================================================================================================================================================================================================================================================================================================================================================================================================================================================================================================================================================================================================================================================================================================================================================================================================================================================================================================================================================================================================================================================================================================================================================================================================================================================================================================================================================================================================================================================================================================================================================================================================================================================================================================================================================================================================================================================================================================================================================================================================================================================================================================================================================================================================================================================================================================================================================================================================================================================================================================================================================================================================================================================================================================================================================================================================================================================================================================================================================================================================================================================================================================================================================================================================================================================================================================================================================================================================================================================================================================================================================================================================================================================================================================================================================================================================================================================================================================================================================================================================================================================================================================================================================================================================================================================================================================================================================================================================================================================================================================================================================================================================================================================================================================================================================================================================================================================================================================================================================================================================================================================================================================================================================================================================================================================================================================================================================================================================================================================================================================================================================================================================================================================================================================================================================================================================================================================================================================================================================================================================================================================================================================================================================================================================================================================================================================================================================================================================================================================================================================================================================================================================================================================================================================================================================================================================================================================================================================================================================================================================================================================================================================================================================================================================================================================================================================================================================================================================================================================================================================================================================================================================================================================================================================================================================================================================================================================================================================================================================================================================================================================================================================================================================================================================================================================================================================================================================================================================================================================================================================================================================================================================================================================================================================================================================================================================================================================================================================================================================================================================================================================================================================================================================================================================================================================================================================================================================================================================================================================================================================================================================================================================================================================================================================================================================================================================================================================================================================================================================================================================================================================================================================================================================================================================================================================================================================================================================================================================================================================================================================================================================================================================================================================================================================================================================================================================================================================================================================================================================================================================================================================================================================================================================================================================================================================================================================================================================================================================================================================================================================================================================================] - 0s 146us/sample - loss: 0.5559 - accuracy: 0.7253\n"
     ]
    },
    {
     "data": {
      "text/plain": [
       "[0.5402633200089136, 0.72526044]"
      ]
     },
     "execution_count": 37,
     "metadata": {},
     "output_type": "execute_result"
    }
   ],
   "source": [
    "model_improved.evaluate(X,y)\n",
    "#print(f\"{model_improved.metrics_names[1]}: {scores[1]*100}\")"
   ]
  },
  {
   "cell_type": "markdown",
   "metadata": {},
   "source": [
    "### New Experiment with Identical Neuron Numbers"
   ]
  },
  {
   "cell_type": "code",
   "execution_count": 38,
   "metadata": {},
   "outputs": [
    {
     "name": "stdout",
     "output_type": "stream",
     "text": [
      "Model: \"EvenNuerons4LayerJunk\"\n",
      "_________________________________________________________________\n",
      "Layer (type)                 Output Shape              Param #   \n",
      "=================================================================\n",
      "Dense1 (Dense)               (None, 8)                 72        \n",
      "_________________________________________________________________\n",
      "dense_23 (Dense)             (None, 8)                 72        \n",
      "_________________________________________________________________\n",
      "dense_24 (Dense)             (None, 8)                 72        \n",
      "_________________________________________________________________\n",
      "dense_25 (Dense)             (None, 1)                 9         \n",
      "=================================================================\n",
      "Total params: 225\n",
      "Trainable params: 225\n",
      "Non-trainable params: 0\n",
      "_________________________________________________________________\n"
     ]
    }
   ],
   "source": [
    "# Tell me your ideas\n",
    "\n",
    "model_improved = Sequential(name=\"EvenNuerons4LayerJunk\")\n",
    "\n",
    "model_improved.add(Dense(8, input_dim=8, activation='relu', name=\"Dense1\"))\n",
    "model_improved.add(Dense(8, activation='relu'))\n",
    "model_improved.add(Dense(8, activation='relu'))\n",
    "model_improved.add(Dense(1, activation='sigmoid'))\n",
    "\n",
    "model_improved.compile(loss='binary_crossentropy', optimizer='adam',\n",
    "              metrics=['accuracy'])\n",
    "\n",
    "# Let's inspect our new architecture\n",
    "model_improved.summary()"
   ]
  },
  {
   "cell_type": "code",
   "execution_count": 39,
   "metadata": {},
   "outputs": [
    {
     "name": "stdout",
     "output_type": "stream",
     "text": [
      "Train on 691 samples, validate on 77 samples\n",
      "Epoch 1/250\n",
      "691/691 [==============================] - 1s 875us/sample - loss: 4.6407 - accuracy: 0.4689 - val_loss: 2.9155 - val_accuracy: 0.4935\n",
      "Epoch 2/250\n",
      "691/691 [==============================] - 0s 60us/sample - loss: 1.6517 - accuracy: 0.5340 - val_loss: 1.2951 - val_accuracy: 0.6104\n",
      "Epoch 3/250\n",
      "691/691 [==============================] - 0s 67us/sample - loss: 1.0810 - accuracy: 0.6382 - val_loss: 1.1174 - val_accuracy: 0.6364\n",
      "Epoch 4/250\n",
      "691/691 [==============================] - 0s 69us/sample - loss: 0.9654 - accuracy: 0.6483 - val_loss: 0.9846 - val_accuracy: 0.5974\n",
      "Epoch 5/250\n",
      "691/691 [==============================] - 0s 65us/sample - loss: 0.8708 - accuracy: 0.6382 - val_loss: 0.9433 - val_accuracy: 0.6494\n",
      "Epoch 6/250\n",
      "691/691 [==============================] - 0s 66us/sample - loss: 0.8065 - accuracy: 0.6599 - val_loss: 0.9400 - val_accuracy: 0.6494\n",
      "Epoch 7/250\n",
      "691/691 [==============================] - 0s 68us/sample - loss: 0.7582 - accuracy: 0.6527 - val_loss: 0.9065 - val_accuracy: 0.6234\n",
      "Epoch 8/250\n",
      "691/691 [==============================] - 0s 72us/sample - loss: 0.7168 - accuracy: 0.6570 - val_loss: 0.8472 - val_accuracy: 0.6104\n",
      "Epoch 9/250\n",
      "691/691 [==============================] - 0s 77us/sample - loss: 0.6846 - accuracy: 0.6570 - val_loss: 0.8219 - val_accuracy: 0.6234\n",
      "Epoch 10/250\n",
      "691/691 [==============================] - 0s 71us/sample - loss: 0.6735 - accuracy: 0.6556 - val_loss: 0.8424 - val_accuracy: 0.5974\n",
      "Epoch 11/250\n",
      "691/691 [==============================] - 0s 69us/sample - loss: 0.6626 - accuracy: 0.6599 - val_loss: 0.8276 - val_accuracy: 0.5714\n",
      "Epoch 12/250\n",
      "691/691 [==============================] - 0s 64us/sample - loss: 0.6599 - accuracy: 0.6585 - val_loss: 0.8368 - val_accuracy: 0.5584\n",
      "Epoch 13/250\n",
      "691/691 [==============================] - 0s 67us/sample - loss: 0.6575 - accuracy: 0.6599 - val_loss: 0.8153 - val_accuracy: 0.5455\n",
      "Epoch 14/250\n",
      "691/691 [==============================] - 0s 60us/sample - loss: 0.6475 - accuracy: 0.6715 - val_loss: 0.8047 - val_accuracy: 0.5325\n",
      "Epoch 15/250\n",
      "691/691 [==============================] - 0s 68us/sample - loss: 0.6570 - accuracy: 0.6599 - val_loss: 0.7773 - val_accuracy: 0.6104\n",
      "Epoch 16/250\n",
      "691/691 [==============================] - 0s 65us/sample - loss: 0.6391 - accuracy: 0.6570 - val_loss: 0.7959 - val_accuracy: 0.5844\n",
      "Epoch 17/250\n",
      "691/691 [==============================] - 0s 67us/sample - loss: 0.6307 - accuracy: 0.6758 - val_loss: 0.7584 - val_accuracy: 0.5974\n",
      "Epoch 18/250\n",
      "691/691 [==============================] - 0s 67us/sample - loss: 0.6253 - accuracy: 0.6671 - val_loss: 0.7631 - val_accuracy: 0.5974\n",
      "Epoch 19/250\n",
      "691/691 [==============================] - 0s 69us/sample - loss: 0.6254 - accuracy: 0.6657 - val_loss: 0.7725 - val_accuracy: 0.5844\n",
      "Epoch 20/250\n",
      "691/691 [==============================] - 0s 76us/sample - loss: 0.6136 - accuracy: 0.6729 - val_loss: 0.7520 - val_accuracy: 0.5974\n",
      "Epoch 21/250\n",
      "691/691 [==============================] - 0s 65us/sample - loss: 0.6106 - accuracy: 0.6729 - val_loss: 0.7319 - val_accuracy: 0.6234\n",
      "Epoch 22/250\n",
      "691/691 [==============================] - 0s 65us/sample - loss: 0.6111 - accuracy: 0.6671 - val_loss: 0.7181 - val_accuracy: 0.6364\n",
      "Epoch 23/250\n",
      "691/691 [==============================] - 0s 65us/sample - loss: 0.6015 - accuracy: 0.6831 - val_loss: 0.7567 - val_accuracy: 0.5974\n",
      "Epoch 24/250\n",
      "691/691 [==============================] - 0s 67us/sample - loss: 0.6048 - accuracy: 0.6903 - val_loss: 0.7293 - val_accuracy: 0.5974\n",
      "Epoch 25/250\n",
      "691/691 [==============================] - 0s 65us/sample - loss: 0.5960 - accuracy: 0.6671 - val_loss: 0.7189 - val_accuracy: 0.5974\n",
      "Epoch 26/250\n",
      "691/691 [==============================] - 0s 65us/sample - loss: 0.5924 - accuracy: 0.6700 - val_loss: 0.7155 - val_accuracy: 0.5844\n",
      "Epoch 27/250\n",
      "691/691 [==============================] - 0s 64us/sample - loss: 0.5908 - accuracy: 0.6729 - val_loss: 0.7000 - val_accuracy: 0.6364\n",
      "Epoch 28/250\n",
      "691/691 [==============================] - 0s 73us/sample - loss: 0.5889 - accuracy: 0.6802 - val_loss: 0.7104 - val_accuracy: 0.5844\n",
      "Epoch 29/250\n",
      "691/691 [==============================] - 0s 73us/sample - loss: 0.5840 - accuracy: 0.6671 - val_loss: 0.6848 - val_accuracy: 0.6234\n",
      "Epoch 30/250\n",
      "691/691 [==============================] - 0s 69us/sample - loss: 0.5821 - accuracy: 0.6831 - val_loss: 0.7114 - val_accuracy: 0.5844\n",
      "Epoch 31/250\n",
      "691/691 [==============================] - 0s 66us/sample - loss: 0.5870 - accuracy: 0.6802 - val_loss: 0.6936 - val_accuracy: 0.6104\n",
      "Epoch 32/250\n",
      "691/691 [==============================] - 0s 65us/sample - loss: 0.5819 - accuracy: 0.6773 - val_loss: 0.6800 - val_accuracy: 0.6364\n",
      "Epoch 33/250\n",
      "691/691 [==============================] - 0s 63us/sample - loss: 0.5789 - accuracy: 0.6831 - val_loss: 0.6781 - val_accuracy: 0.6364\n",
      "Epoch 34/250\n",
      "691/691 [==============================] - 0s 64us/sample - loss: 0.5762 - accuracy: 0.6816 - val_loss: 0.6625 - val_accuracy: 0.6623\n",
      "Epoch 35/250\n",
      "691/691 [==============================] - 0s 63us/sample - loss: 0.5754 - accuracy: 0.6975 - val_loss: 0.7055 - val_accuracy: 0.5844\n",
      "Epoch 36/250\n",
      "691/691 [==============================] - 0s 68us/sample - loss: 0.5725 - accuracy: 0.6932 - val_loss: 0.6662 - val_accuracy: 0.6234\n",
      "Epoch 37/250\n",
      "691/691 [==============================] - 0s 72us/sample - loss: 0.5743 - accuracy: 0.6932 - val_loss: 0.6815 - val_accuracy: 0.5844\n",
      "Epoch 38/250\n",
      "691/691 [==============================] - 0s 70us/sample - loss: 0.5688 - accuracy: 0.6903 - val_loss: 0.6720 - val_accuracy: 0.6234\n",
      "Epoch 39/250\n",
      "691/691 [==============================] - 0s 71us/sample - loss: 0.5640 - accuracy: 0.6975 - val_loss: 0.6683 - val_accuracy: 0.6234\n",
      "Epoch 40/250\n",
      "691/691 [==============================] - 0s 71us/sample - loss: 0.5764 - accuracy: 0.6975 - val_loss: 0.6761 - val_accuracy: 0.6104\n",
      "Epoch 41/250\n",
      "691/691 [==============================] - 0s 67us/sample - loss: 0.5668 - accuracy: 0.7004 - val_loss: 0.6792 - val_accuracy: 0.6104\n",
      "Epoch 42/250\n",
      "691/691 [==============================] - 0s 65us/sample - loss: 0.5604 - accuracy: 0.7077 - val_loss: 0.7161 - val_accuracy: 0.6234\n",
      "Epoch 43/250\n",
      "691/691 [==============================] - 0s 69us/sample - loss: 0.5668 - accuracy: 0.7033 - val_loss: 0.6952 - val_accuracy: 0.5974\n",
      "Epoch 44/250\n",
      "691/691 [==============================] - 0s 68us/sample - loss: 0.5673 - accuracy: 0.7033 - val_loss: 0.6819 - val_accuracy: 0.6234\n",
      "Epoch 45/250\n",
      "691/691 [==============================] - 0s 69us/sample - loss: 0.5644 - accuracy: 0.6946 - val_loss: 0.7150 - val_accuracy: 0.6234\n",
      "Epoch 46/250\n",
      "691/691 [==============================] - 0s 69us/sample - loss: 0.5722 - accuracy: 0.7019 - val_loss: 0.6688 - val_accuracy: 0.5974\n",
      "Epoch 47/250\n",
      "691/691 [==============================] - 0s 64us/sample - loss: 0.5602 - accuracy: 0.7106 - val_loss: 0.7008 - val_accuracy: 0.5974\n",
      "Epoch 48/250\n",
      "691/691 [==============================] - 0s 67us/sample - loss: 0.5674 - accuracy: 0.6932 - val_loss: 0.6691 - val_accuracy: 0.6104\n",
      "Epoch 49/250\n",
      "691/691 [==============================] - 0s 62us/sample - loss: 0.5526 - accuracy: 0.7149 - val_loss: 0.6584 - val_accuracy: 0.6104\n",
      "Epoch 50/250\n",
      "691/691 [==============================] - 0s 65us/sample - loss: 0.5515 - accuracy: 0.7077 - val_loss: 0.6540 - val_accuracy: 0.6234\n",
      "Epoch 51/250\n",
      "691/691 [==============================] - 0s 63us/sample - loss: 0.5569 - accuracy: 0.7019 - val_loss: 0.6475 - val_accuracy: 0.6234\n",
      "Epoch 52/250\n",
      "691/691 [==============================] - 0s 63us/sample - loss: 0.5497 - accuracy: 0.7178 - val_loss: 0.6883 - val_accuracy: 0.6234\n",
      "Epoch 53/250\n",
      "691/691 [==============================] - 0s 62us/sample - loss: 0.5684 - accuracy: 0.7004 - val_loss: 0.6861 - val_accuracy: 0.5974\n",
      "Epoch 54/250\n",
      "691/691 [==============================] - 0s 61us/sample - loss: 0.5547 - accuracy: 0.7004 - val_loss: 0.6503 - val_accuracy: 0.6104\n",
      "Epoch 55/250\n",
      "691/691 [==============================] - 0s 65us/sample - loss: 0.5464 - accuracy: 0.7091 - val_loss: 0.6533 - val_accuracy: 0.6234\n",
      "Epoch 56/250\n",
      "691/691 [==============================] - 0s 64us/sample - loss: 0.5478 - accuracy: 0.7178 - val_loss: 0.6555 - val_accuracy: 0.6234\n",
      "Epoch 57/250\n",
      "691/691 [==============================] - 0s 64us/sample - loss: 0.5490 - accuracy: 0.7149 - val_loss: 0.6339 - val_accuracy: 0.6494\n",
      "Epoch 58/250\n",
      "691/691 [==============================] - 0s 67us/sample - loss: 0.5527 - accuracy: 0.7192 - val_loss: 0.6463 - val_accuracy: 0.6364\n",
      "Epoch 59/250\n",
      "691/691 [==============================] - 0s 66us/sample - loss: 0.5473 - accuracy: 0.7120 - val_loss: 0.6337 - val_accuracy: 0.6234\n",
      "Epoch 60/250\n",
      "691/691 [==============================] - 0s 70us/sample - loss: 0.5486 - accuracy: 0.7149 - val_loss: 0.6614 - val_accuracy: 0.6104\n",
      "Epoch 61/250\n",
      "691/691 [==============================] - 0s 69us/sample - loss: 0.5481 - accuracy: 0.7135 - val_loss: 0.6414 - val_accuracy: 0.6234\n",
      "Epoch 62/250\n",
      "691/691 [==============================] - 0s 69us/sample - loss: 0.5413 - accuracy: 0.7337 - val_loss: 0.6360 - val_accuracy: 0.6104\n",
      "Epoch 63/250\n",
      "691/691 [==============================] - 0s 75us/sample - loss: 0.5391 - accuracy: 0.7424 - val_loss: 0.6642 - val_accuracy: 0.5974\n",
      "Epoch 64/250\n",
      "691/691 [==============================] - 0s 72us/sample - loss: 0.5385 - accuracy: 0.7337 - val_loss: 0.6322 - val_accuracy: 0.6364\n",
      "Epoch 65/250\n",
      "691/691 [==============================] - 0s 64us/sample - loss: 0.5429 - accuracy: 0.6990 - val_loss: 0.6349 - val_accuracy: 0.6364\n",
      "Epoch 66/250\n",
      "691/691 [==============================] - 0s 73us/sample - loss: 0.5381 - accuracy: 0.7192 - val_loss: 0.6333 - val_accuracy: 0.6234\n",
      "Epoch 67/250\n",
      "691/691 [==============================] - 0s 65us/sample - loss: 0.5457 - accuracy: 0.7221 - val_loss: 0.6557 - val_accuracy: 0.6104\n",
      "Epoch 68/250\n",
      "691/691 [==============================] - 0s 66us/sample - loss: 0.5330 - accuracy: 0.7337 - val_loss: 0.6331 - val_accuracy: 0.6234\n",
      "Epoch 69/250\n",
      "691/691 [==============================] - 0s 67us/sample - loss: 0.5340 - accuracy: 0.7323 - val_loss: 0.6286 - val_accuracy: 0.6104\n",
      "Epoch 70/250\n",
      "691/691 [==============================] - 0s 70us/sample - loss: 0.5327 - accuracy: 0.7410 - val_loss: 0.6283 - val_accuracy: 0.6234\n",
      "Epoch 71/250\n",
      "691/691 [==============================] - 0s 65us/sample - loss: 0.5318 - accuracy: 0.7337 - val_loss: 0.6273 - val_accuracy: 0.6234\n",
      "Epoch 72/250\n",
      "691/691 [==============================] - 0s 70us/sample - loss: 0.5378 - accuracy: 0.7149 - val_loss: 0.6300 - val_accuracy: 0.6364\n",
      "Epoch 73/250\n",
      "691/691 [==============================] - 0s 71us/sample - loss: 0.5294 - accuracy: 0.7323 - val_loss: 0.6233 - val_accuracy: 0.6364\n",
      "Epoch 74/250\n",
      "691/691 [==============================] - 0s 67us/sample - loss: 0.5327 - accuracy: 0.7323 - val_loss: 0.6255 - val_accuracy: 0.6234\n",
      "Epoch 75/250\n",
      "691/691 [==============================] - 0s 66us/sample - loss: 0.5313 - accuracy: 0.7279 - val_loss: 0.6210 - val_accuracy: 0.6364\n",
      "Epoch 76/250\n",
      "691/691 [==============================] - 0s 70us/sample - loss: 0.5428 - accuracy: 0.7236 - val_loss: 0.6225 - val_accuracy: 0.6364\n",
      "Epoch 77/250\n",
      "691/691 [==============================] - 0s 65us/sample - loss: 0.5351 - accuracy: 0.7323 - val_loss: 0.6342 - val_accuracy: 0.6104\n",
      "Epoch 78/250\n",
      "691/691 [==============================] - 0s 70us/sample - loss: 0.5318 - accuracy: 0.7294 - val_loss: 0.6294 - val_accuracy: 0.6104\n",
      "Epoch 79/250\n",
      "691/691 [==============================] - 0s 66us/sample - loss: 0.5355 - accuracy: 0.7337 - val_loss: 0.6386 - val_accuracy: 0.6104\n",
      "Epoch 80/250\n",
      "691/691 [==============================] - 0s 69us/sample - loss: 0.5329 - accuracy: 0.7265 - val_loss: 0.6118 - val_accuracy: 0.6623\n",
      "Epoch 81/250\n",
      "691/691 [==============================] - 0s 67us/sample - loss: 0.5261 - accuracy: 0.7323 - val_loss: 0.6378 - val_accuracy: 0.6234\n",
      "Epoch 82/250\n",
      "691/691 [==============================] - 0s 69us/sample - loss: 0.5253 - accuracy: 0.7453 - val_loss: 0.6099 - val_accuracy: 0.6753\n",
      "Epoch 83/250\n",
      "691/691 [==============================] - 0s 65us/sample - loss: 0.5241 - accuracy: 0.7366 - val_loss: 0.6119 - val_accuracy: 0.6753\n",
      "Epoch 84/250\n",
      "691/691 [==============================] - 0s 69us/sample - loss: 0.5288 - accuracy: 0.7308 - val_loss: 0.6143 - val_accuracy: 0.6623\n",
      "Epoch 85/250\n",
      "691/691 [==============================] - 0s 65us/sample - loss: 0.5237 - accuracy: 0.7279 - val_loss: 0.6127 - val_accuracy: 0.6623\n",
      "Epoch 86/250\n",
      "691/691 [==============================] - 0s 65us/sample - loss: 0.5273 - accuracy: 0.7381 - val_loss: 0.6140 - val_accuracy: 0.6753\n",
      "Epoch 87/250\n",
      "691/691 [==============================] - 0s 66us/sample - loss: 0.5275 - accuracy: 0.7410 - val_loss: 0.6096 - val_accuracy: 0.6364\n",
      "Epoch 88/250\n",
      "691/691 [==============================] - 0s 67us/sample - loss: 0.5358 - accuracy: 0.7120 - val_loss: 0.6166 - val_accuracy: 0.6494\n",
      "Epoch 89/250\n",
      "691/691 [==============================] - 0s 68us/sample - loss: 0.5258 - accuracy: 0.7438 - val_loss: 0.6271 - val_accuracy: 0.6104\n",
      "Epoch 90/250\n",
      "691/691 [==============================] - 0s 70us/sample - loss: 0.5243 - accuracy: 0.7323 - val_loss: 0.5991 - val_accuracy: 0.6494\n",
      "Epoch 91/250\n",
      "691/691 [==============================] - 0s 70us/sample - loss: 0.5205 - accuracy: 0.7294 - val_loss: 0.6364 - val_accuracy: 0.6234\n",
      "Epoch 92/250\n",
      "691/691 [==============================] - 0s 66us/sample - loss: 0.5175 - accuracy: 0.7410 - val_loss: 0.6012 - val_accuracy: 0.6753\n",
      "Epoch 93/250\n",
      "691/691 [==============================] - 0s 63us/sample - loss: 0.5264 - accuracy: 0.7496 - val_loss: 0.6062 - val_accuracy: 0.6623\n",
      "Epoch 94/250\n",
      "691/691 [==============================] - 0s 66us/sample - loss: 0.5192 - accuracy: 0.7467 - val_loss: 0.6076 - val_accuracy: 0.6494\n",
      "Epoch 95/250\n",
      "691/691 [==============================] - 0s 65us/sample - loss: 0.5183 - accuracy: 0.7424 - val_loss: 0.6188 - val_accuracy: 0.6234\n",
      "Epoch 96/250\n",
      "691/691 [==============================] - 0s 71us/sample - loss: 0.5332 - accuracy: 0.7381 - val_loss: 0.6019 - val_accuracy: 0.6623\n",
      "Epoch 97/250\n",
      "691/691 [==============================] - 0s 70us/sample - loss: 0.5178 - accuracy: 0.7410 - val_loss: 0.6387 - val_accuracy: 0.6234\n",
      "Epoch 98/250\n",
      "691/691 [==============================] - 0s 69us/sample - loss: 0.5195 - accuracy: 0.7323 - val_loss: 0.6125 - val_accuracy: 0.6364\n",
      "Epoch 99/250\n",
      "691/691 [==============================] - 0s 71us/sample - loss: 0.5255 - accuracy: 0.7381 - val_loss: 0.6064 - val_accuracy: 0.6494\n",
      "Epoch 100/250\n",
      "691/691 [==============================] - 0s 70us/sample - loss: 0.5248 - accuracy: 0.7395 - val_loss: 0.5992 - val_accuracy: 0.6494\n",
      "Epoch 101/250\n",
      "691/691 [==============================] - ETA: 0s - loss: 0.5216 - accuracy: 0.71 - 0s 74us/sample - loss: 0.5247 - accuracy: 0.7381 - val_loss: 0.6255 - val_accuracy: 0.6104\n",
      "Epoch 102/250\n",
      "691/691 [==============================] - 0s 73us/sample - loss: 0.5239 - accuracy: 0.7467 - val_loss: 0.6049 - val_accuracy: 0.6364\n",
      "Epoch 103/250\n",
      "691/691 [==============================] - 0s 70us/sample - loss: 0.5210 - accuracy: 0.7294 - val_loss: 0.5953 - val_accuracy: 0.6753\n",
      "Epoch 104/250\n",
      "691/691 [==============================] - 0s 67us/sample - loss: 0.5151 - accuracy: 0.7511 - val_loss: 0.6118 - val_accuracy: 0.6494\n",
      "Epoch 105/250\n",
      "691/691 [==============================] - 0s 81us/sample - loss: 0.5165 - accuracy: 0.7496 - val_loss: 0.5947 - val_accuracy: 0.6753\n",
      "Epoch 106/250\n",
      "691/691 [==============================] - 0s 78us/sample - loss: 0.5095 - accuracy: 0.7525 - val_loss: 0.6117 - val_accuracy: 0.6494\n",
      "Epoch 107/250\n",
      "691/691 [==============================] - 0s 62us/sample - loss: 0.5073 - accuracy: 0.7569 - val_loss: 0.6103 - val_accuracy: 0.6104\n",
      "Epoch 108/250\n",
      "691/691 [==============================] - 0s 68us/sample - loss: 0.5131 - accuracy: 0.7395 - val_loss: 0.6252 - val_accuracy: 0.6104\n",
      "Epoch 109/250\n",
      "691/691 [==============================] - 0s 63us/sample - loss: 0.5152 - accuracy: 0.7294 - val_loss: 0.6112 - val_accuracy: 0.6234\n",
      "Epoch 110/250\n",
      "691/691 [==============================] - 0s 77us/sample - loss: 0.5061 - accuracy: 0.7685 - val_loss: 0.6288 - val_accuracy: 0.6104\n",
      "Epoch 111/250\n",
      "691/691 [==============================] - 0s 83us/sample - loss: 0.5099 - accuracy: 0.7511 - val_loss: 0.6095 - val_accuracy: 0.6234\n",
      "Epoch 112/250\n",
      "691/691 [==============================] - 0s 68us/sample - loss: 0.5100 - accuracy: 0.7467 - val_loss: 0.5891 - val_accuracy: 0.6623\n",
      "Epoch 113/250\n",
      "691/691 [==============================] - 0s 129us/sample - loss: 0.5098 - accuracy: 0.7424 - val_loss: 0.5899 - val_accuracy: 0.6753\n",
      "Epoch 114/250\n",
      "691/691 [==============================] - 0s 73us/sample - loss: 0.5040 - accuracy: 0.7453 - val_loss: 0.6786 - val_accuracy: 0.6494\n",
      "Epoch 115/250\n",
      "691/691 [==============================] - 0s 72us/sample - loss: 0.5195 - accuracy: 0.7410 - val_loss: 0.6399 - val_accuracy: 0.6234\n",
      "Epoch 116/250\n",
      "691/691 [==============================] - 0s 64us/sample - loss: 0.5209 - accuracy: 0.7381 - val_loss: 0.6242 - val_accuracy: 0.6234\n",
      "Epoch 117/250\n",
      "691/691 [==============================] - 0s 66us/sample - loss: 0.5044 - accuracy: 0.7583 - val_loss: 0.5855 - val_accuracy: 0.6883\n",
      "Epoch 118/250\n",
      "691/691 [==============================] - 0s 62us/sample - loss: 0.5075 - accuracy: 0.7525 - val_loss: 0.5968 - val_accuracy: 0.6623\n",
      "Epoch 119/250\n",
      "691/691 [==============================] - 0s 67us/sample - loss: 0.5010 - accuracy: 0.7511 - val_loss: 0.5955 - val_accuracy: 0.6623\n",
      "Epoch 120/250\n",
      "691/691 [==============================] - 0s 71us/sample - loss: 0.5048 - accuracy: 0.7569 - val_loss: 0.5819 - val_accuracy: 0.7013\n",
      "Epoch 121/250\n",
      "691/691 [==============================] - 0s 69us/sample - loss: 0.5088 - accuracy: 0.7656 - val_loss: 0.5963 - val_accuracy: 0.6494\n",
      "Epoch 122/250\n",
      "691/691 [==============================] - 0s 70us/sample - loss: 0.5017 - accuracy: 0.7467 - val_loss: 0.5783 - val_accuracy: 0.7143\n",
      "Epoch 123/250\n",
      "691/691 [==============================] - 0s 67us/sample - loss: 0.5018 - accuracy: 0.7569 - val_loss: 0.5777 - val_accuracy: 0.6883\n",
      "Epoch 124/250\n",
      "691/691 [==============================] - 0s 64us/sample - loss: 0.4996 - accuracy: 0.7540 - val_loss: 0.5875 - val_accuracy: 0.6883\n",
      "Epoch 125/250\n",
      "691/691 [==============================] - 0s 66us/sample - loss: 0.5024 - accuracy: 0.7540 - val_loss: 0.5809 - val_accuracy: 0.7013\n",
      "Epoch 126/250\n",
      "691/691 [==============================] - 0s 68us/sample - loss: 0.5009 - accuracy: 0.7569 - val_loss: 0.5766 - val_accuracy: 0.7143\n",
      "Epoch 127/250\n",
      "691/691 [==============================] - 0s 68us/sample - loss: 0.5017 - accuracy: 0.7453 - val_loss: 0.6079 - val_accuracy: 0.6364\n",
      "Epoch 128/250\n",
      "691/691 [==============================] - 0s 67us/sample - loss: 0.4975 - accuracy: 0.7496 - val_loss: 0.5841 - val_accuracy: 0.7013\n",
      "Epoch 129/250\n",
      "691/691 [==============================] - 0s 65us/sample - loss: 0.4969 - accuracy: 0.7583 - val_loss: 0.5916 - val_accuracy: 0.6753\n",
      "Epoch 130/250\n",
      "691/691 [==============================] - 0s 63us/sample - loss: 0.5027 - accuracy: 0.7496 - val_loss: 0.5971 - val_accuracy: 0.6494\n",
      "Epoch 131/250\n",
      "691/691 [==============================] - 0s 64us/sample - loss: 0.4944 - accuracy: 0.7540 - val_loss: 0.5923 - val_accuracy: 0.6753\n",
      "Epoch 132/250\n",
      "691/691 [==============================] - 0s 62us/sample - loss: 0.4984 - accuracy: 0.7540 - val_loss: 0.5802 - val_accuracy: 0.6883\n",
      "Epoch 133/250\n",
      "691/691 [==============================] - 0s 62us/sample - loss: 0.4962 - accuracy: 0.7482 - val_loss: 0.5811 - val_accuracy: 0.6883\n",
      "Epoch 134/250\n",
      "691/691 [==============================] - 0s 70us/sample - loss: 0.5025 - accuracy: 0.7511 - val_loss: 0.5694 - val_accuracy: 0.7273\n",
      "Epoch 135/250\n",
      "691/691 [==============================] - 0s 73us/sample - loss: 0.4949 - accuracy: 0.7467 - val_loss: 0.6013 - val_accuracy: 0.6494\n",
      "Epoch 136/250\n",
      "691/691 [==============================] - 0s 68us/sample - loss: 0.4926 - accuracy: 0.7496 - val_loss: 0.6298 - val_accuracy: 0.6494\n",
      "Epoch 137/250\n",
      "691/691 [==============================] - 0s 65us/sample - loss: 0.4918 - accuracy: 0.7511 - val_loss: 0.5852 - val_accuracy: 0.6883\n",
      "Epoch 138/250\n",
      "691/691 [==============================] - 0s 63us/sample - loss: 0.4912 - accuracy: 0.7627 - val_loss: 0.5918 - val_accuracy: 0.6753\n",
      "Epoch 139/250\n",
      "691/691 [==============================] - 0s 61us/sample - loss: 0.4935 - accuracy: 0.7554 - val_loss: 0.5892 - val_accuracy: 0.6753\n",
      "Epoch 140/250\n",
      "691/691 [==============================] - 0s 77us/sample - loss: 0.4908 - accuracy: 0.7583 - val_loss: 0.5904 - val_accuracy: 0.6623\n",
      "Epoch 141/250\n",
      "691/691 [==============================] - 0s 69us/sample - loss: 0.4901 - accuracy: 0.7627 - val_loss: 0.5794 - val_accuracy: 0.7013\n",
      "Epoch 142/250\n",
      "691/691 [==============================] - 0s 70us/sample - loss: 0.4921 - accuracy: 0.7598 - val_loss: 0.5975 - val_accuracy: 0.6623\n",
      "Epoch 143/250\n",
      "691/691 [==============================] - 0s 63us/sample - loss: 0.5036 - accuracy: 0.7467 - val_loss: 0.6029 - val_accuracy: 0.6364\n",
      "Epoch 144/250\n",
      "691/691 [==============================] - 0s 66us/sample - loss: 0.5114 - accuracy: 0.7366 - val_loss: 0.5918 - val_accuracy: 0.6623\n",
      "Epoch 145/250\n",
      "691/691 [==============================] - 0s 65us/sample - loss: 0.4913 - accuracy: 0.7511 - val_loss: 0.6003 - val_accuracy: 0.6494\n",
      "Epoch 146/250\n",
      "691/691 [==============================] - 0s 64us/sample - loss: 0.4855 - accuracy: 0.7569 - val_loss: 0.5810 - val_accuracy: 0.7013\n",
      "Epoch 147/250\n",
      "691/691 [==============================] - 0s 71us/sample - loss: 0.4926 - accuracy: 0.7612 - val_loss: 0.5754 - val_accuracy: 0.7143\n",
      "Epoch 148/250\n",
      "691/691 [==============================] - 0s 75us/sample - loss: 0.4879 - accuracy: 0.7554 - val_loss: 0.5833 - val_accuracy: 0.7013\n",
      "Epoch 149/250\n",
      "691/691 [==============================] - 0s 73us/sample - loss: 0.4921 - accuracy: 0.7525 - val_loss: 0.5855 - val_accuracy: 0.6623\n",
      "Epoch 150/250\n",
      "691/691 [==============================] - 0s 68us/sample - loss: 0.4877 - accuracy: 0.7656 - val_loss: 0.5736 - val_accuracy: 0.7013\n",
      "Epoch 151/250\n",
      "691/691 [==============================] - 0s 62us/sample - loss: 0.4831 - accuracy: 0.7554 - val_loss: 0.6141 - val_accuracy: 0.6494\n",
      "Epoch 152/250\n",
      "691/691 [==============================] - 0s 66us/sample - loss: 0.4974 - accuracy: 0.7598 - val_loss: 0.6040 - val_accuracy: 0.6364\n",
      "Epoch 153/250\n",
      "691/691 [==============================] - 0s 63us/sample - loss: 0.4894 - accuracy: 0.7598 - val_loss: 0.6223 - val_accuracy: 0.6364\n",
      "Epoch 154/250\n",
      "691/691 [==============================] - 0s 62us/sample - loss: 0.4926 - accuracy: 0.7598 - val_loss: 0.6210 - val_accuracy: 0.6623\n",
      "Epoch 155/250\n",
      "691/691 [==============================] - 0s 63us/sample - loss: 0.4924 - accuracy: 0.7699 - val_loss: 0.6281 - val_accuracy: 0.6364\n",
      "Epoch 156/250\n",
      "691/691 [==============================] - 0s 61us/sample - loss: 0.4906 - accuracy: 0.7540 - val_loss: 0.5748 - val_accuracy: 0.7013\n",
      "Epoch 157/250\n",
      "691/691 [==============================] - 0s 60us/sample - loss: 0.4818 - accuracy: 0.7699 - val_loss: 0.5870 - val_accuracy: 0.6753\n",
      "Epoch 158/250\n",
      "691/691 [==============================] - 0s 61us/sample - loss: 0.4849 - accuracy: 0.7525 - val_loss: 0.5735 - val_accuracy: 0.7143\n",
      "Epoch 159/250\n",
      "691/691 [==============================] - 0s 64us/sample - loss: 0.4857 - accuracy: 0.7583 - val_loss: 0.5731 - val_accuracy: 0.7013\n",
      "Epoch 160/250\n",
      "691/691 [==============================] - 0s 64us/sample - loss: 0.4844 - accuracy: 0.7612 - val_loss: 0.5820 - val_accuracy: 0.6753\n",
      "Epoch 161/250\n",
      "691/691 [==============================] - 0s 62us/sample - loss: 0.4791 - accuracy: 0.7641 - val_loss: 0.5966 - val_accuracy: 0.6623\n",
      "Epoch 162/250\n",
      "691/691 [==============================] - 0s 62us/sample - loss: 0.4907 - accuracy: 0.7641 - val_loss: 0.6153 - val_accuracy: 0.6234\n",
      "Epoch 163/250\n",
      "691/691 [==============================] - 0s 62us/sample - loss: 0.4902 - accuracy: 0.7554 - val_loss: 0.6010 - val_accuracy: 0.6494\n",
      "Epoch 164/250\n",
      "691/691 [==============================] - 0s 64us/sample - loss: 0.4801 - accuracy: 0.7656 - val_loss: 0.5676 - val_accuracy: 0.7273\n",
      "Epoch 165/250\n",
      "691/691 [==============================] - 0s 63us/sample - loss: 0.4825 - accuracy: 0.7670 - val_loss: 0.5775 - val_accuracy: 0.6753\n",
      "Epoch 166/250\n",
      "691/691 [==============================] - 0s 69us/sample - loss: 0.4820 - accuracy: 0.7540 - val_loss: 0.6041 - val_accuracy: 0.6494\n",
      "Epoch 167/250\n",
      "691/691 [==============================] - 0s 67us/sample - loss: 0.4809 - accuracy: 0.7656 - val_loss: 0.6116 - val_accuracy: 0.6364\n",
      "Epoch 168/250\n",
      "691/691 [==============================] - 0s 68us/sample - loss: 0.4853 - accuracy: 0.7511 - val_loss: 0.5835 - val_accuracy: 0.6753\n",
      "Epoch 169/250\n",
      "691/691 [==============================] - 0s 72us/sample - loss: 0.4906 - accuracy: 0.7482 - val_loss: 0.5829 - val_accuracy: 0.6883\n",
      "Epoch 170/250\n",
      "691/691 [==============================] - 0s 71us/sample - loss: 0.4804 - accuracy: 0.7554 - val_loss: 0.5938 - val_accuracy: 0.6753\n",
      "Epoch 171/250\n",
      "691/691 [==============================] - 0s 75us/sample - loss: 0.4862 - accuracy: 0.7569 - val_loss: 0.5699 - val_accuracy: 0.7532\n",
      "Epoch 172/250\n",
      "691/691 [==============================] - 0s 75us/sample - loss: 0.4808 - accuracy: 0.7656 - val_loss: 0.5994 - val_accuracy: 0.6494\n",
      "Epoch 173/250\n",
      "691/691 [==============================] - 0s 75us/sample - loss: 0.4817 - accuracy: 0.7583 - val_loss: 0.6006 - val_accuracy: 0.6494\n",
      "Epoch 174/250\n",
      "691/691 [==============================] - 0s 67us/sample - loss: 0.4835 - accuracy: 0.7742 - val_loss: 0.5979 - val_accuracy: 0.6623\n",
      "Epoch 175/250\n",
      "691/691 [==============================] - 0s 62us/sample - loss: 0.4785 - accuracy: 0.7699 - val_loss: 0.5890 - val_accuracy: 0.6494\n",
      "Epoch 176/250\n",
      "691/691 [==============================] - 0s 68us/sample - loss: 0.4930 - accuracy: 0.7569 - val_loss: 0.6418 - val_accuracy: 0.6364\n",
      "Epoch 177/250\n",
      "691/691 [==============================] - 0s 65us/sample - loss: 0.4847 - accuracy: 0.7742 - val_loss: 0.5651 - val_accuracy: 0.7013\n",
      "Epoch 178/250\n",
      "691/691 [==============================] - 0s 69us/sample - loss: 0.4773 - accuracy: 0.7627 - val_loss: 0.5667 - val_accuracy: 0.7143\n",
      "Epoch 179/250\n",
      "691/691 [==============================] - 0s 68us/sample - loss: 0.4781 - accuracy: 0.7641 - val_loss: 0.5995 - val_accuracy: 0.6883\n",
      "Epoch 180/250\n",
      "691/691 [==============================] - 0s 61us/sample - loss: 0.4841 - accuracy: 0.7685 - val_loss: 0.5651 - val_accuracy: 0.7662\n",
      "Epoch 181/250\n",
      "691/691 [==============================] - 0s 60us/sample - loss: 0.4889 - accuracy: 0.7540 - val_loss: 0.5698 - val_accuracy: 0.7273\n",
      "Epoch 182/250\n",
      "691/691 [==============================] - 0s 67us/sample - loss: 0.4812 - accuracy: 0.7656 - val_loss: 0.5693 - val_accuracy: 0.7403\n",
      "Epoch 183/250\n",
      "691/691 [==============================] - 0s 61us/sample - loss: 0.4787 - accuracy: 0.7685 - val_loss: 0.5692 - val_accuracy: 0.6883\n",
      "Epoch 184/250\n",
      "691/691 [==============================] - 0s 65us/sample - loss: 0.4756 - accuracy: 0.7670 - val_loss: 0.5615 - val_accuracy: 0.7273\n",
      "Epoch 185/250\n",
      "691/691 [==============================] - 0s 65us/sample - loss: 0.4794 - accuracy: 0.7627 - val_loss: 0.5750 - val_accuracy: 0.6883\n",
      "Epoch 186/250\n",
      "691/691 [==============================] - 0s 59us/sample - loss: 0.4720 - accuracy: 0.7728 - val_loss: 0.5641 - val_accuracy: 0.7143\n",
      "Epoch 187/250\n",
      "691/691 [==============================] - 0s 62us/sample - loss: 0.4764 - accuracy: 0.7670 - val_loss: 0.5682 - val_accuracy: 0.7403\n",
      "Epoch 188/250\n",
      "691/691 [==============================] - 0s 58us/sample - loss: 0.4873 - accuracy: 0.7540 - val_loss: 0.5728 - val_accuracy: 0.7273\n",
      "Epoch 189/250\n",
      "691/691 [==============================] - 0s 62us/sample - loss: 0.4767 - accuracy: 0.7598 - val_loss: 0.5659 - val_accuracy: 0.7013\n",
      "Epoch 190/250\n",
      "691/691 [==============================] - 0s 59us/sample - loss: 0.4846 - accuracy: 0.7627 - val_loss: 0.5594 - val_accuracy: 0.7532\n",
      "Epoch 191/250\n",
      "691/691 [==============================] - 0s 62us/sample - loss: 0.4743 - accuracy: 0.7685 - val_loss: 0.5620 - val_accuracy: 0.7403\n",
      "Epoch 192/250\n",
      "691/691 [==============================] - 0s 68us/sample - loss: 0.4790 - accuracy: 0.7656 - val_loss: 0.5658 - val_accuracy: 0.7532\n",
      "Epoch 193/250\n",
      "691/691 [==============================] - 0s 67us/sample - loss: 0.4780 - accuracy: 0.7656 - val_loss: 0.5740 - val_accuracy: 0.6753\n",
      "Epoch 194/250\n",
      "691/691 [==============================] - 0s 64us/sample - loss: 0.4734 - accuracy: 0.7641 - val_loss: 0.5657 - val_accuracy: 0.7662\n",
      "Epoch 195/250\n",
      "691/691 [==============================] - 0s 65us/sample - loss: 0.4727 - accuracy: 0.7627 - val_loss: 0.5687 - val_accuracy: 0.7013\n",
      "Epoch 196/250\n",
      "691/691 [==============================] - 0s 61us/sample - loss: 0.4824 - accuracy: 0.7569 - val_loss: 0.5817 - val_accuracy: 0.6623\n",
      "Epoch 197/250\n",
      "691/691 [==============================] - 0s 60us/sample - loss: 0.4757 - accuracy: 0.7699 - val_loss: 0.6098 - val_accuracy: 0.7013\n",
      "Epoch 198/250\n",
      "691/691 [==============================] - 0s 71us/sample - loss: 0.4800 - accuracy: 0.7728 - val_loss: 0.5824 - val_accuracy: 0.6234\n",
      "Epoch 199/250\n",
      "691/691 [==============================] - 0s 64us/sample - loss: 0.4834 - accuracy: 0.7583 - val_loss: 0.6494 - val_accuracy: 0.6623\n",
      "Epoch 200/250\n",
      "691/691 [==============================] - 0s 64us/sample - loss: 0.4831 - accuracy: 0.7728 - val_loss: 0.5820 - val_accuracy: 0.6623\n",
      "Epoch 201/250\n",
      "691/691 [==============================] - 0s 63us/sample - loss: 0.4731 - accuracy: 0.7656 - val_loss: 0.5670 - val_accuracy: 0.7403\n",
      "Epoch 202/250\n",
      "691/691 [==============================] - 0s 70us/sample - loss: 0.4697 - accuracy: 0.7699 - val_loss: 0.5863 - val_accuracy: 0.6494\n",
      "Epoch 203/250\n",
      "691/691 [==============================] - 0s 70us/sample - loss: 0.4693 - accuracy: 0.7656 - val_loss: 0.5635 - val_accuracy: 0.7013\n",
      "Epoch 204/250\n",
      "691/691 [==============================] - 0s 70us/sample - loss: 0.4762 - accuracy: 0.7699 - val_loss: 0.5570 - val_accuracy: 0.7662\n",
      "Epoch 205/250\n",
      "691/691 [==============================] - 0s 69us/sample - loss: 0.4743 - accuracy: 0.7525 - val_loss: 0.5827 - val_accuracy: 0.6753\n",
      "Epoch 206/250\n",
      "691/691 [==============================] - 0s 70us/sample - loss: 0.4658 - accuracy: 0.7757 - val_loss: 0.5573 - val_accuracy: 0.7403\n",
      "Epoch 207/250\n",
      "691/691 [==============================] - 0s 76us/sample - loss: 0.4739 - accuracy: 0.7685 - val_loss: 0.5738 - val_accuracy: 0.7273\n",
      "Epoch 208/250\n",
      "691/691 [==============================] - 0s 68us/sample - loss: 0.4728 - accuracy: 0.7728 - val_loss: 0.5608 - val_accuracy: 0.7273\n",
      "Epoch 209/250\n",
      "691/691 [==============================] - 0s 63us/sample - loss: 0.4645 - accuracy: 0.7757 - val_loss: 0.5811 - val_accuracy: 0.6623\n",
      "Epoch 210/250\n",
      "691/691 [==============================] - 0s 69us/sample - loss: 0.4681 - accuracy: 0.7685 - val_loss: 0.5676 - val_accuracy: 0.6883\n",
      "Epoch 211/250\n",
      "691/691 [==============================] - 0s 61us/sample - loss: 0.4812 - accuracy: 0.7612 - val_loss: 0.5698 - val_accuracy: 0.7273\n",
      "Epoch 212/250\n",
      "691/691 [==============================] - 0s 67us/sample - loss: 0.4845 - accuracy: 0.7525 - val_loss: 0.5995 - val_accuracy: 0.6623\n",
      "Epoch 213/250\n",
      "691/691 [==============================] - 0s 78us/sample - loss: 0.4729 - accuracy: 0.7598 - val_loss: 0.5664 - val_accuracy: 0.7013\n",
      "Epoch 214/250\n",
      "691/691 [==============================] - 0s 74us/sample - loss: 0.4670 - accuracy: 0.7713 - val_loss: 0.5578 - val_accuracy: 0.7013\n",
      "Epoch 215/250\n",
      "691/691 [==============================] - 0s 73us/sample - loss: 0.4655 - accuracy: 0.7699 - val_loss: 0.5709 - val_accuracy: 0.6753\n",
      "Epoch 216/250\n",
      "691/691 [==============================] - 0s 83us/sample - loss: 0.4674 - accuracy: 0.7670 - val_loss: 0.5779 - val_accuracy: 0.6623\n",
      "Epoch 217/250\n",
      "691/691 [==============================] - 0s 68us/sample - loss: 0.4759 - accuracy: 0.7612 - val_loss: 0.6015 - val_accuracy: 0.6623\n",
      "Epoch 218/250\n",
      "691/691 [==============================] - 0s 72us/sample - loss: 0.4719 - accuracy: 0.7699 - val_loss: 0.5745 - val_accuracy: 0.6753\n",
      "Epoch 219/250\n",
      "691/691 [==============================] - 0s 63us/sample - loss: 0.4646 - accuracy: 0.7685 - val_loss: 0.5595 - val_accuracy: 0.7013\n",
      "Epoch 220/250\n",
      "691/691 [==============================] - 0s 66us/sample - loss: 0.4633 - accuracy: 0.7742 - val_loss: 0.5649 - val_accuracy: 0.6883\n",
      "Epoch 221/250\n",
      "691/691 [==============================] - 0s 67us/sample - loss: 0.4684 - accuracy: 0.7699 - val_loss: 0.5679 - val_accuracy: 0.6753\n",
      "Epoch 222/250\n",
      "691/691 [==============================] - 0s 71us/sample - loss: 0.4642 - accuracy: 0.7713 - val_loss: 0.5839 - val_accuracy: 0.6753\n",
      "Epoch 223/250\n",
      "691/691 [==============================] - 0s 68us/sample - loss: 0.4697 - accuracy: 0.7511 - val_loss: 0.6109 - val_accuracy: 0.6753\n",
      "Epoch 224/250\n",
      "691/691 [==============================] - 0s 71us/sample - loss: 0.4762 - accuracy: 0.7569 - val_loss: 0.6343 - val_accuracy: 0.6753\n",
      "Epoch 225/250\n",
      "691/691 [==============================] - 0s 69us/sample - loss: 0.4720 - accuracy: 0.7569 - val_loss: 0.5564 - val_accuracy: 0.7532\n",
      "Epoch 226/250\n",
      "691/691 [==============================] - 0s 67us/sample - loss: 0.4676 - accuracy: 0.7728 - val_loss: 0.5620 - val_accuracy: 0.7403\n",
      "Epoch 227/250\n",
      "691/691 [==============================] - 0s 64us/sample - loss: 0.4612 - accuracy: 0.7685 - val_loss: 0.5668 - val_accuracy: 0.6883\n",
      "Epoch 228/250\n",
      "691/691 [==============================] - 0s 67us/sample - loss: 0.4646 - accuracy: 0.7685 - val_loss: 0.5780 - val_accuracy: 0.6623\n",
      "Epoch 229/250\n",
      "691/691 [==============================] - 0s 77us/sample - loss: 0.4633 - accuracy: 0.7656 - val_loss: 0.5534 - val_accuracy: 0.7662\n",
      "Epoch 230/250\n",
      "691/691 [==============================] - 0s 76us/sample - loss: 0.4778 - accuracy: 0.7540 - val_loss: 0.5694 - val_accuracy: 0.6623\n",
      "Epoch 231/250\n",
      "691/691 [==============================] - 0s 75us/sample - loss: 0.4771 - accuracy: 0.7627 - val_loss: 0.5509 - val_accuracy: 0.7662\n",
      "Epoch 232/250\n",
      "691/691 [==============================] - 0s 70us/sample - loss: 0.4686 - accuracy: 0.7757 - val_loss: 0.5581 - val_accuracy: 0.7273\n",
      "Epoch 233/250\n",
      "691/691 [==============================] - 0s 70us/sample - loss: 0.4630 - accuracy: 0.7656 - val_loss: 0.5800 - val_accuracy: 0.6753\n",
      "Epoch 234/250\n",
      "691/691 [==============================] - 0s 70us/sample - loss: 0.4604 - accuracy: 0.7728 - val_loss: 0.5475 - val_accuracy: 0.7273\n",
      "Epoch 235/250\n",
      "691/691 [==============================] - 0s 69us/sample - loss: 0.4632 - accuracy: 0.7627 - val_loss: 0.5584 - val_accuracy: 0.7013\n",
      "Epoch 236/250\n",
      "691/691 [==============================] - 0s 65us/sample - loss: 0.4618 - accuracy: 0.7757 - val_loss: 0.5605 - val_accuracy: 0.7273\n",
      "Epoch 237/250\n",
      "691/691 [==============================] - 0s 66us/sample - loss: 0.4646 - accuracy: 0.7598 - val_loss: 0.5724 - val_accuracy: 0.6883\n",
      "Epoch 238/250\n",
      "691/691 [==============================] - 0s 65us/sample - loss: 0.4630 - accuracy: 0.7699 - val_loss: 0.5694 - val_accuracy: 0.6883\n",
      "Epoch 239/250\n",
      "691/691 [==============================] - 0s 63us/sample - loss: 0.4698 - accuracy: 0.7757 - val_loss: 0.5486 - val_accuracy: 0.7013\n",
      "Epoch 240/250\n",
      "691/691 [==============================] - 0s 68us/sample - loss: 0.4616 - accuracy: 0.7685 - val_loss: 0.5651 - val_accuracy: 0.6753\n",
      "Epoch 241/250\n",
      "691/691 [==============================] - 0s 68us/sample - loss: 0.4660 - accuracy: 0.7699 - val_loss: 0.5925 - val_accuracy: 0.6753\n",
      "Epoch 242/250\n",
      "691/691 [==============================] - 0s 70us/sample - loss: 0.4737 - accuracy: 0.7699 - val_loss: 0.5838 - val_accuracy: 0.6753\n",
      "Epoch 243/250\n",
      "691/691 [==============================] - 0s 75us/sample - loss: 0.4616 - accuracy: 0.7670 - val_loss: 0.5593 - val_accuracy: 0.6753\n",
      "Epoch 244/250\n",
      "691/691 [==============================] - 0s 85us/sample - loss: 0.4610 - accuracy: 0.7902 - val_loss: 0.5549 - val_accuracy: 0.7403\n",
      "Epoch 245/250\n",
      "691/691 [==============================] - 0s 67us/sample - loss: 0.4629 - accuracy: 0.7685 - val_loss: 0.5612 - val_accuracy: 0.6753\n",
      "Epoch 246/250\n",
      "691/691 [==============================] - 0s 67us/sample - loss: 0.4662 - accuracy: 0.7583 - val_loss: 0.5581 - val_accuracy: 0.7403\n",
      "Epoch 247/250\n",
      "691/691 [==============================] - 0s 66us/sample - loss: 0.4711 - accuracy: 0.7583 - val_loss: 0.5537 - val_accuracy: 0.6883\n",
      "Epoch 248/250\n",
      "691/691 [==============================] - 0s 64us/sample - loss: 0.4613 - accuracy: 0.7670 - val_loss: 0.5549 - val_accuracy: 0.6883\n",
      "Epoch 249/250\n",
      "691/691 [==============================] - 0s 63us/sample - loss: 0.4640 - accuracy: 0.7540 - val_loss: 0.5578 - val_accuracy: 0.6883\n",
      "Epoch 250/250\n",
      "691/691 [==============================] - 0s 66us/sample - loss: 0.4592 - accuracy: 0.7844 - val_loss: 0.5571 - val_accuracy: 0.7013\n"
     ]
    },
    {
     "data": {
      "text/plain": [
       "<tensorflow.python.keras.callbacks.History at 0x7f83a99825f8>"
      ]
     },
     "execution_count": 39,
     "metadata": {},
     "output_type": "execute_result"
    }
   ],
   "source": [
    "model_improved.fit(X,y, epochs=250, validation_split=.10)"
   ]
  },
  {
   "cell_type": "code",
   "execution_count": 40,
   "metadata": {},
   "outputs": [
    {
     "name": "stdout",
     "output_type": "stream",
     "text": [
      "768/1 [================================================================================================================================================================================================================================================================================================================================================================================================================================================================================================================================================================================================================================================================================================================================================================================================================================================================================================================================================================================================================================================================================================================================================================================================================================================================================================================================================================================================================================================================================================================================================================================================================================================================================================================================================================================================================================================================================================================================================================================================================================================================================================================================================================================================================================================================================================================================================================================================================================================================================================================================================================================================================================================================================================================================================================================================================================================================================================================================================================================================================================================================================================================================================================================================================================================================================================================================================================================================================================================================================================================================================================================================================================================================================================================================================================================================================================================================================================================================================================================================================================================================================================================================================================================================================================================================================================================================================================================================================================================================================================================================================================================================================================================================================================================================================================================================================================================================================================================================================================================================================================================================================================================================================================================================================================================================================================================================================================================================================================================================================================================================================================================================================================================================================================================================================================================================================================================================================================================================================================================================================================================================================================================================================================================================================================================================================================================================================================================================================================================================================================================================================================================================================================================================================================================================================================================================================================================================================================================================================================================================================================================================================================================================================================================================================================================================================================================================================================================================================================================================================================================================================================================================================================================================================================================================================================================================================================================================================================================================================================================================================================================================================================================================================================================================================================================================================================================================================================================================================================================================================================================================================================================================================================================================================================================================================================================================================================================================================================================================================================================================================================================================================================================================================================================================================================================================================================================================================================================================================================================================================================================================================================================================================================================================================================================================================================================================================================================================================================================================================================================================================================================================================================================================================================================================================================================================================================================================================================================================================================================================================================================================================================================================================================================================================================================================================================================================================================================================================================================================================================================================================================================================================================================================================================================================================================================================================================================================================================================================================================================================================================================================================================================================================================================================================================================================================================================================================================================================================================================================================================================================================================================================================================================================================================================================================================================================================================================================================================================================================================================================================================================================================================================================================================================================================================================================================================================================================================================================================================================================================================================================================================================================================================================================================================================================================================================================================================================================================================================================================================================================================================================================================================================================================================================================================================================================================================================================================================================================================================================================================================================================================================================================================================================================================================================================================================================================================================================================================================================================================================================================================================================================================================================================================================================================================================================================================================================================================================================================================================================================================================================================================================================================================================================================================================================================================================================================================================================================================================================================================================================================================================================================================================================================================================================================================================================================================================================================================================================================================================================================================================================================================================================================================================================================================================================================================================================================================================================================================================================================================================================================================================================================================================================================================================================================================================================================================================================================================================================================================================================================================================================================================================================================================================================================================================================================================================================================================================================================================================================================================================================================================================================================================================================================================================================================================================================================================================================================================================================================================================================================================================================================================================================================================================================================================================================================================================================================================================================================================================================================================================================================================================================================================================================================================================================================================================================================================================================================================================================================================================================================================================================================================================================================================================================================================================================================================================================================================================================================================================================================================================================================================================================================================================================================================================================================================================================================================================================================================================================================================================================================================================================================================================================================================================================================================================================================================================================================================================================================================================================================================================================================================================================================================================================================================================================================================================================================================================================================================================================================================================================================================================================================================================================================================================================================================================================================================================================================================================================================================================================================================================================================================================================================================================================================================================================================================================================================================================================================================================================================================================================================================================================================================================================================================================================================================================================================================================================================================================================================================================================================================================================================================================================================================================================================================================================================================================================================================================================================================================================================================================================================================================================================================================================================================================================================================================================================================================================================================================================================================================================================================================================================================================================================================================================================================================================================================================================================================================================================================================================================================================================================================================================================] - 0s 143us/sample - loss: 0.4876 - accuracy: 0.7760\n"
     ]
    },
    {
     "data": {
      "text/plain": [
       "[0.46204566831390065, 0.7760417]"
      ]
     },
     "execution_count": 40,
     "metadata": {},
     "output_type": "execute_result"
    }
   ],
   "source": [
    "model_improved.evaluate(X,y)\n",
    "#print(f\"{model_improved.metrics_names[1]}: {scores[1]*100}\")"
   ]
  },
  {
   "cell_type": "code",
   "execution_count": 41,
   "metadata": {},
   "outputs": [
    {
     "name": "stdout",
     "output_type": "stream",
     "text": [
      "Model: \"EvenNuerons4LayerJunk\"\n",
      "_________________________________________________________________\n",
      "Layer (type)                 Output Shape              Param #   \n",
      "=================================================================\n",
      "Dense1 (Dense)               (None, 8)                 72        \n",
      "_________________________________________________________________\n",
      "dense_23 (Dense)             (None, 8)                 72        \n",
      "_________________________________________________________________\n",
      "dense_24 (Dense)             (None, 8)                 72        \n",
      "_________________________________________________________________\n",
      "dense_25 (Dense)             (None, 1)                 9         \n",
      "=================================================================\n",
      "Total params: 225\n",
      "Trainable params: 225\n",
      "Non-trainable params: 0\n",
      "_________________________________________________________________\n"
     ]
    }
   ],
   "source": [
    "model_improved.summary()"
   ]
  },
  {
   "cell_type": "markdown",
   "metadata": {},
   "source": [
    "## Challenge\n",
    "\n",
    "You will have to choose your own architectures in today's module project. "
   ]
  },
  {
   "cell_type": "markdown",
   "metadata": {
    "colab_type": "text",
    "id": "tcjMuxtn6wIQ",
    "toc-hr-collapsed": false
   },
   "source": [
    "# Activation Functions (Learn)"
   ]
  },
  {
   "cell_type": "markdown",
   "metadata": {
    "colab_type": "text",
    "id": "tcjMuxtn6wIQ",
    "toc-hr-collapsed": false
   },
   "source": [
    "## Overview\n",
    "What is an activation function and how does it work?\n",
    "\n",
    "- Takes in a weighted sum of inputs + a bias from the previous layer and outputs an \"activation\" value.\n",
    "- Based its inputs the neuron decides how 'activated' it should be. This can be thought of as the neuron deciding how strongly to fire. You can also think of it as if the neuron is deciding how much of the signal that it has received to pass onto the next layer. \n",
    "- Our choice of activation function does not only affect signal that is passed forward but also affects the backpropagation algorithm. It affects how we update weights in reverse order since activated weight/input sums become the inputs of the next layer. "
   ]
  },
  {
   "cell_type": "markdown",
   "metadata": {
    "toc-hr-collapsed": true
   },
   "source": [
    "## Follow Along"
   ]
  },
  {
   "cell_type": "markdown",
   "metadata": {
    "colab_type": "text",
    "id": "n_b0u8Ch60bA"
   },
   "source": [
    "### Step Function\n",
    "\n",
    "![Heaviside Step Function](https://upload.wikimedia.org/wikipedia/commons/thumb/d/d9/Dirac_distribution_CDF.svg/325px-Dirac_distribution_CDF.svg.png)\n",
    "\n",
    "All or nothing, a little extreme, which is fine, but makes updating weights through backpropagation impossible. Why? remember that during backpropagation we use derivatives in order to determine how much to update or not update weights. What is the derivative of the step function?"
   ]
  },
  {
   "cell_type": "markdown",
   "metadata": {
    "colab_type": "text",
    "id": "vKR0YhIVEnXZ"
   },
   "source": [
    "### Linear Function\n",
    "\n",
    "![Linear Function](http://www.roconnell.net/Parent%20function/linear.gif)\n",
    "\n",
    "The linear function takes the opposite tact from the step function and passes the signal onto the next layer by a constant factor. There are problems with this but the biggest problems again lie in backpropagation. The derivative of any linear function is a horizontal line which would indicate that we should update all weights by a constant amount every time -which on balance wouldn't change the behavior of our network. Linear functions are typically only used for very simple tasks where interpretability is important, but if interpretability is your highest priority, you probably shouldn't be using neural networks in the first place."
   ]
  },
  {
   "cell_type": "markdown",
   "metadata": {
    "colab_type": "text",
    "id": "JFurIVL6EkQ8"
   },
   "source": [
    "### Sigmoid Function\n",
    "\n",
    "![Sigmoid Function](https://upload.wikimedia.org/wikipedia/commons/thumb/8/88/Logistic-curve.svg/480px-Logistic-curve.svg.png)\n",
    "\n",
    "The sigmoid function works great as an activation function! it's continuously differentiable, its derivative doesn't have a constant slope, and having the higher slope in the middle pushes y value predictions towards extremes which is particularly useful for binary classification problems. I mean, this is why we use it as the squishifier in logistic regression as well. It constrains output, but over repeated epochs pushes predictions towards a strong binary prediction. \n",
    "\n",
    "What's the biggest problem with the sigmoid function? The fact that its slope gets pretty flat so quickly after its departure from zero. This means that updating weights based on its gradient really diminishes the size of our weight updates as our model gets more confident about its classifications. This is why even after so many iterations with our test score example we couldn't reach the levels of fit that our gradient descent based model could reach in just a few epochs."
   ]
  },
  {
   "cell_type": "markdown",
   "metadata": {
    "colab_type": "text",
    "id": "hm6p1HWbEhYi"
   },
   "source": [
    "### Tanh Function\n",
    "\n",
    "![Tanh Function](http://mathworld.wolfram.com/images/interactive/TanhReal.gif)\n",
    "\n",
    "What if the sigmoid function didn't get so flat quite as soon when moving away from zero and was a little bit steeper in the middle? That's basically the Tanh function. The Tanh function can actually be created by scaling the sigmoid function by 2 in the y dimension and subtracting 1 from all values. It has basically the same properties as the sigmoid, still struggles from diminishingly flat gradients as we move away from 0, but its derivative is higher around 0 causing weights to move to the extremes a little faster. "
   ]
  },
  {
   "cell_type": "markdown",
   "metadata": {
    "colab_type": "text",
    "id": "sFOn_L6gEcz1"
   },
   "source": [
    "### ReLU Function\n",
    "\n",
    "![ReLU Function](https://cdn-images-1.medium.com/max/937/1*oePAhrm74RNnNEolprmTaQ.png)\n",
    "\n",
    "ReLU stands for Rectified Linear Units it is by far the most commonly used activation function in modern neural networks. It doesn't activate neurons that are being passed a negative signal and passes on positive signals. Think about why this might be useful. Remember how a lot of our initial weights got set to negative numbers by chance? This would have dealt with those negative weights a lot faster than the sigmoid function updating. What does the derivative of this function look like? It looks like the step function! This means that not all neurons are activated. With sigmoid basically all of our neurons are passing some amount of signal even if it's small making it hard for the network to differentiate important and less important connections. ReLU turns off a portion of our less important neurons which decreases computational load, but also helps the network learn what the most important connections are faster. \n",
    "\n",
    "What's the problem with relu? Well the left half of its derivative function shows that for neurons that are initialized with weights that cause them to have no activation, our gradient will not update those neuron's weights, this can lead to dead neurons that never fire and whose weights never get updated. We would probably want to update the weights of neurons that didn't fire even if it's just by a little bit in case we got unlucky with our initial weights and want to give those neurons a chance of turning back on in the future."
   ]
  },
  {
   "cell_type": "markdown",
   "metadata": {
    "colab_type": "text",
    "id": "XWdvWOBIETwk"
   },
   "source": [
    "### Leaky ReLU\n",
    "\n",
    "![Leaky ReLU](https://cdn-images-1.medium.com/max/1600/1*ypsvQH7kvtI2BhzR2eT_Sw.png)\n",
    "\n",
    "Leaky ReLU accomplishes exactly that! it avoids having a gradient of 0 on the left side of its derivative function. This means that even \"dead\" neurons have a chance of being revived over enough iterations. In some specifications the slope of the leaky left-hand side can also be experimented with as a hyperparameter of the model!"
   ]
  },
  {
   "cell_type": "markdown",
   "metadata": {
    "colab_type": "text",
    "id": "FcAxkNFREMFb"
   },
   "source": [
    "### Softmax Function\n",
    "\n",
    "![Softmax Function](https://cdn-images-1.medium.com/max/800/1*670CdxchunD-yAuUWdI7Bw.png)\n",
    "\n",
    "Like the sigmoid function but more useful for multi-class classification problems. The softmax function can take any set of inputs and translate them into probabilities that sum up to 1. This means that we can throw any list of outputs at it and it will translate them into probabilities, this is extremely useful for multi-class classification problems. Like MNIST for example..."
   ]
  },
  {
   "cell_type": "markdown",
   "metadata": {
    "colab_type": "text",
    "id": "23-XRRXKHs34"
   },
   "source": [
    "### Major takeaways\n",
    "\n",
    "- ReLU is generally better at obtaining the optimal model fit.\n",
    "- Sigmoid and its derivatives are usually better at classification problems.\n",
    "- Softmax for multi-class classification problems. \n",
    "\n",
    "You'll typically see ReLU used for all initial layers and then the final layer being sigmoid or softmax for classification problems. But you can experiment and tune these selections as hyperparameters as well!"
   ]
  },
  {
   "cell_type": "markdown",
   "metadata": {
    "colab_type": "text",
    "id": "TWuoXZCCKCI7"
   },
   "source": [
    "### MNIST with Keras \n",
    "\n",
    "#### This will be a good chance to bring up dropout regularization. :)"
   ]
  },
  {
   "cell_type": "code",
   "execution_count": 38,
   "metadata": {
    "colab": {},
    "colab_type": "code",
    "id": "jmJ_5azs04pU"
   },
   "outputs": [],
   "source": [
    "### Let's do it!\n",
    "\n",
    "from tensorflow import keras\n",
    "from tensorflow.keras.datasets import mnist\n",
    "from tensorflow.keras.models import Sequential\n",
    "from tensorflow.keras.layers import Dense, Dropout\n",
    "\n",
    "# Stretch - use dropout \n",
    "import numpy as np"
   ]
  },
  {
   "cell_type": "code",
   "execution_count": 39,
   "metadata": {},
   "outputs": [],
   "source": [
    "# Hyper Parameters\n",
    "batch_size = 64\n",
    "num_classes = 10\n",
    "epochs = 20"
   ]
  },
  {
   "cell_type": "code",
   "execution_count": 40,
   "metadata": {},
   "outputs": [
    {
     "name": "stdout",
     "output_type": "stream",
     "text": [
      "Downloading data from https://storage.googleapis.com/tensorflow/tf-keras-datasets/mnist.npz\n",
      "11493376/11490434 [==============================] - 0s 0us/step\n"
     ]
    }
   ],
   "source": [
    "# Load the Data\n",
    "(X_train, y_train), (X_test, y_test) = mnist.load_data()"
   ]
  },
  {
   "cell_type": "code",
   "execution_count": 41,
   "metadata": {},
   "outputs": [
    {
     "data": {
      "text/plain": [
       "(28, 28)"
      ]
     },
     "execution_count": 41,
     "metadata": {},
     "output_type": "execute_result"
    }
   ],
   "source": [
    "X_train[0].shape"
   ]
  },
  {
   "cell_type": "code",
   "execution_count": null,
   "metadata": {},
   "outputs": [],
   "source": [
    "X_train.shape"
   ]
  },
  {
   "cell_type": "code",
   "execution_count": null,
   "metadata": {},
   "outputs": [],
   "source": [
    "X_train[0]"
   ]
  },
  {
   "cell_type": "code",
   "execution_count": 42,
   "metadata": {},
   "outputs": [],
   "source": [
    "# Reshape the data\n",
    "X_train = X_train.reshape(60000, 784)\n",
    "X_test = X_test.reshape(10000, 784)"
   ]
  },
  {
   "cell_type": "code",
   "execution_count": 43,
   "metadata": {},
   "outputs": [],
   "source": [
    "# X Variable Types\n",
    "X_train = X_train.astype('float32')\n",
    "X_test = X_test.astype('float32')"
   ]
  },
  {
   "cell_type": "code",
   "execution_count": 44,
   "metadata": {},
   "outputs": [
    {
     "data": {
      "text/plain": [
       "4"
      ]
     },
     "execution_count": 44,
     "metadata": {},
     "output_type": "execute_result"
    }
   ],
   "source": [
    "y_train[2] "
   ]
  },
  {
   "cell_type": "code",
   "execution_count": 45,
   "metadata": {},
   "outputs": [
    {
     "data": {
      "text/plain": [
       "4"
      ]
     },
     "execution_count": 45,
     "metadata": {},
     "output_type": "execute_result"
    }
   ],
   "source": [
    "y_train[2]"
   ]
  },
  {
   "cell_type": "code",
   "execution_count": 47,
   "metadata": {},
   "outputs": [],
   "source": [
    "# Correct Encoding on Y\n",
    "# What softmax expects = [0,0,0,0,0,1,0,0,0,0]\n",
    "\n",
    "y_train = keras.utils.to_categorical(y_train, num_classes)\n",
    "y_test = keras.utils.to_categorical(y_test, num_classes)"
   ]
  },
  {
   "cell_type": "code",
   "execution_count": 48,
   "metadata": {},
   "outputs": [
    {
     "data": {
      "text/plain": [
       "array([0., 0., 0., 0., 1., 0., 0., 0., 0., 0.], dtype=float32)"
      ]
     },
     "execution_count": 48,
     "metadata": {},
     "output_type": "execute_result"
    }
   ],
   "source": [
    "y_train[2]"
   ]
  },
  {
   "cell_type": "code",
   "execution_count": 49,
   "metadata": {},
   "outputs": [
    {
     "name": "stdout",
     "output_type": "stream",
     "text": [
      "Model: \"sequential_3\"\n",
      "_________________________________________________________________\n",
      "Layer (type)                 Output Shape              Param #   \n",
      "=================================================================\n",
      "dense_14 (Dense)             (None, 16)                12560     \n",
      "_________________________________________________________________\n",
      "dense_15 (Dense)             (None, 16)                272       \n",
      "_________________________________________________________________\n",
      "dense_16 (Dense)             (None, 16)                272       \n",
      "_________________________________________________________________\n",
      "dense_17 (Dense)             (None, 16)                272       \n",
      "_________________________________________________________________\n",
      "dense_18 (Dense)             (None, 10)                170       \n",
      "=================================================================\n",
      "Total params: 13,546\n",
      "Trainable params: 13,546\n",
      "Non-trainable params: 0\n",
      "_________________________________________________________________\n"
     ]
    }
   ],
   "source": [
    "mnist_model = Sequential()\n",
    "\n",
    "# Input => Hidden\n",
    "mnist_model.add(Dense(16, input_dim=784, activation='relu'))\n",
    "# Hidden\n",
    "mnist_model.add(Dense(16, activation='relu'))\n",
    "# Hidden\n",
    "mnist_model.add(Dense(16, activation='relu'))\n",
    "# Hidden\n",
    "mnist_model.add(Dense(16, activation='relu'))\n",
    "# Output\n",
    "mnist_model.add(Dense(10,activation='softmax'))\n",
    "\n",
    "#Compile\n",
    "mnist_model.compile(loss='categorical_crossentropy',\n",
    "                    optimizer='adam',\n",
    "                    metrics=['accuracy'])\n",
    "\n",
    "mnist_model.summary()"
   ]
  },
  {
   "cell_type": "code",
   "execution_count": null,
   "metadata": {},
   "outputs": [],
   "source": [
    "def neural_network(X):\n",
    "    \n",
    "    dense1 = Dense(8, activation='relu', input=X)\n",
    "    dense2 = Dense(8, activation='relu')(X)\n",
    "    \n",
    "    \n",
    "    return dense2 #or return model"
   ]
  },
  {
   "cell_type": "code",
   "execution_count": null,
   "metadata": {},
   "outputs": [],
   "source": [
    "16 *  784"
   ]
  },
  {
   "cell_type": "code",
   "execution_count": null,
   "metadata": {},
   "outputs": [],
   "source": [
    "y_test.shape"
   ]
  },
  {
   "cell_type": "code",
   "execution_count": 50,
   "metadata": {},
   "outputs": [
    {
     "ename": "KeyboardInterrupt",
     "evalue": "",
     "output_type": "error",
     "traceback": [
      "\u001b[0;31m---------------------------------------------------------------------------\u001b[0m",
      "\u001b[0;31mKeyboardInterrupt\u001b[0m                         Traceback (most recent call last)",
      "\u001b[0;32m<ipython-input-50-fd0808510929>\u001b[0m in \u001b[0;36m<module>\u001b[0;34m\u001b[0m\n\u001b[0;32m----> 1\u001b[0;31m \u001b[0mhistory\u001b[0m \u001b[0;34m=\u001b[0m \u001b[0mmnist_model\u001b[0m\u001b[0;34m.\u001b[0m\u001b[0mfit\u001b[0m\u001b[0;34m(\u001b[0m\u001b[0mX_train\u001b[0m\u001b[0;34m,\u001b[0m \u001b[0my_train\u001b[0m\u001b[0;34m,\u001b[0m \u001b[0mbatch_size\u001b[0m\u001b[0;34m=\u001b[0m\u001b[0;36m32\u001b[0m\u001b[0;34m,\u001b[0m \u001b[0mepochs\u001b[0m\u001b[0;34m=\u001b[0m\u001b[0;36m100\u001b[0m\u001b[0;34m,\u001b[0m \u001b[0mverbose\u001b[0m\u001b[0;34m=\u001b[0m\u001b[0;32mFalse\u001b[0m\u001b[0;34m)\u001b[0m\u001b[0;34m\u001b[0m\u001b[0;34m\u001b[0m\u001b[0m\n\u001b[0m\u001b[1;32m      2\u001b[0m \u001b[0mscores\u001b[0m \u001b[0;34m=\u001b[0m \u001b[0mmnist_model\u001b[0m\u001b[0;34m.\u001b[0m\u001b[0mevaluate\u001b[0m\u001b[0;34m(\u001b[0m\u001b[0mX_test\u001b[0m\u001b[0;34m,\u001b[0m \u001b[0my_test\u001b[0m\u001b[0;34m)\u001b[0m\u001b[0;34m\u001b[0m\u001b[0;34m\u001b[0m\u001b[0m\n\u001b[1;32m      3\u001b[0m \u001b[0;31m#print(f'{mnist_model.metrics_names[1]}: {scores[1]*100}')\u001b[0m\u001b[0;34m\u001b[0m\u001b[0;34m\u001b[0m\u001b[0;34m\u001b[0m\u001b[0m\n",
      "\u001b[0;32m/usr/local/lib/python3.6/dist-packages/tensorflow_core/python/keras/engine/training.py\u001b[0m in \u001b[0;36mfit\u001b[0;34m(self, x, y, batch_size, epochs, verbose, callbacks, validation_split, validation_data, shuffle, class_weight, sample_weight, initial_epoch, steps_per_epoch, validation_steps, validation_freq, max_queue_size, workers, use_multiprocessing, **kwargs)\u001b[0m\n\u001b[1;32m    726\u001b[0m         \u001b[0mmax_queue_size\u001b[0m\u001b[0;34m=\u001b[0m\u001b[0mmax_queue_size\u001b[0m\u001b[0;34m,\u001b[0m\u001b[0;34m\u001b[0m\u001b[0;34m\u001b[0m\u001b[0m\n\u001b[1;32m    727\u001b[0m         \u001b[0mworkers\u001b[0m\u001b[0;34m=\u001b[0m\u001b[0mworkers\u001b[0m\u001b[0;34m,\u001b[0m\u001b[0;34m\u001b[0m\u001b[0;34m\u001b[0m\u001b[0m\n\u001b[0;32m--> 728\u001b[0;31m         use_multiprocessing=use_multiprocessing)\n\u001b[0m\u001b[1;32m    729\u001b[0m \u001b[0;34m\u001b[0m\u001b[0m\n\u001b[1;32m    730\u001b[0m   def evaluate(self,\n",
      "\u001b[0;32m/usr/local/lib/python3.6/dist-packages/tensorflow_core/python/keras/engine/training_v2.py\u001b[0m in \u001b[0;36mfit\u001b[0;34m(self, model, x, y, batch_size, epochs, verbose, callbacks, validation_split, validation_data, shuffle, class_weight, sample_weight, initial_epoch, steps_per_epoch, validation_steps, validation_freq, **kwargs)\u001b[0m\n\u001b[1;32m    322\u001b[0m                 \u001b[0mmode\u001b[0m\u001b[0;34m=\u001b[0m\u001b[0mModeKeys\u001b[0m\u001b[0;34m.\u001b[0m\u001b[0mTRAIN\u001b[0m\u001b[0;34m,\u001b[0m\u001b[0;34m\u001b[0m\u001b[0;34m\u001b[0m\u001b[0m\n\u001b[1;32m    323\u001b[0m                 \u001b[0mtraining_context\u001b[0m\u001b[0;34m=\u001b[0m\u001b[0mtraining_context\u001b[0m\u001b[0;34m,\u001b[0m\u001b[0;34m\u001b[0m\u001b[0;34m\u001b[0m\u001b[0m\n\u001b[0;32m--> 324\u001b[0;31m                 total_epochs=epochs)\n\u001b[0m\u001b[1;32m    325\u001b[0m             \u001b[0mcbks\u001b[0m\u001b[0;34m.\u001b[0m\u001b[0mmake_logs\u001b[0m\u001b[0;34m(\u001b[0m\u001b[0mmodel\u001b[0m\u001b[0;34m,\u001b[0m \u001b[0mepoch_logs\u001b[0m\u001b[0;34m,\u001b[0m \u001b[0mtraining_result\u001b[0m\u001b[0;34m,\u001b[0m \u001b[0mModeKeys\u001b[0m\u001b[0;34m.\u001b[0m\u001b[0mTRAIN\u001b[0m\u001b[0;34m)\u001b[0m\u001b[0;34m\u001b[0m\u001b[0;34m\u001b[0m\u001b[0m\n\u001b[1;32m    326\u001b[0m \u001b[0;34m\u001b[0m\u001b[0m\n",
      "\u001b[0;32m/usr/local/lib/python3.6/dist-packages/tensorflow_core/python/keras/engine/training_v2.py\u001b[0m in \u001b[0;36mrun_one_epoch\u001b[0;34m(model, iterator, execution_function, dataset_size, batch_size, strategy, steps_per_epoch, num_samples, mode, training_context, total_epochs)\u001b[0m\n\u001b[1;32m    121\u001b[0m         step=step, mode=mode, size=current_batch_size) as batch_logs:\n\u001b[1;32m    122\u001b[0m       \u001b[0;32mtry\u001b[0m\u001b[0;34m:\u001b[0m\u001b[0;34m\u001b[0m\u001b[0;34m\u001b[0m\u001b[0m\n\u001b[0;32m--> 123\u001b[0;31m         \u001b[0mbatch_outs\u001b[0m \u001b[0;34m=\u001b[0m \u001b[0mexecution_function\u001b[0m\u001b[0;34m(\u001b[0m\u001b[0miterator\u001b[0m\u001b[0;34m)\u001b[0m\u001b[0;34m\u001b[0m\u001b[0;34m\u001b[0m\u001b[0m\n\u001b[0m\u001b[1;32m    124\u001b[0m       \u001b[0;32mexcept\u001b[0m \u001b[0;34m(\u001b[0m\u001b[0mStopIteration\u001b[0m\u001b[0;34m,\u001b[0m \u001b[0merrors\u001b[0m\u001b[0;34m.\u001b[0m\u001b[0mOutOfRangeError\u001b[0m\u001b[0;34m)\u001b[0m\u001b[0;34m:\u001b[0m\u001b[0;34m\u001b[0m\u001b[0;34m\u001b[0m\u001b[0m\n\u001b[1;32m    125\u001b[0m         \u001b[0;31m# TODO(kaftan): File bug about tf function and errors.OutOfRangeError?\u001b[0m\u001b[0;34m\u001b[0m\u001b[0;34m\u001b[0m\u001b[0;34m\u001b[0m\u001b[0m\n",
      "\u001b[0;32m/usr/local/lib/python3.6/dist-packages/tensorflow_core/python/keras/engine/training_v2_utils.py\u001b[0m in \u001b[0;36mexecution_function\u001b[0;34m(input_fn)\u001b[0m\n\u001b[1;32m     84\u001b[0m     \u001b[0;31m# `numpy` translates Tensors to values in Eager mode.\u001b[0m\u001b[0;34m\u001b[0m\u001b[0;34m\u001b[0m\u001b[0;34m\u001b[0m\u001b[0m\n\u001b[1;32m     85\u001b[0m     return nest.map_structure(_non_none_constant_value,\n\u001b[0;32m---> 86\u001b[0;31m                               distributed_function(input_fn))\n\u001b[0m\u001b[1;32m     87\u001b[0m \u001b[0;34m\u001b[0m\u001b[0m\n\u001b[1;32m     88\u001b[0m   \u001b[0;32mreturn\u001b[0m \u001b[0mexecution_function\u001b[0m\u001b[0;34m\u001b[0m\u001b[0;34m\u001b[0m\u001b[0m\n",
      "\u001b[0;32m/usr/local/lib/python3.6/dist-packages/tensorflow_core/python/eager/def_function.py\u001b[0m in \u001b[0;36m__call__\u001b[0;34m(self, *args, **kwds)\u001b[0m\n\u001b[1;32m    455\u001b[0m \u001b[0;34m\u001b[0m\u001b[0m\n\u001b[1;32m    456\u001b[0m     \u001b[0mtracing_count\u001b[0m \u001b[0;34m=\u001b[0m \u001b[0mself\u001b[0m\u001b[0;34m.\u001b[0m\u001b[0m_get_tracing_count\u001b[0m\u001b[0;34m(\u001b[0m\u001b[0;34m)\u001b[0m\u001b[0;34m\u001b[0m\u001b[0;34m\u001b[0m\u001b[0m\n\u001b[0;32m--> 457\u001b[0;31m     \u001b[0mresult\u001b[0m \u001b[0;34m=\u001b[0m \u001b[0mself\u001b[0m\u001b[0;34m.\u001b[0m\u001b[0m_call\u001b[0m\u001b[0;34m(\u001b[0m\u001b[0;34m*\u001b[0m\u001b[0margs\u001b[0m\u001b[0;34m,\u001b[0m \u001b[0;34m**\u001b[0m\u001b[0mkwds\u001b[0m\u001b[0;34m)\u001b[0m\u001b[0;34m\u001b[0m\u001b[0;34m\u001b[0m\u001b[0m\n\u001b[0m\u001b[1;32m    458\u001b[0m     \u001b[0;32mif\u001b[0m \u001b[0mtracing_count\u001b[0m \u001b[0;34m==\u001b[0m \u001b[0mself\u001b[0m\u001b[0;34m.\u001b[0m\u001b[0m_get_tracing_count\u001b[0m\u001b[0;34m(\u001b[0m\u001b[0;34m)\u001b[0m\u001b[0;34m:\u001b[0m\u001b[0;34m\u001b[0m\u001b[0;34m\u001b[0m\u001b[0m\n\u001b[1;32m    459\u001b[0m       \u001b[0mself\u001b[0m\u001b[0;34m.\u001b[0m\u001b[0m_call_counter\u001b[0m\u001b[0;34m.\u001b[0m\u001b[0mcalled_without_tracing\u001b[0m\u001b[0;34m(\u001b[0m\u001b[0;34m)\u001b[0m\u001b[0;34m\u001b[0m\u001b[0;34m\u001b[0m\u001b[0m\n",
      "\u001b[0;32m/usr/local/lib/python3.6/dist-packages/tensorflow_core/python/eager/def_function.py\u001b[0m in \u001b[0;36m_call\u001b[0;34m(self, *args, **kwds)\u001b[0m\n\u001b[1;32m    485\u001b[0m       \u001b[0;31m# In this case we have created variables on the first call, so we run the\u001b[0m\u001b[0;34m\u001b[0m\u001b[0;34m\u001b[0m\u001b[0;34m\u001b[0m\u001b[0m\n\u001b[1;32m    486\u001b[0m       \u001b[0;31m# defunned version which is guaranteed to never create variables.\u001b[0m\u001b[0;34m\u001b[0m\u001b[0;34m\u001b[0m\u001b[0;34m\u001b[0m\u001b[0m\n\u001b[0;32m--> 487\u001b[0;31m       \u001b[0;32mreturn\u001b[0m \u001b[0mself\u001b[0m\u001b[0;34m.\u001b[0m\u001b[0m_stateless_fn\u001b[0m\u001b[0;34m(\u001b[0m\u001b[0;34m*\u001b[0m\u001b[0margs\u001b[0m\u001b[0;34m,\u001b[0m \u001b[0;34m**\u001b[0m\u001b[0mkwds\u001b[0m\u001b[0;34m)\u001b[0m  \u001b[0;31m# pylint: disable=not-callable\u001b[0m\u001b[0;34m\u001b[0m\u001b[0;34m\u001b[0m\u001b[0m\n\u001b[0m\u001b[1;32m    488\u001b[0m     \u001b[0;32melif\u001b[0m \u001b[0mself\u001b[0m\u001b[0;34m.\u001b[0m\u001b[0m_stateful_fn\u001b[0m \u001b[0;32mis\u001b[0m \u001b[0;32mnot\u001b[0m \u001b[0;32mNone\u001b[0m\u001b[0;34m:\u001b[0m\u001b[0;34m\u001b[0m\u001b[0;34m\u001b[0m\u001b[0m\n\u001b[1;32m    489\u001b[0m       \u001b[0;31m# Release the lock early so that multiple threads can perform the call\u001b[0m\u001b[0;34m\u001b[0m\u001b[0;34m\u001b[0m\u001b[0;34m\u001b[0m\u001b[0m\n",
      "\u001b[0;32m/usr/local/lib/python3.6/dist-packages/tensorflow_core/python/eager/function.py\u001b[0m in \u001b[0;36m__call__\u001b[0;34m(self, *args, **kwargs)\u001b[0m\n\u001b[1;32m   1821\u001b[0m     \u001b[0;34m\"\"\"Calls a graph function specialized to the inputs.\"\"\"\u001b[0m\u001b[0;34m\u001b[0m\u001b[0;34m\u001b[0m\u001b[0m\n\u001b[1;32m   1822\u001b[0m     \u001b[0mgraph_function\u001b[0m\u001b[0;34m,\u001b[0m \u001b[0margs\u001b[0m\u001b[0;34m,\u001b[0m \u001b[0mkwargs\u001b[0m \u001b[0;34m=\u001b[0m \u001b[0mself\u001b[0m\u001b[0;34m.\u001b[0m\u001b[0m_maybe_define_function\u001b[0m\u001b[0;34m(\u001b[0m\u001b[0margs\u001b[0m\u001b[0;34m,\u001b[0m \u001b[0mkwargs\u001b[0m\u001b[0;34m)\u001b[0m\u001b[0;34m\u001b[0m\u001b[0;34m\u001b[0m\u001b[0m\n\u001b[0;32m-> 1823\u001b[0;31m     \u001b[0;32mreturn\u001b[0m \u001b[0mgraph_function\u001b[0m\u001b[0;34m.\u001b[0m\u001b[0m_filtered_call\u001b[0m\u001b[0;34m(\u001b[0m\u001b[0margs\u001b[0m\u001b[0;34m,\u001b[0m \u001b[0mkwargs\u001b[0m\u001b[0;34m)\u001b[0m  \u001b[0;31m# pylint: disable=protected-access\u001b[0m\u001b[0;34m\u001b[0m\u001b[0;34m\u001b[0m\u001b[0m\n\u001b[0m\u001b[1;32m   1824\u001b[0m \u001b[0;34m\u001b[0m\u001b[0m\n\u001b[1;32m   1825\u001b[0m   \u001b[0;34m@\u001b[0m\u001b[0mproperty\u001b[0m\u001b[0;34m\u001b[0m\u001b[0;34m\u001b[0m\u001b[0m\n",
      "\u001b[0;32m/usr/local/lib/python3.6/dist-packages/tensorflow_core/python/eager/function.py\u001b[0m in \u001b[0;36m_filtered_call\u001b[0;34m(self, args, kwargs)\u001b[0m\n\u001b[1;32m   1139\u001b[0m          if isinstance(t, (ops.Tensor,\n\u001b[1;32m   1140\u001b[0m                            resource_variable_ops.BaseResourceVariable))),\n\u001b[0;32m-> 1141\u001b[0;31m         self.captured_inputs)\n\u001b[0m\u001b[1;32m   1142\u001b[0m \u001b[0;34m\u001b[0m\u001b[0m\n\u001b[1;32m   1143\u001b[0m   \u001b[0;32mdef\u001b[0m \u001b[0m_call_flat\u001b[0m\u001b[0;34m(\u001b[0m\u001b[0mself\u001b[0m\u001b[0;34m,\u001b[0m \u001b[0margs\u001b[0m\u001b[0;34m,\u001b[0m \u001b[0mcaptured_inputs\u001b[0m\u001b[0;34m,\u001b[0m \u001b[0mcancellation_manager\u001b[0m\u001b[0;34m=\u001b[0m\u001b[0;32mNone\u001b[0m\u001b[0;34m)\u001b[0m\u001b[0;34m:\u001b[0m\u001b[0;34m\u001b[0m\u001b[0;34m\u001b[0m\u001b[0m\n",
      "\u001b[0;32m/usr/local/lib/python3.6/dist-packages/tensorflow_core/python/eager/function.py\u001b[0m in \u001b[0;36m_call_flat\u001b[0;34m(self, args, captured_inputs, cancellation_manager)\u001b[0m\n\u001b[1;32m   1222\u001b[0m     \u001b[0;32mif\u001b[0m \u001b[0mexecuting_eagerly\u001b[0m\u001b[0;34m:\u001b[0m\u001b[0;34m\u001b[0m\u001b[0;34m\u001b[0m\u001b[0m\n\u001b[1;32m   1223\u001b[0m       flat_outputs = forward_function.call(\n\u001b[0;32m-> 1224\u001b[0;31m           ctx, args, cancellation_manager=cancellation_manager)\n\u001b[0m\u001b[1;32m   1225\u001b[0m     \u001b[0;32melse\u001b[0m\u001b[0;34m:\u001b[0m\u001b[0;34m\u001b[0m\u001b[0;34m\u001b[0m\u001b[0m\n\u001b[1;32m   1226\u001b[0m       \u001b[0mgradient_name\u001b[0m \u001b[0;34m=\u001b[0m \u001b[0mself\u001b[0m\u001b[0;34m.\u001b[0m\u001b[0m_delayed_rewrite_functions\u001b[0m\u001b[0;34m.\u001b[0m\u001b[0mregister\u001b[0m\u001b[0;34m(\u001b[0m\u001b[0;34m)\u001b[0m\u001b[0;34m\u001b[0m\u001b[0;34m\u001b[0m\u001b[0m\n",
      "\u001b[0;32m/usr/local/lib/python3.6/dist-packages/tensorflow_core/python/eager/function.py\u001b[0m in \u001b[0;36mcall\u001b[0;34m(self, ctx, args, cancellation_manager)\u001b[0m\n\u001b[1;32m    509\u001b[0m               \u001b[0minputs\u001b[0m\u001b[0;34m=\u001b[0m\u001b[0margs\u001b[0m\u001b[0;34m,\u001b[0m\u001b[0;34m\u001b[0m\u001b[0;34m\u001b[0m\u001b[0m\n\u001b[1;32m    510\u001b[0m               \u001b[0mattrs\u001b[0m\u001b[0;34m=\u001b[0m\u001b[0;34m(\u001b[0m\u001b[0;34m\"executor_type\"\u001b[0m\u001b[0;34m,\u001b[0m \u001b[0mexecutor_type\u001b[0m\u001b[0;34m,\u001b[0m \u001b[0;34m\"config_proto\"\u001b[0m\u001b[0;34m,\u001b[0m \u001b[0mconfig\u001b[0m\u001b[0;34m)\u001b[0m\u001b[0;34m,\u001b[0m\u001b[0;34m\u001b[0m\u001b[0;34m\u001b[0m\u001b[0m\n\u001b[0;32m--> 511\u001b[0;31m               ctx=ctx)\n\u001b[0m\u001b[1;32m    512\u001b[0m         \u001b[0;32melse\u001b[0m\u001b[0;34m:\u001b[0m\u001b[0;34m\u001b[0m\u001b[0;34m\u001b[0m\u001b[0m\n\u001b[1;32m    513\u001b[0m           outputs = execute.execute_with_cancellation(\n",
      "\u001b[0;32m/usr/local/lib/python3.6/dist-packages/tensorflow_core/python/eager/execute.py\u001b[0m in \u001b[0;36mquick_execute\u001b[0;34m(op_name, num_outputs, inputs, attrs, ctx, name)\u001b[0m\n\u001b[1;32m     59\u001b[0m     tensors = pywrap_tensorflow.TFE_Py_Execute(ctx._handle, device_name,\n\u001b[1;32m     60\u001b[0m                                                \u001b[0mop_name\u001b[0m\u001b[0;34m,\u001b[0m \u001b[0minputs\u001b[0m\u001b[0;34m,\u001b[0m \u001b[0mattrs\u001b[0m\u001b[0;34m,\u001b[0m\u001b[0;34m\u001b[0m\u001b[0;34m\u001b[0m\u001b[0m\n\u001b[0;32m---> 61\u001b[0;31m                                                num_outputs)\n\u001b[0m\u001b[1;32m     62\u001b[0m   \u001b[0;32mexcept\u001b[0m \u001b[0mcore\u001b[0m\u001b[0;34m.\u001b[0m\u001b[0m_NotOkStatusException\u001b[0m \u001b[0;32mas\u001b[0m \u001b[0me\u001b[0m\u001b[0;34m:\u001b[0m\u001b[0;34m\u001b[0m\u001b[0;34m\u001b[0m\u001b[0m\n\u001b[1;32m     63\u001b[0m     \u001b[0;32mif\u001b[0m \u001b[0mname\u001b[0m \u001b[0;32mis\u001b[0m \u001b[0;32mnot\u001b[0m \u001b[0;32mNone\u001b[0m\u001b[0;34m:\u001b[0m\u001b[0;34m\u001b[0m\u001b[0;34m\u001b[0m\u001b[0m\n",
      "\u001b[0;31mKeyboardInterrupt\u001b[0m: "
     ]
    }
   ],
   "source": [
    "history = mnist_model.fit(X_train, y_train, batch_size=32, epochs=100, verbose=False)\n",
    "scores = mnist_model.evaluate(X_test, y_test)\n",
    "#print(f'{mnist_model.metrics_names[1]}: {scores[1]*100}')"
   ]
  },
  {
   "cell_type": "markdown",
   "metadata": {
    "colab_type": "text",
    "id": "CKmx8153w9Ci"
   },
   "source": [
    "### Dropout Regularization\n",
    "\n",
    "![Regularization](https://upload.wikimedia.org/wikipedia/commons/thumb/0/02/Regularization.svg/354px-Regularization.svg.png)"
   ]
  },
  {
   "cell_type": "code",
   "execution_count": null,
   "metadata": {},
   "outputs": [],
   "source": [
    "### Let's do it!\n",
    "from tensorflow import keras \n",
    "from tensorflow.keras.datasets import mnist\n",
    "from tensorflow.keras.models import Sequential\n",
    "from tensorflow.keras.layers import Dense, Dropout\n",
    "\n",
    "import numpy as np\n",
    "\n",
    "mnist_model = Sequential()\n",
    "\n",
    "# Hidden\n",
    "mnist_model.add(Dense(32, input_dim=784, activation='relu'))\n",
    "mnist_model.add(Dropout(0.2))\n",
    "mnist_model.add(Dense(16, activation='relu'))\n",
    "mnist_model.add(Dropout(0.2))\n",
    "# Output Layer\n",
    "mnist_model.add(Dense(10, activation='softmax'))\n",
    "\n",
    "mnist_model.compile(loss='categorical_crossentropy',\n",
    "                    optimizer='adam', \n",
    "                    metrics=['ms'])\n",
    "mnist_model.summary()"
   ]
  },
  {
   "cell_type": "code",
   "execution_count": null,
   "metadata": {},
   "outputs": [],
   "source": [
    "history = mnist_model.fit(X_train, y_train, batch_size=32, epochs=epochs, validation_split=.1, verbose=0)\n",
    "scores = mnist_model.evaluate(X_test, y_test)\n",
    "print(f'{mnist_model.metrics_names[1]}: {scores[1]*100}')"
   ]
  },
  {
   "cell_type": "markdown",
   "metadata": {},
   "source": [
    "## Challenge\n",
    "\n",
    "You will apply your choice of activation function inside two Keras Seqeuntial models today. "
   ]
  }
 ],
 "metadata": {
  "colab": {
   "collapsed_sections": [],
   "name": "LS_DS_433_Keras_Lecture.ipynb",
   "provenance": [],
   "version": "0.3.2"
  },
  "kernelspec": {
   "display_name": "Python 3",
   "language": "python",
   "name": "python3"
  },
  "language_info": {
   "codemirror_mode": {
    "name": "ipython",
    "version": 3
   },
   "file_extension": ".py",
   "mimetype": "text/x-python",
   "name": "python",
   "nbconvert_exporter": "python",
   "pygments_lexer": "ipython3",
   "version": "3.6.8"
  },
  "toc-autonumbering": false,
  "toc-showmarkdowntxt": false
 },
 "nbformat": 4,
 "nbformat_minor": 4
}
