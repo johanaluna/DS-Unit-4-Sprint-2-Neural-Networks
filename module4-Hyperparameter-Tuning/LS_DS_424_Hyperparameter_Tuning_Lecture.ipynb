{
 "cells": [
  {
   "cell_type": "markdown",
   "metadata": {
    "colab_type": "text",
    "id": "41TS0Sa0rDNx"
   },
   "source": [
    "Lambda School Data Science\n",
    "\n",
    "*Unit 4, Sprint 2, Module 4*\n",
    "\n",
    "---"
   ]
  },
  {
   "cell_type": "markdown",
   "metadata": {
    "colab_type": "text",
    "id": "41TS0Sa0rDNx"
   },
   "source": [
    "# Neural Networks & GPUs (Prepare)\n",
    "*aka Hyperparameter Tuning*\n",
    "\n",
    "*aka Big Servers for Big Problems*"
   ]
  },
  {
   "cell_type": "markdown",
   "metadata": {
    "colab_type": "text",
    "id": "41TS0Sa0rDNx"
   },
   "source": [
    "## Learning Objectives\n",
    "* <a href=\"#p1\">Part 1</a>: Describe the major hyperparemeters to tune\n",
    "* <a href=\"#p2\">Part 2</a>: Implement an experiment tracking framework\n",
    "* <a href=\"#p3\">Part 3</a>: Search the hyperparameter space using RandomSearch (Optional)"
   ]
  },
  {
   "cell_type": "markdown",
   "metadata": {},
   "source": [
    "# Hyperparameter Options (Learn)\n",
    "<a id=\"p1\"></a>"
   ]
  },
  {
   "cell_type": "markdown",
   "metadata": {},
   "source": [
    "## Overview\n",
    "\n",
    "Hyperparameter tuning is much more important with neural networks than it has been with any other models that we have considered up to this point. Other supervised learning models might have a couple of parameters, but neural networks can have dozens. These can substantially affect the accuracy of our models and although it can be a time consuming process is a necessary step when working with neural networks.\n",
    "​\n",
    "Hyperparameter tuning comes with a challenge. How can we compare models specified with different hyperparameters if our model's final error metric can vary somewhat erratically? How do we avoid just getting unlucky and selecting the wrong hyperparameter? This is a problem that to a certain degree we just have to live with as we test and test again. However, we can minimize it somewhat by pairing our experiments with Cross Validation to reduce the variance of our final accuracy values."
   ]
  },
  {
   "cell_type": "markdown",
   "metadata": {
    "colab_type": "text",
    "id": "0s0o2pqBs88q"
   },
   "source": [
    "### Load Boston Housing Data"
   ]
  },
  {
   "cell_type": "code",
   "execution_count": 6,
   "metadata": {},
   "outputs": [],
   "source": [
    "from tensorflow.keras.datasets import boston_housing\n",
    "\n",
    "(x_train, y_train), (x_test, y_test) = boston_housing.load_data()"
   ]
  },
  {
   "cell_type": "markdown",
   "metadata": {
    "colab_type": "text",
    "id": "Pm7zow5IvaTt"
   },
   "source": [
    "### Normalizing Input Data\n",
    "\n",
    "It's not 100% necessary to normalize/scale your input data before feeding it to a neural network, the network can learn the appropriate weights to deal with data of as long as it is numerically represented,  but it is recommended as it can help **make training faster** and **reduces the chances that gradient descent might get stuck in a local optimum**.\n",
    "\n",
    "<https://stackoverflow.com/questions/4674623/why-do-we-have-to-normalize-the-input-for-an-artificial-neural-network>"
   ]
  },
  {
   "cell_type": "code",
   "execution_count": 7,
   "metadata": {},
   "outputs": [
    {
     "name": "stdout",
     "output_type": "stream",
     "text": [
      "[[-0.27224633 -0.48361547 -0.43576161 -0.25683275 -0.1652266  -0.1764426\n",
      "   0.81306188  0.1166983  -0.62624905 -0.59517003  1.14850044  0.44807713\n",
      "   0.8252202 ]\n",
      " [-0.40342651  2.99178419 -1.33391162 -0.25683275 -1.21518188  1.89434613\n",
      "  -1.91036058  1.24758524 -0.85646254 -0.34843254 -1.71818909  0.43190599\n",
      "  -1.32920239]\n",
      " [ 0.1249402  -0.48361547  1.0283258  -0.25683275  0.62864202 -1.82968811\n",
      "   1.11048828 -1.18743907  1.67588577  1.5652875   0.78447637  0.22061726\n",
      "  -1.30850006]\n",
      " [-0.40149354 -0.48361547 -0.86940196 -0.25683275 -0.3615597  -0.3245576\n",
      "  -1.23667187  1.10717989 -0.51114231 -1.094663    0.78447637  0.44807713\n",
      "  -0.65292624]\n",
      " [-0.0056343  -0.48361547  1.0283258  -0.25683275  1.32861221  0.15364225\n",
      "   0.69480801 -0.57857203  1.67588577  1.5652875   0.78447637  0.3898823\n",
      "   0.26349695]\n",
      " [-0.37502238 -0.48361547 -0.54747912 -0.25683275 -0.54935658 -0.78865126\n",
      "   0.18954148  0.48371503 -0.51114231 -0.71552978  0.51145832  0.38669063\n",
      "  -0.13812828]\n",
      " [ 0.58963463 -0.48361547  1.0283258  -0.25683275  1.21764133 -1.03127774\n",
      "   1.11048828 -1.06518235  1.67588577  1.5652875   0.78447637  0.44807713\n",
      "   1.49873604]\n",
      " [ 0.0381708  -0.48361547  1.24588095 -0.25683275  2.67733525 -1.12719983\n",
      "   1.11048828 -1.14833073 -0.51114231 -0.01744323 -1.71818909  0.44807713\n",
      "   1.88793986]\n",
      " [-0.17228416 -0.48361547  1.24588095 -0.25683275  2.67733525 -0.90150078\n",
      "   1.11048828 -1.09664657 -0.51114231 -0.01744323 -1.71818909 -1.97365769\n",
      "   0.53952803]\n",
      " [-0.22932104 -0.48361547  1.58544339 -0.25683275  0.56888847 -1.76056777\n",
      "   1.11048828 -1.13471925 -0.62624905  0.18716835  1.23950646  0.44807713\n",
      "   2.99068404]]\n"
     ]
    }
   ],
   "source": [
    "from sklearn.preprocessing import StandardScaler\n",
    "\n",
    "scaler = StandardScaler()\n",
    "\n",
    "x_train = scaler.fit_transform(x_train)\n",
    "x_test = scaler.transform(x_test)\n",
    "print(x_train[:10])"
   ]
  },
  {
   "cell_type": "markdown",
   "metadata": {
    "colab_type": "text",
    "id": "l6hgCWbir90R"
   },
   "source": [
    "### Model Validation using an automatic verification Dataset\n",
    "\n",
    "Instead of doing seperate train test split class, Keras has a really nice feature that you can set the validation.data argument when fitting your model and Keras will take that portion of your test data and use it as a validation dataset. "
   ]
  },
  {
   "cell_type": "code",
   "execution_count": 3,
   "metadata": {
    "colab": {
     "base_uri": "https://localhost:8080/",
     "height": 1750
    },
    "colab_type": "code",
    "id": "GMXVfmzXp1Oo",
    "outputId": "b05e251e-508f-46e6-865b-f869ae2a5dc4"
   },
   "outputs": [
    {
     "name": "stdout",
     "output_type": "stream",
     "text": [
      "Train on 404 samples, validate on 102 samples\n",
      "Epoch 1/75\n",
      "404/404 [==============================] - 1s 3ms/sample - loss: 493.6933 - mse: 493.6934 - mae: 20.2599 - val_loss: 401.1090 - val_mse: 401.1090 - val_mae: 18.0255\n",
      "Epoch 2/75\n",
      "404/404 [==============================] - 0s 367us/sample - loss: 237.6896 - mse: 237.6895 - mae: 12.8030 - val_loss: 113.6937 - val_mse: 113.6937 - val_mae: 8.9075\n",
      "Epoch 3/75\n",
      "404/404 [==============================] - 0s 355us/sample - loss: 69.1703 - mse: 69.1703 - mae: 6.1513 - val_loss: 49.7945 - val_mse: 49.7945 - val_mae: 5.4479\n",
      "Epoch 4/75\n",
      "404/404 [==============================] - 0s 351us/sample - loss: 34.2402 - mse: 34.2402 - mae: 4.2268 - val_loss: 32.3961 - val_mse: 32.3961 - val_mae: 4.5050\n",
      "Epoch 5/75\n",
      "404/404 [==============================] - 0s 339us/sample - loss: 24.5330 - mse: 24.5330 - mae: 3.5526 - val_loss: 26.9019 - val_mse: 26.9019 - val_mae: 4.0517\n",
      "Epoch 6/75\n",
      "404/404 [==============================] - 0s 368us/sample - loss: 20.3231 - mse: 20.3231 - mae: 3.1693 - val_loss: 24.8196 - val_mse: 24.8196 - val_mae: 3.8670\n",
      "Epoch 7/75\n",
      "404/404 [==============================] - 0s 359us/sample - loss: 18.1235 - mse: 18.1235 - mae: 3.0447 - val_loss: 23.4254 - val_mse: 23.4254 - val_mae: 3.6660\n",
      "Epoch 8/75\n",
      "404/404 [==============================] - 0s 355us/sample - loss: 16.2702 - mse: 16.2702 - mae: 2.8503 - val_loss: 22.1186 - val_mse: 22.1186 - val_mae: 3.4900\n",
      "Epoch 9/75\n",
      "404/404 [==============================] - 0s 354us/sample - loss: 14.7918 - mse: 14.7918 - mae: 2.7264 - val_loss: 22.6100 - val_mse: 22.6100 - val_mae: 3.4310\n",
      "Epoch 10/75\n",
      "404/404 [==============================] - 0s 345us/sample - loss: 13.6529 - mse: 13.6529 - mae: 2.6085 - val_loss: 22.6931 - val_mse: 22.6931 - val_mae: 3.4357\n",
      "Epoch 11/75\n",
      "404/404 [==============================] - 0s 367us/sample - loss: 12.9722 - mse: 12.9722 - mae: 2.5643 - val_loss: 21.2874 - val_mse: 21.2874 - val_mae: 3.2651\n",
      "Epoch 12/75\n",
      "404/404 [==============================] - 0s 359us/sample - loss: 12.0795 - mse: 12.0795 - mae: 2.4869 - val_loss: 21.5838 - val_mse: 21.5838 - val_mae: 3.2397\n",
      "Epoch 13/75\n",
      "404/404 [==============================] - 0s 362us/sample - loss: 11.6166 - mse: 11.6166 - mae: 2.4449 - val_loss: 22.0905 - val_mse: 22.0905 - val_mae: 3.2360\n",
      "Epoch 14/75\n",
      "404/404 [==============================] - 0s 376us/sample - loss: 11.1296 - mse: 11.1296 - mae: 2.3849 - val_loss: 21.7581 - val_mse: 21.7581 - val_mae: 3.2227\n",
      "Epoch 15/75\n",
      "404/404 [==============================] - 0s 337us/sample - loss: 10.8171 - mse: 10.8171 - mae: 2.3820 - val_loss: 23.6956 - val_mse: 23.6956 - val_mae: 3.2928\n",
      "Epoch 16/75\n",
      "404/404 [==============================] - 0s 334us/sample - loss: 10.5791 - mse: 10.5791 - mae: 2.3634 - val_loss: 22.3192 - val_mse: 22.3192 - val_mae: 3.1481\n",
      "Epoch 17/75\n",
      "404/404 [==============================] - 0s 338us/sample - loss: 10.5367 - mse: 10.5367 - mae: 2.3467 - val_loss: 23.2535 - val_mse: 23.2535 - val_mae: 3.2832\n",
      "Epoch 18/75\n",
      "404/404 [==============================] - 0s 349us/sample - loss: 10.1464 - mse: 10.1464 - mae: 2.3121 - val_loss: 23.6119 - val_mse: 23.6119 - val_mae: 3.2699\n",
      "Epoch 19/75\n",
      "404/404 [==============================] - 0s 359us/sample - loss: 9.8155 - mse: 9.8155 - mae: 2.2901 - val_loss: 22.5401 - val_mse: 22.5401 - val_mae: 3.1464\n",
      "Epoch 20/75\n",
      "404/404 [==============================] - 0s 355us/sample - loss: 9.6659 - mse: 9.6659 - mae: 2.2372 - val_loss: 22.8756 - val_mse: 22.8756 - val_mae: 3.1968\n",
      "Epoch 21/75\n",
      "404/404 [==============================] - 0s 364us/sample - loss: 9.4889 - mse: 9.4889 - mae: 2.2256 - val_loss: 22.0853 - val_mse: 22.0853 - val_mae: 3.1516\n",
      "Epoch 22/75\n",
      "404/404 [==============================] - 0s 340us/sample - loss: 9.1463 - mse: 9.1463 - mae: 2.2271 - val_loss: 21.9462 - val_mse: 21.9462 - val_mae: 3.1011\n",
      "Epoch 23/75\n",
      "404/404 [==============================] - 0s 342us/sample - loss: 9.0568 - mse: 9.0568 - mae: 2.1834 - val_loss: 22.3112 - val_mse: 22.3112 - val_mae: 3.0882\n",
      "Epoch 24/75\n",
      "404/404 [==============================] - 0s 345us/sample - loss: 9.0247 - mse: 9.0247 - mae: 2.1665 - val_loss: 21.5197 - val_mse: 21.5197 - val_mae: 2.9951\n",
      "Epoch 25/75\n",
      "404/404 [==============================] - 0s 351us/sample - loss: 9.5031 - mse: 9.5031 - mae: 2.2412 - val_loss: 21.0716 - val_mse: 21.0716 - val_mae: 2.9585\n",
      "Epoch 26/75\n",
      "404/404 [==============================] - 0s 355us/sample - loss: 8.5793 - mse: 8.5793 - mae: 2.1281 - val_loss: 21.1745 - val_mse: 21.1744 - val_mae: 3.0160\n",
      "Epoch 27/75\n",
      "404/404 [==============================] - 0s 364us/sample - loss: 8.3855 - mse: 8.3855 - mae: 2.0787 - val_loss: 20.5811 - val_mse: 20.5811 - val_mae: 2.9400\n",
      "Epoch 28/75\n",
      "404/404 [==============================] - 0s 373us/sample - loss: 8.3149 - mse: 8.3149 - mae: 2.0599 - val_loss: 20.9765 - val_mse: 20.9765 - val_mae: 2.9451\n",
      "Epoch 29/75\n",
      "404/404 [==============================] - 0s 351us/sample - loss: 8.0191 - mse: 8.0191 - mae: 2.0520 - val_loss: 20.8008 - val_mse: 20.8008 - val_mae: 2.8986\n",
      "Epoch 30/75\n",
      "404/404 [==============================] - 0s 352us/sample - loss: 7.8773 - mse: 7.8773 - mae: 2.0061 - val_loss: 21.4924 - val_mse: 21.4924 - val_mae: 3.0303\n",
      "Epoch 31/75\n",
      "404/404 [==============================] - 0s 336us/sample - loss: 8.0462 - mse: 8.0462 - mae: 2.0596 - val_loss: 20.5716 - val_mse: 20.5716 - val_mae: 2.9645\n",
      "Epoch 32/75\n",
      "404/404 [==============================] - 0s 342us/sample - loss: 7.7968 - mse: 7.7968 - mae: 2.0155 - val_loss: 22.1853 - val_mse: 22.1853 - val_mae: 3.0909\n",
      "Epoch 33/75\n",
      "404/404 [==============================] - 0s 370us/sample - loss: 7.5105 - mse: 7.5105 - mae: 1.9563 - val_loss: 19.8208 - val_mse: 19.8208 - val_mae: 2.8799\n",
      "Epoch 34/75\n",
      "404/404 [==============================] - 0s 369us/sample - loss: 7.8275 - mse: 7.8275 - mae: 2.0209 - val_loss: 19.5335 - val_mse: 19.5335 - val_mae: 2.8711\n",
      "Epoch 35/75\n",
      "404/404 [==============================] - 0s 354us/sample - loss: 7.5972 - mse: 7.5972 - mae: 1.9760 - val_loss: 20.2413 - val_mse: 20.2413 - val_mae: 2.8624\n",
      "Epoch 36/75\n",
      "404/404 [==============================] - 0s 360us/sample - loss: 7.7007 - mse: 7.7007 - mae: 1.9945 - val_loss: 20.5972 - val_mse: 20.5972 - val_mae: 2.8700\n",
      "Epoch 37/75\n",
      "404/404 [==============================] - 0s 372us/sample - loss: 7.2596 - mse: 7.2596 - mae: 1.9308 - val_loss: 19.5516 - val_mse: 19.5516 - val_mae: 2.8682\n",
      "Epoch 38/75\n",
      "404/404 [==============================] - 0s 368us/sample - loss: 7.1538 - mse: 7.1538 - mae: 1.9387 - val_loss: 19.6646 - val_mse: 19.6646 - val_mae: 2.8987\n",
      "Epoch 39/75\n",
      "404/404 [==============================] - 0s 340us/sample - loss: 7.1916 - mse: 7.1916 - mae: 1.9447 - val_loss: 18.6375 - val_mse: 18.6375 - val_mae: 2.7918\n",
      "Epoch 40/75\n",
      "404/404 [==============================] - 0s 359us/sample - loss: 6.9026 - mse: 6.9026 - mae: 1.8659 - val_loss: 18.3142 - val_mse: 18.3142 - val_mae: 2.7041\n",
      "Epoch 41/75\n",
      "404/404 [==============================] - 0s 350us/sample - loss: 6.7294 - mse: 6.7294 - mae: 1.8692 - val_loss: 18.2883 - val_mse: 18.2883 - val_mae: 2.7791\n",
      "Epoch 42/75\n",
      "404/404 [==============================] - 0s 341us/sample - loss: 6.7355 - mse: 6.7355 - mae: 1.8722 - val_loss: 18.3284 - val_mse: 18.3284 - val_mae: 2.6973\n",
      "Epoch 43/75\n",
      "404/404 [==============================] - 0s 350us/sample - loss: 6.7899 - mse: 6.7899 - mae: 1.8582 - val_loss: 18.1757 - val_mse: 18.1757 - val_mae: 2.6755\n",
      "Epoch 44/75\n",
      "404/404 [==============================] - 0s 363us/sample - loss: 6.5563 - mse: 6.5563 - mae: 1.8311 - val_loss: 17.1175 - val_mse: 17.1175 - val_mae: 2.6358\n",
      "Epoch 45/75\n",
      "404/404 [==============================] - 0s 368us/sample - loss: 6.3481 - mse: 6.3481 - mae: 1.7912 - val_loss: 18.8515 - val_mse: 18.8515 - val_mae: 2.8750\n",
      "Epoch 46/75\n",
      "404/404 [==============================] - 0s 361us/sample - loss: 6.3317 - mse: 6.3317 - mae: 1.8141 - val_loss: 17.4340 - val_mse: 17.4340 - val_mae: 2.6862\n",
      "Epoch 47/75\n",
      "404/404 [==============================] - 0s 355us/sample - loss: 6.5919 - mse: 6.5919 - mae: 1.8157 - val_loss: 17.4449 - val_mse: 17.4449 - val_mae: 2.5877\n",
      "Epoch 48/75\n",
      "404/404 [==============================] - 0s 354us/sample - loss: 6.2146 - mse: 6.2146 - mae: 1.8086 - val_loss: 17.5619 - val_mse: 17.5619 - val_mae: 2.6570\n",
      "Epoch 49/75\n",
      "404/404 [==============================] - 0s 344us/sample - loss: 6.1634 - mse: 6.1634 - mae: 1.7579 - val_loss: 17.4918 - val_mse: 17.4918 - val_mae: 2.6999\n",
      "Epoch 50/75\n",
      "404/404 [==============================] - 0s 350us/sample - loss: 6.1885 - mse: 6.1885 - mae: 1.7933 - val_loss: 16.8926 - val_mse: 16.8926 - val_mae: 2.5757\n",
      "Epoch 51/75\n",
      "404/404 [==============================] - 0s 360us/sample - loss: 6.0296 - mse: 6.0296 - mae: 1.7717 - val_loss: 17.3799 - val_mse: 17.3799 - val_mae: 2.7137\n",
      "Epoch 52/75\n",
      "404/404 [==============================] - 0s 346us/sample - loss: 5.9737 - mse: 5.9737 - mae: 1.7303 - val_loss: 17.2564 - val_mse: 17.2564 - val_mae: 2.6183\n",
      "Epoch 53/75\n",
      "404/404 [==============================] - 0s 358us/sample - loss: 5.8863 - mse: 5.8863 - mae: 1.7526 - val_loss: 16.8502 - val_mse: 16.8502 - val_mae: 2.6611\n",
      "Epoch 54/75\n",
      "404/404 [==============================] - 0s 361us/sample - loss: 6.0973 - mse: 6.0973 - mae: 1.8019 - val_loss: 15.9202 - val_mse: 15.9202 - val_mae: 2.5313\n",
      "Epoch 55/75\n",
      "404/404 [==============================] - 0s 352us/sample - loss: 5.7930 - mse: 5.7930 - mae: 1.7141 - val_loss: 17.5795 - val_mse: 17.5795 - val_mae: 2.7775\n",
      "Epoch 56/75\n",
      "404/404 [==============================] - 0s 337us/sample - loss: 5.6881 - mse: 5.6881 - mae: 1.6919 - val_loss: 17.4284 - val_mse: 17.4284 - val_mae: 2.7201\n",
      "Epoch 57/75\n",
      "404/404 [==============================] - 0s 333us/sample - loss: 5.9356 - mse: 5.9356 - mae: 1.7747 - val_loss: 16.6772 - val_mse: 16.6772 - val_mae: 2.6365\n",
      "Epoch 58/75\n",
      "404/404 [==============================] - 0s 327us/sample - loss: 5.5241 - mse: 5.5241 - mae: 1.7129 - val_loss: 17.8799 - val_mse: 17.8799 - val_mae: 2.7848\n",
      "Epoch 59/75\n",
      "404/404 [==============================] - 0s 319us/sample - loss: 5.4682 - mse: 5.4682 - mae: 1.6721 - val_loss: 16.0718 - val_mse: 16.0718 - val_mae: 2.5231\n",
      "Epoch 60/75\n",
      "404/404 [==============================] - 0s 326us/sample - loss: 5.6889 - mse: 5.6889 - mae: 1.7276 - val_loss: 15.4723 - val_mse: 15.4723 - val_mae: 2.5238\n",
      "Epoch 61/75\n",
      "404/404 [==============================] - 0s 324us/sample - loss: 5.4246 - mse: 5.4246 - mae: 1.6654 - val_loss: 15.7677 - val_mse: 15.7677 - val_mae: 2.5381\n",
      "Epoch 62/75\n",
      "404/404 [==============================] - 0s 331us/sample - loss: 5.4090 - mse: 5.4090 - mae: 1.6892 - val_loss: 16.4156 - val_mse: 16.4156 - val_mae: 2.6113\n",
      "Epoch 63/75\n",
      "404/404 [==============================] - 0s 321us/sample - loss: 5.3137 - mse: 5.3137 - mae: 1.6237 - val_loss: 16.5213 - val_mse: 16.5213 - val_mae: 2.6502\n",
      "Epoch 64/75\n",
      "404/404 [==============================] - 0s 330us/sample - loss: 5.1647 - mse: 5.1647 - mae: 1.6444 - val_loss: 16.0742 - val_mse: 16.0742 - val_mae: 2.5474\n",
      "Epoch 65/75\n",
      "404/404 [==============================] - 0s 336us/sample - loss: 5.0975 - mse: 5.0975 - mae: 1.5983 - val_loss: 17.1582 - val_mse: 17.1582 - val_mae: 2.7853\n",
      "Epoch 66/75\n",
      "404/404 [==============================] - 0s 332us/sample - loss: 5.2878 - mse: 5.2878 - mae: 1.6593 - val_loss: 15.9717 - val_mse: 15.9717 - val_mae: 2.5503\n",
      "Epoch 67/75\n",
      "404/404 [==============================] - 0s 327us/sample - loss: 4.9298 - mse: 4.9298 - mae: 1.5903 - val_loss: 15.2181 - val_mse: 15.2181 - val_mae: 2.4766\n",
      "Epoch 68/75\n",
      "404/404 [==============================] - 0s 326us/sample - loss: 4.8663 - mse: 4.8663 - mae: 1.5787 - val_loss: 15.8968 - val_mse: 15.8968 - val_mae: 2.6216\n",
      "Epoch 69/75\n",
      "404/404 [==============================] - 0s 325us/sample - loss: 4.6781 - mse: 4.6781 - mae: 1.5440 - val_loss: 16.4577 - val_mse: 16.4577 - val_mae: 2.6829\n",
      "Epoch 70/75\n",
      "404/404 [==============================] - 0s 336us/sample - loss: 4.9005 - mse: 4.9005 - mae: 1.5972 - val_loss: 15.2383 - val_mse: 15.2383 - val_mae: 2.5272\n",
      "Epoch 71/75\n",
      "404/404 [==============================] - 0s 344us/sample - loss: 4.6089 - mse: 4.6089 - mae: 1.5511 - val_loss: 17.0117 - val_mse: 17.0117 - val_mae: 2.7602\n",
      "Epoch 72/75\n",
      "404/404 [==============================] - 0s 331us/sample - loss: 4.6398 - mse: 4.6398 - mae: 1.5587 - val_loss: 15.3959 - val_mse: 15.3959 - val_mae: 2.5468\n",
      "Epoch 73/75\n",
      "404/404 [==============================] - 0s 353us/sample - loss: 4.9266 - mse: 4.9266 - mae: 1.6260 - val_loss: 15.7831 - val_mse: 15.7831 - val_mae: 2.5469\n",
      "Epoch 74/75\n",
      "404/404 [==============================] - 0s 334us/sample - loss: 4.5020 - mse: 4.5020 - mae: 1.5255 - val_loss: 15.7124 - val_mse: 15.7124 - val_mae: 2.5349\n",
      "Epoch 75/75\n",
      "404/404 [==============================] - 0s 352us/sample - loss: 4.6304 - mse: 4.6304 - mae: 1.5642 - val_loss: 15.0736 - val_mse: 15.0736 - val_mae: 2.4870\n"
     ]
    },
    {
     "data": {
      "text/plain": [
       "<tensorflow.python.keras.callbacks.History at 0x7ff2c416bc18>"
      ]
     },
     "execution_count": 3,
     "metadata": {},
     "output_type": "execute_result"
    }
   ],
   "source": [
    "from tensorflow import keras\n",
    "from tensorflow.keras.models import Sequential\n",
    "from tensorflow.keras.layers import Dense\n",
    "\n",
    "# Important Hyperparameters\n",
    "inputs = x_train.shape[1]\n",
    "epochs = 75\n",
    "batch_size = 10\n",
    "\n",
    "\n",
    "# Create Model\n",
    "model = Sequential()\n",
    "model.add(Dense(64, activation='relu', input_shape=(inputs,)))\n",
    "model.add(Dense(64, activation='relu'))\n",
    "model.add(Dense(1))\n",
    "\n",
    "# Compile Model\n",
    "model.compile(optimizer='adam', loss='mse', metrics=['mse', 'mae'])\n",
    "\n",
    "# Fit Model\n",
    "model.fit(x_train, y_train, \n",
    "          validation_data=(x_test,y_test), \n",
    "          epochs=epochs, \n",
    "          batch_size=batch_size\n",
    "         )"
   ]
  },
  {
   "cell_type": "markdown",
   "metadata": {
    "colab_type": "text",
    "id": "sYJ8t_ezHP4W"
   },
   "source": [
    "### Hyperparameter Tuning Approaches:\n",
    "\n",
    "#### 1) Babysitting AKA \"Grad Student Descent\".\n",
    "\n",
    "If you fiddled with any hyperparameters yesterday, this is basically what you did. This approach is 100% manual and is pretty common among researchers where finding that 1 exact specification that jumps your model to a level of accuracy never seen before is the difference between publishing and not publishing a paper. Of course the professors don't do this themselves, that's grunt work. This is also known as the fiddle with hyperparameters until you run out of time method.\n",
    "\n",
    "#### 2) Grid Search\n",
    "\n",
    "Grid Search is the Grad Student galaxy brain realization of: why don't I just specify all the experiments I want to run and let the computer try every possible combination of them while I go and grab lunch. This has a specific downside in that if I specify 5 hyperparameters with 5 options each then I've just created 5^5 combinations of hyperparameters to check. Which means that I have to train 3125 different versions of my model Then if I use 5-fold Cross Validation on that then my model has to run 15,525 times. This is the brute-force method of hyperparameter tuning, but it can be very profitable if done wisely. \n",
    "\n",
    "When using Grid Search here's what I suggest: don't use it to test combinations of different hyperparameters, only use it to test different specifications of **a single** hyperparameter. It's rare that combinations between different hyperparameters lead to big performance gains. You'll get 90-95% of the way there if you just Grid Search one parameter and take the best result, then retain that best result while you test another, and then retain the best specification from that while you train another. This at least makes the situation much more manageable and leads to pretty good results. \n",
    "\n",
    "#### 3) Random Search\n",
    "\n",
    "Do Grid Search for a couple of hours and you'll say to yourself - \"There's got to be a better way.\" Enter Random Search. For Random search you specify a hyperparameter space and it picks specifications from that randomly, tries them out, gives you the best results and says - That's going to have to be good enough, go home and spend time with your family. \n",
    "\n",
    "Grid Search treats every parameter as if it was equally important, but this just isn't the case, some are known to move the needle a lot more than others (we'll talk about that in a minute). Random Search allows searching to be specified along the most important parameter and experiments less along the dimensions of less important hyperparameters. The downside of Random search is that it won't find the absolute best hyperparameters, but it is much less costly to perform than Grid Search. \n",
    "\n",
    "#### 4) Bayesian Methods\n",
    "\n",
    "One thing that can make more manual methods like babysitting and gridsearch effective is that as the experimenter sees results he can then make updates to his future searches taking into account the results of past specifications. If only we could hyperparameter tune our hyperparameter tuning. Well, we kind of can. Enter Bayesian Optimization. Neural Networks are like an optimization problem within an optimization problem, and Bayesian Optimization is a search strategy that tries to take into account the results of past searches in order to improve future ones. This is the most advanced method but can be a little bit tricky to implement, but there are some early steps with `hyperas` which is Bayesian optimization wrapper for `keras`. "
   ]
  },
  {
   "cell_type": "markdown",
   "metadata": {
    "colab_type": "text",
    "id": "HfQ7D043OMMn"
   },
   "source": [
    "## What Hyperparameters are there to test?\n",
    "\n",
    "- batch_size\n",
    "- training epochs\n",
    "- optimization algorithms\n",
    "- learning rate\n",
    "- momentum\n",
    "- activation functions\n",
    "- dropout regularization\n",
    "- number of neurons in the hidden layer\n",
    "\n",
    "There are more, but these are the most important."
   ]
  },
  {
   "cell_type": "markdown",
   "metadata": {},
   "source": [
    "## Follow Along"
   ]
  },
  {
   "cell_type": "markdown",
   "metadata": {
    "colab_type": "text",
    "id": "Mri5-kXzVKAa"
   },
   "source": [
    "## Batch Size\n",
    "\n",
    "Batch size determines how many observations the model is shown before it calculates loss/error and updates the model weights via gradient descent. You're looking for a sweet spot here where you're showing it enough observations that you have enough information to updates the weights, but not such a large batch size that you don't get a lot of weight update iterations performed in a given epoch. Feed-forward Neural Networks aren't as sensitive to bach_size as other networks, but it is still an important hyperparameter to tune. Smaller batch sizes will also take longer to train. "
   ]
  },
  {
   "cell_type": "code",
   "execution_count": 1,
   "metadata": {
    "colab": {
     "base_uri": "https://localhost:8080/",
     "height": 13561
    },
    "colab_type": "code",
    "id": "2smXfriNAGn7",
    "outputId": "ae996575-78e2-43fb-9dbe-5d44aaf0b430"
   },
   "outputs": [
    {
     "name": "stderr",
     "output_type": "stream",
     "text": [
      "/usr/local/lib/python3.6/dist-packages/sklearn/model_selection/_split.py:1978: FutureWarning: The default value of cv will change from 3 to 5 in version 0.22. Specify it explicitly to silence this warning.\n",
      "  warnings.warn(CV_WARNING, FutureWarning)\n"
     ]
    },
    {
     "name": "stdout",
     "output_type": "stream",
     "text": [
      "Best: 0.65625 using {'batch_size': 20, 'epochs': 20}\n",
      "Means: 0.65234375, Stdev: 0.01390244564066577 with: {'batch_size': 10, 'epochs': 20}\n",
      "Means: 0.65625, Stdev: 0.008438464451051902 with: {'batch_size': 20, 'epochs': 20}\n",
      "Means: 0.5716145833333334, Stdev: 0.012889967365379774 with: {'batch_size': 40, 'epochs': 20}\n",
      "Means: 0.6015625, Stdev: 0.04521811290152432 with: {'batch_size': 60, 'epochs': 20}\n",
      "Means: 0.6471354166666666, Stdev: 0.03194751079787838 with: {'batch_size': 80, 'epochs': 20}\n",
      "Means: 0.5755208333333334, Stdev: 0.05378092819808173 with: {'batch_size': 100, 'epochs': 20}\n"
     ]
    }
   ],
   "source": [
    "import numpy\n",
    "import pandas as pd\n",
    "from sklearn.model_selection import GridSearchCV\n",
    "from tensorflow.keras.models import Sequential\n",
    "from tensorflow.keras.layers import Dense\n",
    "from tensorflow.keras.wrappers.scikit_learn import KerasClassifier\n",
    "\n",
    "# fix random seed for reproducibility\n",
    "seed = 7\n",
    "numpy.random.seed(seed)\n",
    "\n",
    "# load dataset\n",
    "url =\"https://raw.githubusercontent.com/jbrownlee/Datasets/master/pima-indians-diabetes.data.csv\"\n",
    "\n",
    "dataset = pd.read_csv(url, header=None).values\n",
    "\n",
    "# split into input (X) and output (Y) variables\n",
    "X = dataset[:,0:8]\n",
    "Y = dataset[:,8]\n",
    "\n",
    "# Function to create model, required for KerasClassifier\n",
    "def create_model():\n",
    "    # create model\n",
    "    model = Sequential()\n",
    "    model.add(Dense(12, input_dim=8, activation='relu'))\n",
    "    model.add(Dense(1, activation='sigmoid'))\n",
    "    # Compile model\n",
    "    model.compile(loss='binary_crossentropy', optimizer='adam', metrics=['accuracy'])\n",
    "    return model\n",
    "\n",
    "# create model\n",
    "model = KerasClassifier(build_fn=create_model, verbose=0)\n",
    "\n",
    "# define the grid search parameters\n",
    "# batch_size = [10, 20, 40, 60, 80, 100]\n",
    "# param_grid = dict(batch_size=batch_size, epochs=epochs)\n",
    "\n",
    "# define the grid search parameters\n",
    "param_grid = {'batch_size': [10, 20, 40, 60, 80, 100],\n",
    "              'epochs': [20]}\n",
    "\n",
    "# Create Grid Search\n",
    "grid = GridSearchCV(estimator=model, param_grid=param_grid, n_jobs=1)\n",
    "grid_result = grid.fit(X, Y)\n",
    "\n",
    "# Report Results\n",
    "print(f\"Best: {grid_result.best_score_} using {grid_result.best_params_}\")\n",
    "means = grid_result.cv_results_['mean_test_score']\n",
    "stds = grid_result.cv_results_['std_test_score']\n",
    "params = grid_result.cv_results_['params']\n",
    "for mean, stdev, param in zip(means, stds, params):\n",
    "    print(f\"Means: {mean}, Stdev: {stdev} with: {param}\") "
   ]
  },
  {
   "cell_type": "markdown",
   "metadata": {
    "colab_type": "text",
    "id": "pmABfjlvXbqi"
   },
   "source": [
    "## Epochs\n",
    "\n",
    "The number of training epochs has a large and direct affect on the accuracy, However, more epochs is almost always goign to better than less epochs. This means that if you tune this parameter at the beginning and try and maintain the same value all throughout your training, you're going to be waiting a long time for each iteration of GridSearch. I suggest picking a fixed moderat # of epochs all throughout your training and then Grid Searching this parameter at the very end. "
   ]
  },
  {
   "cell_type": "code",
   "execution_count": 2,
   "metadata": {
    "colab": {
     "base_uri": "https://localhost:8080/",
     "height": 26329
    },
    "colab_type": "code",
    "id": "bAmxP3N7TmFh",
    "outputId": "3ddb08c4-51ac-4eaa-ff39-143397024544"
   },
   "outputs": [
    {
     "name": "stdout",
     "output_type": "stream",
     "text": [
      "Best: 0.7174479166666666 using {'batch_size': 20, 'epochs': 200}\n",
      "Means: 0.6263020833333334, Stdev: 0.03513212907091677 with: {'batch_size': 20, 'epochs': 20}\n",
      "Means: 0.6653645833333334, Stdev: 0.03962271889245557 with: {'batch_size': 20, 'epochs': 40}\n",
      "Means: 0.640625, Stdev: 0.030425316264447715 with: {'batch_size': 20, 'epochs': 60}\n",
      "Means: 0.7174479166666666, Stdev: 0.020505228838572424 with: {'batch_size': 20, 'epochs': 200}\n"
     ]
    }
   ],
   "source": [
    "# define the grid search parameters\n",
    "param_grid = {'batch_size': [20],\n",
    "              'epochs': [20, 40, 60,200]}\n",
    "\n",
    "# Create Grid Search\n",
    "grid = GridSearchCV(estimator=model, param_grid=param_grid, n_jobs=1)\n",
    "grid_result = grid.fit(X, Y)\n",
    "\n",
    "# Report Results\n",
    "print(f\"Best: {grid_result.best_score_} using {grid_result.best_params_}\")\n",
    "means = grid_result.cv_results_['mean_test_score']\n",
    "stds = grid_result.cv_results_['std_test_score']\n",
    "params = grid_result.cv_results_['params']\n",
    "for mean, stdev, param in zip(means, stds, params):\n",
    "    print(f\"Means: {mean}, Stdev: {stdev} with: {param}\")"
   ]
  },
  {
   "cell_type": "markdown",
   "metadata": {
    "colab_type": "text",
    "id": "EKcuY6OiaLfz"
   },
   "source": [
    "## Optimizer\n",
    "\n",
    "Remember that there's a different optimizers [optimizers](https://keras.io/optimizers/). At some point, take some time to read up on them a little bit. \"adam\" usually gives the best results. The thing to know about choosing an optimizer is that different optimizers have different hyperparameters like learning rate, momentum, etc. So based on the optimizer you choose you might also have to tune the learning rate and momentum of those optimizers after that. "
   ]
  },
  {
   "cell_type": "markdown",
   "metadata": {
    "colab_type": "text",
    "id": "DG3wq5iOaLig"
   },
   "source": [
    "## Learning Rate\n",
    "\n",
    "Remember that the Learning Rate is a hyperparameter that is specific to your gradient-descent based optimizer selection. A learning rate that is too high will cause divergent behavior, but a Learning Rate that is too low will fail to converge, again, you're looking for the sweet spot. I would start out tuning learning rates by orders of magnitude: [.001, .01, .1, .2, .3, .5] etc. I wouldn't go above .5, but you can try it and see what the behavior is like. \n",
    "\n",
    "Once you have narrowed it down, make the window even smaller and try it again. If after running the above specification your model reports that .1 is the best optimizer, then you should probably try things like [.05, .08, .1, .12, .15] to try and narrow it down. \n",
    "\n",
    "It can also be good to tune the number of epochs in combination with the learning rate since the number of iterations that you allow the learning rate to reach the minimum can determine if you have let it run long enough to converge to the minimum. "
   ]
  },
  {
   "cell_type": "markdown",
   "metadata": {
    "colab_type": "text",
    "id": "gNTBUWd1aLlA"
   },
   "source": [
    "## Momentum\n",
    "\n",
    "Momentum is a hyperparameter that is more commonly associated with Stochastic Gradient Descent. SGD is a common optimizer because it's what people understand and know, but I doubt it will get you the best results, you can try hyperparameter tuning its attributes and see if you can beat the performance from adam. Momentum is a property that decides the willingness of an optimizer to overshoot the minimum. Imagine a ball rolling down one side of a bowl and then up the opposite side a little bit before settling back to the bottom. The purpose of momentum is to try and escale local minima."
   ]
  },
  {
   "cell_type": "markdown",
   "metadata": {
    "colab_type": "text",
    "id": "xnEG-bCJaLnZ"
   },
   "source": [
    "## Activation Functions\n",
    "\n",
    "We've talked about this a little bit, typically you'l want to use ReLU for hidden layers and either Sigmoid, or Softmax for output layers of binary and multi-class classification implementations respectively, but try other activation functions and see if you can get any better results with sigmoid or tanh or something. There are a lot of activation functions that we haven't really talked about. Maybe you'll get good results with them. Maybe you won't. :) <https://keras.io/activations/>"
   ]
  },
  {
   "cell_type": "markdown",
   "metadata": {
    "colab_type": "text",
    "id": "oul9sPq-dU-h"
   },
   "source": [
    "## Network Weight Initialization\n",
    "\n",
    "You saw how big of an effect the way that we initialize our network's weights can have on our results. There are **a lot** of what are called initialization modes. I don't understand all of them, but they can have a big affect on your model's initial accuracy. Your model will get further with less epochs if you initialize it with weights that are well suited to the problem you're trying to solve.\n",
    "\n",
    "`init_mode = ['uniform', 'lecun_uniform', 'normal', 'zero', 'glorot_normal', 'glorot_uniform', 'he_normal', 'he_uniform']`"
   ]
  },
  {
   "cell_type": "markdown",
   "metadata": {
    "colab_type": "text",
    "id": "bqtEuxeQaLqE"
   },
   "source": [
    "## Dropout Regularization and the Weight Constraint\n",
    "\n",
    "the Dropout Regularization value is a percentage of neurons that you want to be randomly deactivated during training. The weight constraint is a second regularization parameter that works in tandem with dropout regularization. You should tune these two values at the same time. \n",
    "\n",
    "Using dropout on visible vs hidden layers might have a different effect. Using dropout on hidden layers might not have any effect while using dropout on hidden layers might have a substantial effect. You don't necessarily need to turn use dropout unless you see that your model has overfitting and generalizability problems."
   ]
  },
  {
   "cell_type": "markdown",
   "metadata": {
    "colab_type": "text",
    "id": "P2c5Cv6oaLtO"
   },
   "source": [
    "## Neurons in Hidden Layer \n",
    "\n",
    "Remember that when we only had a single perceptron our model was only able to fit to linearly separable data, but as we have added layers and nodes to those layers our network has become a powerhouse of fitting nonlinearity in data. The larger the network and the more nodes generally the stronger the network's capacity to fit nonlinear patterns in data. The more nodes and layers the longer it will take to train a network, and higher the probability of overfitting. The larger your network gets the more you'll need dropout regularization or other regularization techniques to keep it in check. \n",
    "\n",
    "Typically depth (more layers) is more important than width (more nodes) for neural networks. This is part of why Deep Learning is so highly touted. Certain deep learning architectures have truly been huge breakthroughs for certain machine learning tasks. \n",
    "\n",
    "You might borrow ideas from other network architectures. For example if I was doing image recognition and I wasn't taking cues from state of the art architectures like resnet, alexnet, googlenet, etc. Then I'm probably going to have to do a lot more experimentation on my own before I find something that works.\n",
    "\n",
    "There are some heuristics, but I am highly skeptical of them. I think you're better off experimenting on your own and forming your own intuition for these kinds of problems. \n",
    "\n",
    "- https://machinelearningmastery.com/how-to-configure-the-number-of-layers-and-nodes-in-a-neural-network/"
   ]
  },
  {
   "cell_type": "markdown",
   "metadata": {},
   "source": [
    "## Challenge\n",
    "You will be expected to tune several hyperparameters in today's module project. "
   ]
  },
  {
   "cell_type": "markdown",
   "metadata": {},
   "source": [
    "# Experiment Tracking Framework (Learn)\n",
    "<a id=\"p2\"></a>"
   ]
  },
  {
   "cell_type": "markdown",
   "metadata": {},
   "source": [
    "## Overview\n",
    "\n",
    "You will notice quickly that managing the results of all the experiments you are running becomes challenging. Which set of parameters did the best? Are my results today different than my results yesterday? Although we use Ipython Notebooks to work, the format is not well suited to logging experimental results. Enter experiment tracking frameworks like [Comet.ml](https://comet.ml) and [Weights and Biases](https://wandb.ai/).\n",
    "\n",
    "Those tools will help you track your experiments, store the results, and the code associated with those experiments. Experimental results can also be readily visualized to see changes in performance across any metric you care about. Data is sent to the tool as each epoch is completed, so you can also see if your model is converging. Let's check out Weights & Biases today. "
   ]
  },
  {
   "cell_type": "markdown",
   "metadata": {},
   "source": [
    "## Follow Along\n",
    "\n",
    "Make sure you login into `wandb` in the terminal before running the next cell. "
   ]
  },
  {
   "cell_type": "code",
   "execution_count": 3,
   "metadata": {},
   "outputs": [],
   "source": [
    "import wandb\n",
    "from wandb.keras import WandbCallback"
   ]
  },
  {
   "cell_type": "code",
   "execution_count": 8,
   "metadata": {
    "colab": {
     "base_uri": "https://localhost:8080/",
     "height": 1750
    },
    "colab_type": "code",
    "id": "GMXVfmzXp1Oo",
    "outputId": "b05e251e-508f-46e6-865b-f869ae2a5dc4"
   },
   "outputs": [
    {
     "data": {
      "text/html": [
       "\n",
       "                Logging results to <a href=\"https://wandb.com\" target=\"_blank\">Weights & Biases</a> <a href=\"https://docs.wandb.com/integrations/jupyter.html\" target=\"_blank\">(Documentation)</a>.<br/>\n",
       "                Project page: <a href=\"https://app.wandb.ai/lambda-ds7/boston\" target=\"_blank\">https://app.wandb.ai/lambda-ds7/boston</a><br/>\n",
       "                Run page: <a href=\"https://app.wandb.ai/lambda-ds7/boston/runs/30f7jjpy\" target=\"_blank\">https://app.wandb.ai/lambda-ds7/boston/runs/30f7jjpy</a><br/>\n",
       "            "
      ],
      "text/plain": [
       "<IPython.core.display.HTML object>"
      ]
     },
     "metadata": {},
     "output_type": "display_data"
    },
    {
     "name": "stdout",
     "output_type": "stream",
     "text": [
      "Train on 270 samples, validate on 134 samples\n",
      "Epoch 1/50\n",
      "270/270 [==============================] - 1s 3ms/sample - loss: 490.8816 - mse: 490.8817 - mae: 20.4225 - val_loss: 463.3583 - val_mse: 463.3582 - val_mae: 19.4308\n",
      "Epoch 2/50\n",
      "270/270 [==============================] - 0s 587us/sample - loss: 224.3275 - mse: 224.3275 - mae: 12.8177 - val_loss: 93.7189 - val_mse: 93.7189 - val_mae: 7.4271\n",
      "Epoch 3/50\n",
      "270/270 [==============================] - 0s 623us/sample - loss: 49.4094 - mse: 49.4094 - mae: 5.3485 - val_loss: 50.5440 - val_mse: 50.5440 - val_mae: 5.0884\n",
      "Epoch 4/50\n",
      "270/270 [==============================] - 0s 629us/sample - loss: 24.2660 - mse: 24.2660 - mae: 3.6847 - val_loss: 33.2632 - val_mse: 33.2632 - val_mae: 3.9261\n",
      "Epoch 5/50\n",
      "270/270 [==============================] - 0s 591us/sample - loss: 17.7696 - mse: 17.7696 - mae: 3.1332 - val_loss: 29.9609 - val_mse: 29.9609 - val_mae: 3.4952\n",
      "Epoch 6/50\n",
      "270/270 [==============================] - 0s 605us/sample - loss: 14.6718 - mse: 14.6718 - mae: 2.8170 - val_loss: 25.4843 - val_mse: 25.4843 - val_mae: 3.2592\n",
      "Epoch 7/50\n",
      "270/270 [==============================] - 0s 634us/sample - loss: 13.4302 - mse: 13.4302 - mae: 2.7306 - val_loss: 23.0510 - val_mse: 23.0510 - val_mae: 3.0794\n",
      "Epoch 8/50\n",
      "270/270 [==============================] - 0s 625us/sample - loss: 12.1769 - mse: 12.1769 - mae: 2.5880 - val_loss: 22.6795 - val_mse: 22.6795 - val_mae: 3.0183\n",
      "Epoch 9/50\n",
      "270/270 [==============================] - 0s 699us/sample - loss: 10.9682 - mse: 10.9682 - mae: 2.4646 - val_loss: 20.1932 - val_mse: 20.1932 - val_mae: 2.9101\n",
      "Epoch 10/50\n",
      "270/270 [==============================] - 0s 611us/sample - loss: 10.2239 - mse: 10.2239 - mae: 2.4109 - val_loss: 18.9364 - val_mse: 18.9364 - val_mae: 2.8439\n",
      "Epoch 11/50\n",
      "270/270 [==============================] - 0s 600us/sample - loss: 9.8642 - mse: 9.8642 - mae: 2.4013 - val_loss: 18.7510 - val_mse: 18.7510 - val_mae: 2.8276\n",
      "Epoch 12/50\n",
      "270/270 [==============================] - 0s 615us/sample - loss: 9.3630 - mse: 9.3630 - mae: 2.3451 - val_loss: 18.3309 - val_mse: 18.3309 - val_mae: 2.8186\n",
      "Epoch 13/50\n",
      "270/270 [==============================] - 0s 628us/sample - loss: 8.9273 - mse: 8.9273 - mae: 2.2780 - val_loss: 17.6864 - val_mse: 17.6864 - val_mae: 2.8456\n",
      "Epoch 14/50\n",
      "270/270 [==============================] - 0s 488us/sample - loss: 8.7314 - mse: 8.7314 - mae: 2.2720 - val_loss: 17.7294 - val_mse: 17.7294 - val_mae: 2.8289\n",
      "Epoch 15/50\n",
      "270/270 [==============================] - 0s 637us/sample - loss: 8.2788 - mse: 8.2788 - mae: 2.2043 - val_loss: 16.9805 - val_mse: 16.9805 - val_mae: 2.7709\n",
      "Epoch 16/50\n",
      "270/270 [==============================] - 0s 708us/sample - loss: 8.7452 - mse: 8.7452 - mae: 2.2514 - val_loss: 16.0394 - val_mse: 16.0394 - val_mae: 2.7251\n",
      "Epoch 17/50\n",
      "270/270 [==============================] - 0s 470us/sample - loss: 9.5037 - mse: 9.5037 - mae: 2.3140 - val_loss: 18.8845 - val_mse: 18.8845 - val_mae: 3.0215\n",
      "Epoch 18/50\n",
      "270/270 [==============================] - 0s 473us/sample - loss: 8.3578 - mse: 8.3578 - mae: 2.2097 - val_loss: 16.3183 - val_mse: 16.3183 - val_mae: 2.7635\n",
      "Epoch 19/50\n",
      "270/270 [==============================] - 0s 493us/sample - loss: 7.3974 - mse: 7.3974 - mae: 2.0955 - val_loss: 16.6346 - val_mse: 16.6346 - val_mae: 2.7770\n",
      "Epoch 20/50\n",
      "270/270 [==============================] - 0s 597us/sample - loss: 7.3424 - mse: 7.3424 - mae: 2.0823 - val_loss: 15.6754 - val_mse: 15.6754 - val_mae: 2.6837\n",
      "Epoch 21/50\n",
      "270/270 [==============================] - 0s 470us/sample - loss: 7.3840 - mse: 7.3840 - mae: 2.0749 - val_loss: 16.3104 - val_mse: 16.3104 - val_mae: 2.7602\n",
      "Epoch 22/50\n",
      "270/270 [==============================] - 0s 445us/sample - loss: 7.3790 - mse: 7.3790 - mae: 2.0953 - val_loss: 17.4050 - val_mse: 17.4050 - val_mae: 2.8738\n",
      "Epoch 23/50\n",
      "270/270 [==============================] - 0s 559us/sample - loss: 7.2687 - mse: 7.2687 - mae: 2.0496 - val_loss: 15.4371 - val_mse: 15.4371 - val_mae: 2.6716\n",
      "Epoch 24/50\n",
      "270/270 [==============================] - 0s 435us/sample - loss: 6.6650 - mse: 6.6650 - mae: 1.9651 - val_loss: 15.6032 - val_mse: 15.6032 - val_mae: 2.6776\n",
      "Epoch 25/50\n",
      "270/270 [==============================] - 0s 456us/sample - loss: 6.4503 - mse: 6.4503 - mae: 1.9052 - val_loss: 15.4885 - val_mse: 15.4885 - val_mae: 2.6739\n",
      "Epoch 26/50\n",
      "270/270 [==============================] - 0s 439us/sample - loss: 6.3433 - mse: 6.3433 - mae: 1.9063 - val_loss: 15.9618 - val_mse: 15.9618 - val_mae: 2.6966\n",
      "Epoch 27/50\n",
      "270/270 [==============================] - 0s 430us/sample - loss: 6.1725 - mse: 6.1725 - mae: 1.8775 - val_loss: 15.7322 - val_mse: 15.7322 - val_mae: 2.7155\n",
      "Epoch 28/50\n",
      "270/270 [==============================] - 0s 440us/sample - loss: 6.1726 - mse: 6.1726 - mae: 1.8712 - val_loss: 15.5335 - val_mse: 15.5335 - val_mae: 2.6662\n",
      "Epoch 29/50\n",
      "270/270 [==============================] - 0s 603us/sample - loss: 6.1123 - mse: 6.1123 - mae: 1.8459 - val_loss: 15.2890 - val_mse: 15.2890 - val_mae: 2.6496\n",
      "Epoch 30/50\n",
      "270/270 [==============================] - 0s 458us/sample - loss: 5.7772 - mse: 5.7772 - mae: 1.7984 - val_loss: 15.7658 - val_mse: 15.7658 - val_mae: 2.7018\n",
      "Epoch 31/50\n",
      "270/270 [==============================] - 0s 593us/sample - loss: 5.8648 - mse: 5.8648 - mae: 1.8293 - val_loss: 15.1814 - val_mse: 15.1814 - val_mae: 2.6341\n",
      "Epoch 32/50\n",
      "270/270 [==============================] - 0s 584us/sample - loss: 5.6753 - mse: 5.6753 - mae: 1.7654 - val_loss: 14.9292 - val_mse: 14.9292 - val_mae: 2.6238\n",
      "Epoch 33/50\n",
      "270/270 [==============================] - 0s 468us/sample - loss: 5.4260 - mse: 5.4260 - mae: 1.7677 - val_loss: 15.7692 - val_mse: 15.7692 - val_mae: 2.6781\n",
      "Epoch 34/50\n",
      "270/270 [==============================] - 0s 466us/sample - loss: 5.4490 - mse: 5.4490 - mae: 1.7424 - val_loss: 15.0336 - val_mse: 15.0336 - val_mae: 2.6390\n",
      "Epoch 35/50\n",
      "270/270 [==============================] - 0s 453us/sample - loss: 5.1606 - mse: 5.1606 - mae: 1.6810 - val_loss: 15.5521 - val_mse: 15.5521 - val_mae: 2.7373\n",
      "Epoch 36/50\n",
      "270/270 [==============================] - 0s 449us/sample - loss: 5.7277 - mse: 5.7277 - mae: 1.7884 - val_loss: 14.9733 - val_mse: 14.9733 - val_mae: 2.6227\n",
      "Epoch 37/50\n",
      "270/270 [==============================] - 0s 648us/sample - loss: 5.1312 - mse: 5.1312 - mae: 1.6914 - val_loss: 14.5718 - val_mse: 14.5718 - val_mae: 2.5711\n",
      "Epoch 38/50\n",
      "270/270 [==============================] - 0s 514us/sample - loss: 4.8918 - mse: 4.8918 - mae: 1.6636 - val_loss: 15.0902 - val_mse: 15.0902 - val_mae: 2.6500\n",
      "Epoch 39/50\n",
      "270/270 [==============================] - 0s 456us/sample - loss: 5.3422 - mse: 5.3422 - mae: 1.7549 - val_loss: 15.2631 - val_mse: 15.2631 - val_mae: 2.6461\n",
      "Epoch 40/50\n",
      "270/270 [==============================] - 0s 468us/sample - loss: 4.9070 - mse: 4.9070 - mae: 1.6893 - val_loss: 14.9719 - val_mse: 14.9719 - val_mae: 2.6363\n",
      "Epoch 41/50\n",
      "270/270 [==============================] - 0s 495us/sample - loss: 4.8164 - mse: 4.8164 - mae: 1.6160 - val_loss: 14.9441 - val_mse: 14.9441 - val_mae: 2.5800\n",
      "Epoch 42/50\n",
      "270/270 [==============================] - 0s 497us/sample - loss: 4.7492 - mse: 4.7492 - mae: 1.6444 - val_loss: 15.9035 - val_mse: 15.9035 - val_mae: 2.7250\n",
      "Epoch 43/50\n",
      "270/270 [==============================] - 0s 486us/sample - loss: 4.9941 - mse: 4.9941 - mae: 1.6588 - val_loss: 14.8297 - val_mse: 14.8297 - val_mae: 2.5949\n",
      "Epoch 44/50\n",
      "270/270 [==============================] - 0s 467us/sample - loss: 4.6100 - mse: 4.6100 - mae: 1.6015 - val_loss: 14.7418 - val_mse: 14.7419 - val_mae: 2.5882\n",
      "Epoch 45/50\n",
      "270/270 [==============================] - 0s 493us/sample - loss: 4.8405 - mse: 4.8405 - mae: 1.6775 - val_loss: 15.6624 - val_mse: 15.6624 - val_mae: 2.6978\n",
      "Epoch 46/50\n",
      "270/270 [==============================] - 0s 628us/sample - loss: 4.2125 - mse: 4.2125 - mae: 1.5151 - val_loss: 14.3445 - val_mse: 14.3445 - val_mae: 2.5518\n",
      "Epoch 47/50\n",
      "270/270 [==============================] - 0s 461us/sample - loss: 4.4944 - mse: 4.4945 - mae: 1.5634 - val_loss: 14.3783 - val_mse: 14.3783 - val_mae: 2.5514\n",
      "Epoch 48/50\n",
      "270/270 [==============================] - 0s 478us/sample - loss: 4.0947 - mse: 4.0947 - mae: 1.5113 - val_loss: 14.8048 - val_mse: 14.8048 - val_mae: 2.6123\n",
      "Epoch 49/50\n",
      "270/270 [==============================] - 0s 484us/sample - loss: 4.0376 - mse: 4.0376 - mae: 1.4877 - val_loss: 14.4594 - val_mse: 14.4594 - val_mae: 2.5584\n",
      "Epoch 50/50\n",
      "270/270 [==============================] - 0s 497us/sample - loss: 4.0920 - mse: 4.0920 - mae: 1.4953 - val_loss: 15.8213 - val_mse: 15.8213 - val_mae: 2.7546\n"
     ]
    },
    {
     "data": {
      "text/plain": [
       "<tensorflow.python.keras.callbacks.History at 0x7feb1e531780>"
      ]
     },
     "execution_count": 8,
     "metadata": {},
     "output_type": "execute_result"
    }
   ],
   "source": [
    "wandb.init(project=\"boston\", entity=\"lambda-ds7\") #Initializes and Experiment\n",
    "\n",
    "# Important Hyperparameters\n",
    "X =  x_train\n",
    "y =  y_train\n",
    "\n",
    "inputs = X.shape[1]\n",
    "wandb.config.epochs = 50\n",
    "wandb.config.batch_size = 10\n",
    "\n",
    "# Create Model\n",
    "model = Sequential()\n",
    "model.add(Dense(64, activation='relu', input_shape=(inputs,)))\n",
    "model.add(Dense(64, activation='relu'))\n",
    "model.add(Dense(64, activation='relu'))\n",
    "model.add(Dense(1))\n",
    "# Compile Model\n",
    "model.compile(optimizer='adam', loss='mse', metrics=['mse', 'mae'])\n",
    "\n",
    "# Fit Model\n",
    "model.fit(X, y, \n",
    "          validation_split=0.33, \n",
    "          epochs=wandb.config.epochs, \n",
    "          batch_size=wandb.config.batch_size, \n",
    "          callbacks=[WandbCallback()]\n",
    "         )"
   ]
  },
  {
   "cell_type": "markdown",
   "metadata": {},
   "source": [
    "## Challenge\n",
    "\n",
    "You will be expected to use Weights & Biases to try to tune your model during your module assignment today. "
   ]
  },
  {
   "cell_type": "markdown",
   "metadata": {},
   "source": [
    "# Hyperparameters with RandomSearchCV (Learn)"
   ]
  },
  {
   "cell_type": "markdown",
   "metadata": {},
   "source": [
    "## Overview\n",
    "\n",
    "Basically `GridSearchCV` takes forever. You'll want to adopt a slightly more sophiscated strategy."
   ]
  },
  {
   "cell_type": "markdown",
   "metadata": {},
   "source": [
    "## Follow Along"
   ]
  },
  {
   "cell_type": "code",
   "execution_count": 9,
   "metadata": {},
   "outputs": [],
   "source": [
    "sweep_config = {\n",
    "    'method': 'random',\n",
    "    'parameters': {\n",
    "        'learning_rate': {'distribution': 'normal'},\n",
    "        'epochs': {'distribution': 'uniform',\n",
    "                    'min': 100,\n",
    "                    'max': 1000},\n",
    "        'batch_size': {'distribution': 'uniform',\n",
    "            'min': 10,\n",
    "            'max': 400}\n",
    "    }\n",
    "}"
   ]
  },
  {
   "cell_type": "code",
   "execution_count": 10,
   "metadata": {},
   "outputs": [
    {
     "name": "stdout",
     "output_type": "stream",
     "text": [
      "Create sweep with ID: w55nffki\n",
      "Sweep URL: https://app.wandb.ai/lambda-ds7/boston/sweeps/w55nffki\n"
     ]
    }
   ],
   "source": [
    "sweep_id = wandb.sweep(sweep_config)"
   ]
  },
  {
   "cell_type": "code",
   "execution_count": 11,
   "metadata": {},
   "outputs": [],
   "source": [
    "import wandb\n",
    "from wandb.keras import WandbCallback\n",
    "#Initializes and Experiment\n",
    "\n",
    "from tensorflow.keras.optimizers import Adam\n",
    "\n",
    "# Important Hyperparameters\n",
    "X =  x_train\n",
    "y =  y_train\n",
    "\n",
    "inputs = X.shape[1]\n",
    "\n",
    "def train():\n",
    "    \n",
    "    wandb.init(project=\"boston\", entity=\"lambda-ds7\") \n",
    "    \n",
    "    config = wandb.config\n",
    "\n",
    "    # Create Model\n",
    "    model = Sequential()\n",
    "    model.add(Dense(64, activation='relu', input_shape=(inputs,)))\n",
    "    model.add(Dense(64, activation='relu'))\n",
    "    model.add(Dense(64, activation='relu'))\n",
    "    model.add(Dense(1))\n",
    "\n",
    "    # Optimizer \n",
    "    adam = Adam(learning_rate=config.learning_rate)\n",
    "\n",
    "    # Compile Model\n",
    "    model.compile(optimizer=adam, loss='mse', metrics=['mse', 'mae'])\n",
    "\n",
    "    # Fit Model\n",
    "    model.fit(X, y, \n",
    "              validation_split=0.33, \n",
    "              epochs=config.epochs, \n",
    "              batch_size=config.batch_size, \n",
    "              callbacks=[WandbCallback()]\n",
    "             )"
   ]
  },
  {
   "cell_type": "code",
   "execution_count": null,
   "metadata": {},
   "outputs": [
    {
     "name": "stdout",
     "output_type": "stream",
     "text": [
      "wandb: Agent Starting Run: 9jlx8mdx with config:\n",
      "\tbatch_size: 321.9792009087659\n",
      "\tepochs: 467.3651566477609\n",
      "\tlearning_rate: 0.8466647727385208\n",
      "wandb: Agent Started Run: 9jlx8mdx\n"
     ]
    },
    {
     "data": {
      "text/html": [
       "\n",
       "                Logging results to <a href=\"https://wandb.com\" target=\"_blank\">Weights & Biases</a> <a href=\"https://docs.wandb.com/integrations/jupyter.html\" target=\"_blank\">(Documentation)</a>.<br/>\n",
       "                Project page: <a href=\"https://app.wandb.ai/lambda-ds7/boston\" target=\"_blank\">https://app.wandb.ai/lambda-ds7/boston</a><br/>\n",
       "                Run page: <a href=\"https://app.wandb.ai/lambda-ds7/boston/runs/o4dzia68\" target=\"_blank\">https://app.wandb.ai/lambda-ds7/boston/runs/o4dzia68</a><br/>\n",
       "            "
      ],
      "text/plain": [
       "<IPython.core.display.HTML object>"
      ]
     },
     "metadata": {},
     "output_type": "display_data"
    }
   ],
   "source": [
    "wandb.agent(sweep_id, function=train)"
   ]
  },
  {
   "cell_type": "markdown",
   "metadata": {},
   "source": [
    "## Challenge\n",
    "\n",
    "Try to apply RandomSearchCV to your module project today. "
   ]
  },
  {
   "cell_type": "markdown",
   "metadata": {},
   "source": [
    "# Review\n",
    "* <a href=\"#p1\">Part 1</a>: Describe the major hyperparemeters to tune\n",
    "    - Activation Functions\n",
    "    - Optimizer\n",
    "    - Number of Layers\n",
    "    - Number of Neurons\n",
    "    - Batch Size\n",
    "    - Dropout Regulaization\n",
    "    - Learning Rate\n",
    "    - Number of Epochs\n",
    "    - and many more\n",
    "* <a href=\"#p2\">Part 2</a>: Implement an experiment tracking framework\n",
    "    - Weights & Biases\n",
    "    - Comet.ml\n",
    "    - By Hand / GridSearch\n",
    "* <a href=\"#p3\">Part 3</a>: Search the hyperparameter space using RandomSearch\n",
    "    - Sklearn still useful (haha)\n",
    "    - Integration with Wieghts & Biases\n",
    "* <a href=\"#p4\">Part 4</a>: Discuss emerging hyperparameter tuning strategies\n",
    "    - Bayesian Optimization\n",
    "    - Hyperopt\n",
    "    - Genetic Evolution"
   ]
  },
  {
   "cell_type": "markdown",
   "metadata": {},
   "source": [
    "# Sources"
   ]
  },
  {
   "cell_type": "markdown",
   "metadata": {},
   "source": [
    "## Additional Reading\n",
    "- https://machinelearningmastery.com/grid-search-hyperparameters-deep-learning-models-python-keras/\n",
    "- https://blog.floydhub.com/guide-to-hyperparameters-search-for-deep-learning-models/\n",
    "- https://machinelearningmastery.com/dropout-regularization-deep-learning-models-keras/\n",
    "- https://machinelearningmastery.com/introduction-to-weight-constraints-to-reduce-generalization-error-in-deep-learning/\n",
    "- https://machinelearningmastery.com/how-to-configure-the-number-of-layers-and-nodes-in-a-neural-network/"
   ]
  }
 ],
 "metadata": {
  "kernelspec": {
   "display_name": "Python 3",
   "language": "python",
   "name": "python3"
  },
  "language_info": {
   "codemirror_mode": {
    "name": "ipython",
    "version": 3
   },
   "file_extension": ".py",
   "mimetype": "text/x-python",
   "name": "python",
   "nbconvert_exporter": "python",
   "pygments_lexer": "ipython3",
   "version": "3.6.8"
  }
 },
 "nbformat": 4,
 "nbformat_minor": 4
}
